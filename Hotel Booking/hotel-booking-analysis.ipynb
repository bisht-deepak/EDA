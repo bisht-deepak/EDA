{
 "cells": [
  {
   "cell_type": "markdown",
   "id": "4da66131",
   "metadata": {
    "id": "vncDsAP0Gaoa",
    "papermill": {
     "duration": 0.033906,
     "end_time": "2023-03-22T05:51:48.858479",
     "exception": false,
     "start_time": "2023-03-22T05:51:48.824573",
     "status": "completed"
    },
    "tags": []
   },
   "source": [
    "# **Project Name**    - Hotel Booking Analysis\n",
    "\n"
   ]
  },
  {
   "cell_type": "markdown",
   "id": "058f6f14",
   "metadata": {
    "id": "beRrZCGUAJYm",
    "papermill": {
     "duration": 0.02787,
     "end_time": "2023-03-22T05:51:48.915211",
     "exception": false,
     "start_time": "2023-03-22T05:51:48.887341",
     "status": "completed"
    },
    "tags": []
   },
   "source": [
    "##### **Project Type**    - EDA\n",
    "##### **Contribution**    - Individual\n",
    "##### **Team Member 1** - Deepak Singh Bisht\n",
    "##### **Team Member 2** -\n",
    "##### **Team Member 3** - "
   ]
  },
  {
   "cell_type": "markdown",
   "id": "c76c543c",
   "metadata": {
    "id": "FJNUwmbgGyua",
    "papermill": {
     "duration": 0.028158,
     "end_time": "2023-03-22T05:51:48.971904",
     "exception": false,
     "start_time": "2023-03-22T05:51:48.943746",
     "status": "completed"
    },
    "tags": []
   },
   "source": [
    "# **Project Summary -**"
   ]
  },
  {
   "cell_type": "markdown",
   "id": "199275ab",
   "metadata": {
    "id": "F6v_1wHtG2nS",
    "papermill": {
     "duration": 0.027644,
     "end_time": "2023-03-22T05:51:49.028454",
     "exception": false,
     "start_time": "2023-03-22T05:51:49.000810",
     "status": "completed"
    },
    "tags": []
   },
   "source": [
    "Write the summary here within 500-600 words."
   ]
  },
  {
   "cell_type": "markdown",
   "id": "944ff501",
   "metadata": {
    "id": "w6K7xa23Elo4",
    "papermill": {
     "duration": 0.027963,
     "end_time": "2023-03-22T05:51:49.085444",
     "exception": false,
     "start_time": "2023-03-22T05:51:49.057481",
     "status": "completed"
    },
    "tags": []
   },
   "source": [
    "# **GitHub Link -**"
   ]
  },
  {
   "cell_type": "markdown",
   "id": "369ea965",
   "metadata": {
    "id": "h1o69JH3Eqqn",
    "papermill": {
     "duration": 0.027766,
     "end_time": "2023-03-22T05:51:49.142128",
     "exception": false,
     "start_time": "2023-03-22T05:51:49.114362",
     "status": "completed"
    },
    "tags": []
   },
   "source": [
    "Provide your GitHub Link here."
   ]
  },
  {
   "cell_type": "markdown",
   "id": "21ed8463",
   "metadata": {
    "id": "yQaldy8SH6Dl",
    "papermill": {
     "duration": 0.028547,
     "end_time": "2023-03-22T05:51:49.198923",
     "exception": false,
     "start_time": "2023-03-22T05:51:49.170376",
     "status": "completed"
    },
    "tags": []
   },
   "source": [
    "# **Problem Statement**\n"
   ]
  },
  {
   "cell_type": "markdown",
   "id": "bf042d78",
   "metadata": {
    "id": "DpeJGUA3kjGy",
    "papermill": {
     "duration": 0.02834,
     "end_time": "2023-03-22T05:51:49.256296",
     "exception": false,
     "start_time": "2023-03-22T05:51:49.227956",
     "status": "completed"
    },
    "tags": []
   },
   "source": [
    "**Write Problem Statement Here.**"
   ]
  },
  {
   "cell_type": "markdown",
   "id": "f0c64360",
   "metadata": {
    "id": "PH-0ReGfmX4f",
    "papermill": {
     "duration": 0.028799,
     "end_time": "2023-03-22T05:51:49.313107",
     "exception": false,
     "start_time": "2023-03-22T05:51:49.284308",
     "status": "completed"
    },
    "tags": []
   },
   "source": [
    "#### **Define Your Business Objective?**"
   ]
  },
  {
   "cell_type": "markdown",
   "id": "3778dd1e",
   "metadata": {
    "id": "PhDvGCAqmjP1",
    "papermill": {
     "duration": 0.027822,
     "end_time": "2023-03-22T05:51:49.369290",
     "exception": false,
     "start_time": "2023-03-22T05:51:49.341468",
     "status": "completed"
    },
    "tags": []
   },
   "source": [
    "Answer Here."
   ]
  },
  {
   "cell_type": "markdown",
   "id": "c2624a43",
   "metadata": {
    "id": "mDgbUHAGgjLW",
    "papermill": {
     "duration": 0.027521,
     "end_time": "2023-03-22T05:51:49.425142",
     "exception": false,
     "start_time": "2023-03-22T05:51:49.397621",
     "status": "completed"
    },
    "tags": []
   },
   "source": [
    "# **General Guidelines** : -  "
   ]
  },
  {
   "cell_type": "markdown",
   "id": "6086aced",
   "metadata": {
    "id": "ZrxVaUj-hHfC",
    "papermill": {
     "duration": 0.028233,
     "end_time": "2023-03-22T05:51:49.482010",
     "exception": false,
     "start_time": "2023-03-22T05:51:49.453777",
     "status": "completed"
    },
    "tags": []
   },
   "source": [
    "1.   Well-structured, formatted, and commented code is required. \n",
    "2.   Exception Handling, Production Grade Code & Deployment Ready Code will be a plus. Those students will be awarded some additional credits. \n",
    "     \n",
    "     The additional credits will have advantages over other students during Star Student selection.\n",
    "       \n",
    "             [ Note: - Deployment Ready Code is defined as, the whole .ipynb notebook should be executable in one go\n",
    "                       without a single error logged. ]\n",
    "\n",
    "3.   Each and every logic should have proper comments.\n",
    "4. You may add as many number of charts you want. Make Sure for each and every chart the following format should be answered.\n",
    "        \n",
    "\n",
    "```\n",
    "# Chart visualization code\n",
    "```\n",
    "            \n",
    "\n",
    "*   Why did you pick the specific chart?\n",
    "*   What is/are the insight(s) found from the chart?\n",
    "* Will the gained insights help creating a positive business impact? \n",
    "Are there any insights that lead to negative growth? Justify with specific reason.\n",
    "\n",
    "5. You have to create at least 20 logical & meaningful charts having important insights.\n",
    "\n",
    "\n",
    "[ Hints : - Do the Vizualization in  a structured way while following \"UBM\" Rule. \n",
    "\n",
    "U - Univariate Analysis,\n",
    "\n",
    "B - Bivariate Analysis (Numerical - Categorical, Numerical - Numerical, Categorical - Categorical)\n",
    "\n",
    "M - Multivariate Analysis\n",
    " ]\n",
    "\n",
    "\n",
    "\n"
   ]
  },
  {
   "cell_type": "markdown",
   "id": "beb10a3a",
   "metadata": {
    "id": "O_i_v8NEhb9l",
    "papermill": {
     "duration": 0.027599,
     "end_time": "2023-03-22T05:51:49.537759",
     "exception": false,
     "start_time": "2023-03-22T05:51:49.510160",
     "status": "completed"
    },
    "tags": []
   },
   "source": [
    "# ***Let's Begin !***"
   ]
  },
  {
   "cell_type": "markdown",
   "id": "114622de",
   "metadata": {
    "id": "HhfV-JJviCcP",
    "papermill": {
     "duration": 0.027729,
     "end_time": "2023-03-22T05:51:49.594441",
     "exception": false,
     "start_time": "2023-03-22T05:51:49.566712",
     "status": "completed"
    },
    "tags": []
   },
   "source": [
    "## ***1. Know Your Data***"
   ]
  },
  {
   "cell_type": "markdown",
   "id": "b40ece86",
   "metadata": {
    "id": "Y3lxredqlCYt",
    "papermill": {
     "duration": 0.027462,
     "end_time": "2023-03-22T05:51:49.649791",
     "exception": false,
     "start_time": "2023-03-22T05:51:49.622329",
     "status": "completed"
    },
    "tags": []
   },
   "source": [
    "### Import Libraries"
   ]
  },
  {
   "cell_type": "code",
   "execution_count": 1,
   "id": "960f240e",
   "metadata": {
    "execution": {
     "iopub.execute_input": "2023-03-22T05:51:49.708454Z",
     "iopub.status.busy": "2023-03-22T05:51:49.707813Z",
     "iopub.status.idle": "2023-03-22T05:51:53.645143Z",
     "shell.execute_reply": "2023-03-22T05:51:53.643593Z"
    },
    "id": "M8Vqi-pPk-HR",
    "papermill": {
     "duration": 3.97081,
     "end_time": "2023-03-22T05:51:53.648574",
     "exception": false,
     "start_time": "2023-03-22T05:51:49.677764",
     "status": "completed"
    },
    "tags": []
   },
   "outputs": [
    {
     "name": "stderr",
     "output_type": "stream",
     "text": [
      "/opt/conda/lib/python3.7/site-packages/geopandas/_compat.py:115: UserWarning: The Shapely GEOS version (3.9.1-CAPI-1.14.2) is incompatible with the GEOS version PyGEOS was compiled with (3.10.4-CAPI-1.16.2). Conversions between both will be slow.\n",
      "  shapely_geos_version, geos_capi_version_string\n"
     ]
    }
   ],
   "source": [
    "# Import Libraries\n",
    "import numpy as np\n",
    "\n",
    "import pandas as pd\n",
    "from pandas.api.types import CategoricalDtype\n",
    "pd.set_option('display.max_columns', None)\n",
    "\n",
    "from datetime import datetime\n",
    "\n",
    "import matplotlib.pyplot as plt\n",
    "from matplotlib.ticker import PercentFormatter\n",
    "%matplotlib inline\n",
    "\n",
    "import seaborn as sns\n",
    "sns.set_style(\"white\")\n",
    "sns.set_palette(\"pastel\")\n",
    "\n",
    "import plotly.express as px\n",
    "\n",
    "import geopandas as gpd"
   ]
  },
  {
   "cell_type": "markdown",
   "id": "a977bd6e",
   "metadata": {
    "id": "3RnN4peoiCZX",
    "papermill": {
     "duration": 0.028956,
     "end_time": "2023-03-22T05:51:53.706197",
     "exception": false,
     "start_time": "2023-03-22T05:51:53.677241",
     "status": "completed"
    },
    "tags": []
   },
   "source": [
    "### Dataset Loading"
   ]
  },
  {
   "cell_type": "code",
   "execution_count": 2,
   "id": "3a5a689a",
   "metadata": {
    "execution": {
     "iopub.execute_input": "2023-03-22T05:51:53.770654Z",
     "iopub.status.busy": "2023-03-22T05:51:53.769075Z",
     "iopub.status.idle": "2023-03-22T05:51:54.980633Z",
     "shell.execute_reply": "2023-03-22T05:51:54.979396Z"
    },
    "id": "4CkvbW_SlZ_R",
    "papermill": {
     "duration": 1.247971,
     "end_time": "2023-03-22T05:51:54.983951",
     "exception": false,
     "start_time": "2023-03-22T05:51:53.735980",
     "status": "completed"
    },
    "tags": []
   },
   "outputs": [],
   "source": [
    "# Load Dataset\n",
    "hotels_df= pd.read_csv(\"/kaggle/input/hotel-booking/hotel_booking.csv\")"
   ]
  },
  {
   "cell_type": "markdown",
   "id": "c4f247b3",
   "metadata": {
    "id": "x71ZqKXriCWQ",
    "papermill": {
     "duration": 0.028029,
     "end_time": "2023-03-22T05:51:55.041523",
     "exception": false,
     "start_time": "2023-03-22T05:51:55.013494",
     "status": "completed"
    },
    "tags": []
   },
   "source": [
    "### Dataset First View"
   ]
  },
  {
   "cell_type": "code",
   "execution_count": 3,
   "id": "eeef8c31",
   "metadata": {
    "execution": {
     "iopub.execute_input": "2023-03-22T05:51:55.102952Z",
     "iopub.status.busy": "2023-03-22T05:51:55.101368Z",
     "iopub.status.idle": "2023-03-22T05:51:55.156198Z",
     "shell.execute_reply": "2023-03-22T05:51:55.154673Z"
    },
    "id": "LWNFOSvLl09H",
    "papermill": {
     "duration": 0.088313,
     "end_time": "2023-03-22T05:51:55.159245",
     "exception": false,
     "start_time": "2023-03-22T05:51:55.070932",
     "status": "completed"
    },
    "tags": []
   },
   "outputs": [
    {
     "data": {
      "text/html": [
       "<div>\n",
       "<style scoped>\n",
       "    .dataframe tbody tr th:only-of-type {\n",
       "        vertical-align: middle;\n",
       "    }\n",
       "\n",
       "    .dataframe tbody tr th {\n",
       "        vertical-align: top;\n",
       "    }\n",
       "\n",
       "    .dataframe thead th {\n",
       "        text-align: right;\n",
       "    }\n",
       "</style>\n",
       "<table border=\"1\" class=\"dataframe\">\n",
       "  <thead>\n",
       "    <tr style=\"text-align: right;\">\n",
       "      <th></th>\n",
       "      <th>hotel</th>\n",
       "      <th>is_canceled</th>\n",
       "      <th>lead_time</th>\n",
       "      <th>arrival_date_year</th>\n",
       "      <th>arrival_date_month</th>\n",
       "      <th>arrival_date_week_number</th>\n",
       "      <th>arrival_date_day_of_month</th>\n",
       "      <th>stays_in_weekend_nights</th>\n",
       "      <th>stays_in_week_nights</th>\n",
       "      <th>adults</th>\n",
       "      <th>children</th>\n",
       "      <th>babies</th>\n",
       "      <th>meal</th>\n",
       "      <th>country</th>\n",
       "      <th>market_segment</th>\n",
       "      <th>distribution_channel</th>\n",
       "      <th>is_repeated_guest</th>\n",
       "      <th>previous_cancellations</th>\n",
       "      <th>previous_bookings_not_canceled</th>\n",
       "      <th>reserved_room_type</th>\n",
       "      <th>assigned_room_type</th>\n",
       "      <th>booking_changes</th>\n",
       "      <th>deposit_type</th>\n",
       "      <th>agent</th>\n",
       "      <th>company</th>\n",
       "      <th>days_in_waiting_list</th>\n",
       "      <th>customer_type</th>\n",
       "      <th>adr</th>\n",
       "      <th>required_car_parking_spaces</th>\n",
       "      <th>total_of_special_requests</th>\n",
       "      <th>reservation_status</th>\n",
       "      <th>reservation_status_date</th>\n",
       "      <th>name</th>\n",
       "      <th>email</th>\n",
       "      <th>phone-number</th>\n",
       "      <th>credit_card</th>\n",
       "    </tr>\n",
       "  </thead>\n",
       "  <tbody>\n",
       "    <tr>\n",
       "      <th>0</th>\n",
       "      <td>Resort Hotel</td>\n",
       "      <td>0</td>\n",
       "      <td>342</td>\n",
       "      <td>2015</td>\n",
       "      <td>July</td>\n",
       "      <td>27</td>\n",
       "      <td>1</td>\n",
       "      <td>0</td>\n",
       "      <td>0</td>\n",
       "      <td>2</td>\n",
       "      <td>0.0</td>\n",
       "      <td>0</td>\n",
       "      <td>BB</td>\n",
       "      <td>PRT</td>\n",
       "      <td>Direct</td>\n",
       "      <td>Direct</td>\n",
       "      <td>0</td>\n",
       "      <td>0</td>\n",
       "      <td>0</td>\n",
       "      <td>C</td>\n",
       "      <td>C</td>\n",
       "      <td>3</td>\n",
       "      <td>No Deposit</td>\n",
       "      <td>NaN</td>\n",
       "      <td>NaN</td>\n",
       "      <td>0</td>\n",
       "      <td>Transient</td>\n",
       "      <td>0.0</td>\n",
       "      <td>0</td>\n",
       "      <td>0</td>\n",
       "      <td>Check-Out</td>\n",
       "      <td>2015-07-01</td>\n",
       "      <td>Ernest Barnes</td>\n",
       "      <td>Ernest.Barnes31@outlook.com</td>\n",
       "      <td>669-792-1661</td>\n",
       "      <td>************4322</td>\n",
       "    </tr>\n",
       "    <tr>\n",
       "      <th>1</th>\n",
       "      <td>Resort Hotel</td>\n",
       "      <td>0</td>\n",
       "      <td>737</td>\n",
       "      <td>2015</td>\n",
       "      <td>July</td>\n",
       "      <td>27</td>\n",
       "      <td>1</td>\n",
       "      <td>0</td>\n",
       "      <td>0</td>\n",
       "      <td>2</td>\n",
       "      <td>0.0</td>\n",
       "      <td>0</td>\n",
       "      <td>BB</td>\n",
       "      <td>PRT</td>\n",
       "      <td>Direct</td>\n",
       "      <td>Direct</td>\n",
       "      <td>0</td>\n",
       "      <td>0</td>\n",
       "      <td>0</td>\n",
       "      <td>C</td>\n",
       "      <td>C</td>\n",
       "      <td>4</td>\n",
       "      <td>No Deposit</td>\n",
       "      <td>NaN</td>\n",
       "      <td>NaN</td>\n",
       "      <td>0</td>\n",
       "      <td>Transient</td>\n",
       "      <td>0.0</td>\n",
       "      <td>0</td>\n",
       "      <td>0</td>\n",
       "      <td>Check-Out</td>\n",
       "      <td>2015-07-01</td>\n",
       "      <td>Andrea Baker</td>\n",
       "      <td>Andrea_Baker94@aol.com</td>\n",
       "      <td>858-637-6955</td>\n",
       "      <td>************9157</td>\n",
       "    </tr>\n",
       "    <tr>\n",
       "      <th>2</th>\n",
       "      <td>Resort Hotel</td>\n",
       "      <td>0</td>\n",
       "      <td>7</td>\n",
       "      <td>2015</td>\n",
       "      <td>July</td>\n",
       "      <td>27</td>\n",
       "      <td>1</td>\n",
       "      <td>0</td>\n",
       "      <td>1</td>\n",
       "      <td>1</td>\n",
       "      <td>0.0</td>\n",
       "      <td>0</td>\n",
       "      <td>BB</td>\n",
       "      <td>GBR</td>\n",
       "      <td>Direct</td>\n",
       "      <td>Direct</td>\n",
       "      <td>0</td>\n",
       "      <td>0</td>\n",
       "      <td>0</td>\n",
       "      <td>A</td>\n",
       "      <td>C</td>\n",
       "      <td>0</td>\n",
       "      <td>No Deposit</td>\n",
       "      <td>NaN</td>\n",
       "      <td>NaN</td>\n",
       "      <td>0</td>\n",
       "      <td>Transient</td>\n",
       "      <td>75.0</td>\n",
       "      <td>0</td>\n",
       "      <td>0</td>\n",
       "      <td>Check-Out</td>\n",
       "      <td>2015-07-02</td>\n",
       "      <td>Rebecca Parker</td>\n",
       "      <td>Rebecca_Parker@comcast.net</td>\n",
       "      <td>652-885-2745</td>\n",
       "      <td>************3734</td>\n",
       "    </tr>\n",
       "    <tr>\n",
       "      <th>3</th>\n",
       "      <td>Resort Hotel</td>\n",
       "      <td>0</td>\n",
       "      <td>13</td>\n",
       "      <td>2015</td>\n",
       "      <td>July</td>\n",
       "      <td>27</td>\n",
       "      <td>1</td>\n",
       "      <td>0</td>\n",
       "      <td>1</td>\n",
       "      <td>1</td>\n",
       "      <td>0.0</td>\n",
       "      <td>0</td>\n",
       "      <td>BB</td>\n",
       "      <td>GBR</td>\n",
       "      <td>Corporate</td>\n",
       "      <td>Corporate</td>\n",
       "      <td>0</td>\n",
       "      <td>0</td>\n",
       "      <td>0</td>\n",
       "      <td>A</td>\n",
       "      <td>A</td>\n",
       "      <td>0</td>\n",
       "      <td>No Deposit</td>\n",
       "      <td>304.0</td>\n",
       "      <td>NaN</td>\n",
       "      <td>0</td>\n",
       "      <td>Transient</td>\n",
       "      <td>75.0</td>\n",
       "      <td>0</td>\n",
       "      <td>0</td>\n",
       "      <td>Check-Out</td>\n",
       "      <td>2015-07-02</td>\n",
       "      <td>Laura Murray</td>\n",
       "      <td>Laura_M@gmail.com</td>\n",
       "      <td>364-656-8427</td>\n",
       "      <td>************5677</td>\n",
       "    </tr>\n",
       "    <tr>\n",
       "      <th>4</th>\n",
       "      <td>Resort Hotel</td>\n",
       "      <td>0</td>\n",
       "      <td>14</td>\n",
       "      <td>2015</td>\n",
       "      <td>July</td>\n",
       "      <td>27</td>\n",
       "      <td>1</td>\n",
       "      <td>0</td>\n",
       "      <td>2</td>\n",
       "      <td>2</td>\n",
       "      <td>0.0</td>\n",
       "      <td>0</td>\n",
       "      <td>BB</td>\n",
       "      <td>GBR</td>\n",
       "      <td>Online TA</td>\n",
       "      <td>TA/TO</td>\n",
       "      <td>0</td>\n",
       "      <td>0</td>\n",
       "      <td>0</td>\n",
       "      <td>A</td>\n",
       "      <td>A</td>\n",
       "      <td>0</td>\n",
       "      <td>No Deposit</td>\n",
       "      <td>240.0</td>\n",
       "      <td>NaN</td>\n",
       "      <td>0</td>\n",
       "      <td>Transient</td>\n",
       "      <td>98.0</td>\n",
       "      <td>0</td>\n",
       "      <td>1</td>\n",
       "      <td>Check-Out</td>\n",
       "      <td>2015-07-03</td>\n",
       "      <td>Linda Hines</td>\n",
       "      <td>LHines@verizon.com</td>\n",
       "      <td>713-226-5883</td>\n",
       "      <td>************5498</td>\n",
       "    </tr>\n",
       "  </tbody>\n",
       "</table>\n",
       "</div>"
      ],
      "text/plain": [
       "          hotel  is_canceled  lead_time  arrival_date_year arrival_date_month  \\\n",
       "0  Resort Hotel            0        342               2015               July   \n",
       "1  Resort Hotel            0        737               2015               July   \n",
       "2  Resort Hotel            0          7               2015               July   \n",
       "3  Resort Hotel            0         13               2015               July   \n",
       "4  Resort Hotel            0         14               2015               July   \n",
       "\n",
       "   arrival_date_week_number  arrival_date_day_of_month  \\\n",
       "0                        27                          1   \n",
       "1                        27                          1   \n",
       "2                        27                          1   \n",
       "3                        27                          1   \n",
       "4                        27                          1   \n",
       "\n",
       "   stays_in_weekend_nights  stays_in_week_nights  adults  children  babies  \\\n",
       "0                        0                     0       2       0.0       0   \n",
       "1                        0                     0       2       0.0       0   \n",
       "2                        0                     1       1       0.0       0   \n",
       "3                        0                     1       1       0.0       0   \n",
       "4                        0                     2       2       0.0       0   \n",
       "\n",
       "  meal country market_segment distribution_channel  is_repeated_guest  \\\n",
       "0   BB     PRT         Direct               Direct                  0   \n",
       "1   BB     PRT         Direct               Direct                  0   \n",
       "2   BB     GBR         Direct               Direct                  0   \n",
       "3   BB     GBR      Corporate            Corporate                  0   \n",
       "4   BB     GBR      Online TA                TA/TO                  0   \n",
       "\n",
       "   previous_cancellations  previous_bookings_not_canceled reserved_room_type  \\\n",
       "0                       0                               0                  C   \n",
       "1                       0                               0                  C   \n",
       "2                       0                               0                  A   \n",
       "3                       0                               0                  A   \n",
       "4                       0                               0                  A   \n",
       "\n",
       "  assigned_room_type  booking_changes deposit_type  agent  company  \\\n",
       "0                  C                3   No Deposit    NaN      NaN   \n",
       "1                  C                4   No Deposit    NaN      NaN   \n",
       "2                  C                0   No Deposit    NaN      NaN   \n",
       "3                  A                0   No Deposit  304.0      NaN   \n",
       "4                  A                0   No Deposit  240.0      NaN   \n",
       "\n",
       "   days_in_waiting_list customer_type   adr  required_car_parking_spaces  \\\n",
       "0                     0     Transient   0.0                            0   \n",
       "1                     0     Transient   0.0                            0   \n",
       "2                     0     Transient  75.0                            0   \n",
       "3                     0     Transient  75.0                            0   \n",
       "4                     0     Transient  98.0                            0   \n",
       "\n",
       "   total_of_special_requests reservation_status reservation_status_date  \\\n",
       "0                          0          Check-Out              2015-07-01   \n",
       "1                          0          Check-Out              2015-07-01   \n",
       "2                          0          Check-Out              2015-07-02   \n",
       "3                          0          Check-Out              2015-07-02   \n",
       "4                          1          Check-Out              2015-07-03   \n",
       "\n",
       "             name                        email  phone-number       credit_card  \n",
       "0   Ernest Barnes  Ernest.Barnes31@outlook.com  669-792-1661  ************4322  \n",
       "1    Andrea Baker       Andrea_Baker94@aol.com  858-637-6955  ************9157  \n",
       "2  Rebecca Parker   Rebecca_Parker@comcast.net  652-885-2745  ************3734  \n",
       "3    Laura Murray            Laura_M@gmail.com  364-656-8427  ************5677  \n",
       "4     Linda Hines           LHines@verizon.com  713-226-5883  ************5498  "
      ]
     },
     "execution_count": 3,
     "metadata": {},
     "output_type": "execute_result"
    }
   ],
   "source": [
    "# Dataset First Look\n",
    "hotels_df.head()"
   ]
  },
  {
   "cell_type": "markdown",
   "id": "5cb45799",
   "metadata": {
    "id": "7hBIi_osiCS2",
    "papermill": {
     "duration": 0.028605,
     "end_time": "2023-03-22T05:51:55.216835",
     "exception": false,
     "start_time": "2023-03-22T05:51:55.188230",
     "status": "completed"
    },
    "tags": []
   },
   "source": [
    "### Dataset Rows & Columns count"
   ]
  },
  {
   "cell_type": "code",
   "execution_count": 4,
   "id": "989a5ec9",
   "metadata": {
    "execution": {
     "iopub.execute_input": "2023-03-22T05:51:55.279184Z",
     "iopub.status.busy": "2023-03-22T05:51:55.278628Z",
     "iopub.status.idle": "2023-03-22T05:51:55.287063Z",
     "shell.execute_reply": "2023-03-22T05:51:55.285528Z"
    },
    "id": "Kllu7SJgmLij",
    "papermill": {
     "duration": 0.043531,
     "end_time": "2023-03-22T05:51:55.289955",
     "exception": false,
     "start_time": "2023-03-22T05:51:55.246424",
     "status": "completed"
    },
    "tags": []
   },
   "outputs": [
    {
     "data": {
      "text/plain": [
       "(119390, 36)"
      ]
     },
     "execution_count": 4,
     "metadata": {},
     "output_type": "execute_result"
    }
   ],
   "source": [
    "# Dataset Rows & Columns count\n",
    "hotels_df.shape"
   ]
  },
  {
   "cell_type": "markdown",
   "id": "6d099370",
   "metadata": {
    "id": "JlHwYmJAmNHm",
    "papermill": {
     "duration": 0.029681,
     "end_time": "2023-03-22T05:51:55.348846",
     "exception": false,
     "start_time": "2023-03-22T05:51:55.319165",
     "status": "completed"
    },
    "tags": []
   },
   "source": [
    "### Dataset Information"
   ]
  },
  {
   "cell_type": "code",
   "execution_count": 5,
   "id": "2ae8acde",
   "metadata": {
    "execution": {
     "iopub.execute_input": "2023-03-22T05:51:55.409467Z",
     "iopub.status.busy": "2023-03-22T05:51:55.408625Z",
     "iopub.status.idle": "2023-03-22T05:51:55.542583Z",
     "shell.execute_reply": "2023-03-22T05:51:55.541208Z"
    },
    "id": "e9hRXRi6meOf",
    "papermill": {
     "duration": 0.168413,
     "end_time": "2023-03-22T05:51:55.546091",
     "exception": false,
     "start_time": "2023-03-22T05:51:55.377678",
     "status": "completed"
    },
    "tags": []
   },
   "outputs": [
    {
     "name": "stdout",
     "output_type": "stream",
     "text": [
      "<class 'pandas.core.frame.DataFrame'>\n",
      "RangeIndex: 119390 entries, 0 to 119389\n",
      "Data columns (total 36 columns):\n",
      " #   Column                          Non-Null Count   Dtype  \n",
      "---  ------                          --------------   -----  \n",
      " 0   hotel                           119390 non-null  object \n",
      " 1   is_canceled                     119390 non-null  int64  \n",
      " 2   lead_time                       119390 non-null  int64  \n",
      " 3   arrival_date_year               119390 non-null  int64  \n",
      " 4   arrival_date_month              119390 non-null  object \n",
      " 5   arrival_date_week_number        119390 non-null  int64  \n",
      " 6   arrival_date_day_of_month       119390 non-null  int64  \n",
      " 7   stays_in_weekend_nights         119390 non-null  int64  \n",
      " 8   stays_in_week_nights            119390 non-null  int64  \n",
      " 9   adults                          119390 non-null  int64  \n",
      " 10  children                        119386 non-null  float64\n",
      " 11  babies                          119390 non-null  int64  \n",
      " 12  meal                            119390 non-null  object \n",
      " 13  country                         118902 non-null  object \n",
      " 14  market_segment                  119390 non-null  object \n",
      " 15  distribution_channel            119390 non-null  object \n",
      " 16  is_repeated_guest               119390 non-null  int64  \n",
      " 17  previous_cancellations          119390 non-null  int64  \n",
      " 18  previous_bookings_not_canceled  119390 non-null  int64  \n",
      " 19  reserved_room_type              119390 non-null  object \n",
      " 20  assigned_room_type              119390 non-null  object \n",
      " 21  booking_changes                 119390 non-null  int64  \n",
      " 22  deposit_type                    119390 non-null  object \n",
      " 23  agent                           103050 non-null  float64\n",
      " 24  company                         6797 non-null    float64\n",
      " 25  days_in_waiting_list            119390 non-null  int64  \n",
      " 26  customer_type                   119390 non-null  object \n",
      " 27  adr                             119390 non-null  float64\n",
      " 28  required_car_parking_spaces     119390 non-null  int64  \n",
      " 29  total_of_special_requests       119390 non-null  int64  \n",
      " 30  reservation_status              119390 non-null  object \n",
      " 31  reservation_status_date         119390 non-null  object \n",
      " 32  name                            119390 non-null  object \n",
      " 33  email                           119390 non-null  object \n",
      " 34  phone-number                    119390 non-null  object \n",
      " 35  credit_card                     119390 non-null  object \n",
      "dtypes: float64(4), int64(16), object(16)\n",
      "memory usage: 32.8+ MB\n"
     ]
    }
   ],
   "source": [
    "# Dataset Info\n",
    "hotels_df.info()"
   ]
  },
  {
   "cell_type": "markdown",
   "id": "ceeeb469",
   "metadata": {
    "id": "35m5QtbWiB9F",
    "papermill": {
     "duration": 0.028891,
     "end_time": "2023-03-22T05:51:55.604463",
     "exception": false,
     "start_time": "2023-03-22T05:51:55.575572",
     "status": "completed"
    },
    "tags": []
   },
   "source": [
    "#### Duplicate Values"
   ]
  },
  {
   "cell_type": "code",
   "execution_count": 6,
   "id": "9fc8db8f",
   "metadata": {
    "execution": {
     "iopub.execute_input": "2023-03-22T05:51:55.666096Z",
     "iopub.status.busy": "2023-03-22T05:51:55.665568Z",
     "iopub.status.idle": "2023-03-22T05:51:56.010529Z",
     "shell.execute_reply": "2023-03-22T05:51:56.009127Z"
    },
    "id": "1sLdpKYkmox0",
    "papermill": {
     "duration": 0.379521,
     "end_time": "2023-03-22T05:51:56.013810",
     "exception": false,
     "start_time": "2023-03-22T05:51:55.634289",
     "status": "completed"
    },
    "tags": []
   },
   "outputs": [
    {
     "data": {
      "text/plain": [
       "0"
      ]
     },
     "execution_count": 6,
     "metadata": {},
     "output_type": "execute_result"
    }
   ],
   "source": [
    "# Dataset Duplicate Value Count\n",
    "len(hotels_df[hotels_df.duplicated()])"
   ]
  },
  {
   "cell_type": "markdown",
   "id": "2a02f430",
   "metadata": {
    "id": "PoPl-ycgm1ru",
    "papermill": {
     "duration": 0.028975,
     "end_time": "2023-03-22T05:51:56.073990",
     "exception": false,
     "start_time": "2023-03-22T05:51:56.045015",
     "status": "completed"
    },
    "tags": []
   },
   "source": [
    "#### Missing Values/Null Values"
   ]
  },
  {
   "cell_type": "code",
   "execution_count": 7,
   "id": "43253310",
   "metadata": {
    "execution": {
     "iopub.execute_input": "2023-03-22T05:51:56.134517Z",
     "iopub.status.busy": "2023-03-22T05:51:56.134037Z",
     "iopub.status.idle": "2023-03-22T05:51:56.246741Z",
     "shell.execute_reply": "2023-03-22T05:51:56.245266Z"
    },
    "id": "GgHWkxvamxVg",
    "papermill": {
     "duration": 0.146439,
     "end_time": "2023-03-22T05:51:56.249497",
     "exception": false,
     "start_time": "2023-03-22T05:51:56.103058",
     "status": "completed"
    },
    "tags": []
   },
   "outputs": [
    {
     "data": {
      "text/plain": [
       "hotel                                  0\n",
       "is_canceled                            0\n",
       "lead_time                              0\n",
       "arrival_date_year                      0\n",
       "arrival_date_month                     0\n",
       "arrival_date_week_number               0\n",
       "arrival_date_day_of_month              0\n",
       "stays_in_weekend_nights                0\n",
       "stays_in_week_nights                   0\n",
       "adults                                 0\n",
       "children                               4\n",
       "babies                                 0\n",
       "meal                                   0\n",
       "country                              488\n",
       "market_segment                         0\n",
       "distribution_channel                   0\n",
       "is_repeated_guest                      0\n",
       "previous_cancellations                 0\n",
       "previous_bookings_not_canceled         0\n",
       "reserved_room_type                     0\n",
       "assigned_room_type                     0\n",
       "booking_changes                        0\n",
       "deposit_type                           0\n",
       "agent                              16340\n",
       "company                           112593\n",
       "days_in_waiting_list                   0\n",
       "customer_type                          0\n",
       "adr                                    0\n",
       "required_car_parking_spaces            0\n",
       "total_of_special_requests              0\n",
       "reservation_status                     0\n",
       "reservation_status_date                0\n",
       "name                                   0\n",
       "email                                  0\n",
       "phone-number                           0\n",
       "credit_card                            0\n",
       "dtype: int64"
      ]
     },
     "execution_count": 7,
     "metadata": {},
     "output_type": "execute_result"
    }
   ],
   "source": [
    "# Missing Values/Null Values Count\n",
    "hotels_df.isnull().sum()"
   ]
  },
  {
   "cell_type": "code",
   "execution_count": 8,
   "id": "4db5732b",
   "metadata": {
    "execution": {
     "iopub.execute_input": "2023-03-22T05:51:56.312436Z",
     "iopub.status.busy": "2023-03-22T05:51:56.310946Z",
     "iopub.status.idle": "2023-03-22T05:51:57.469117Z",
     "shell.execute_reply": "2023-03-22T05:51:57.467503Z"
    },
    "id": "3q5wnI3om9sJ",
    "papermill": {
     "duration": 1.192403,
     "end_time": "2023-03-22T05:51:57.472190",
     "exception": false,
     "start_time": "2023-03-22T05:51:56.279787",
     "status": "completed"
    },
    "tags": []
   },
   "outputs": [
    {
     "data": {
      "image/png": "[encoded data removed]",
      "text/plain": [
       "<Figure size 640x480 with 1 Axes>"
      ]
     },
     "metadata": {},
     "output_type": "display_data"
    }
   ],
   "source": [
    "# Visualizing the missing values\n",
    "cols_with_null_values= [col for col in hotels_df.columns if hotels_df[col].isna().sum()>0]\n",
    "\n",
    "sns.heatmap(hotels_df[cols_with_null_values].isnull(), cbar=False)\n",
    "plt.show()"
   ]
  },
  {
   "cell_type": "markdown",
   "id": "64a66798",
   "metadata": {
    "id": "H0kj-8xxnORC",
    "papermill": {
     "duration": 0.040882,
     "end_time": "2023-03-22T05:51:57.543484",
     "exception": false,
     "start_time": "2023-03-22T05:51:57.502602",
     "status": "completed"
    },
    "tags": []
   },
   "source": [
    "### What did you know about your dataset?"
   ]
  },
  {
   "cell_type": "markdown",
   "id": "d849b336",
   "metadata": {
    "id": "gfoNAAC-nUe_",
    "papermill": {
     "duration": 0.037872,
     "end_time": "2023-03-22T05:51:57.624248",
     "exception": false,
     "start_time": "2023-03-22T05:51:57.586376",
     "status": "completed"
    },
    "tags": []
   },
   "source": [
    "Answer Here"
   ]
  },
  {
   "cell_type": "markdown",
   "id": "e3130e38",
   "metadata": {
    "id": "nA9Y7ga8ng1Z",
    "papermill": {
     "duration": 0.029786,
     "end_time": "2023-03-22T05:51:57.684077",
     "exception": false,
     "start_time": "2023-03-22T05:51:57.654291",
     "status": "completed"
    },
    "tags": []
   },
   "source": [
    "## ***2. Understanding Your Variables***"
   ]
  },
  {
   "cell_type": "code",
   "execution_count": 9,
   "id": "309b4454",
   "metadata": {
    "execution": {
     "iopub.execute_input": "2023-03-22T05:51:57.746841Z",
     "iopub.status.busy": "2023-03-22T05:51:57.746112Z",
     "iopub.status.idle": "2023-03-22T05:51:57.754500Z",
     "shell.execute_reply": "2023-03-22T05:51:57.753471Z"
    },
    "id": "j7xfkqrt5Ag5",
    "papermill": {
     "duration": 0.04264,
     "end_time": "2023-03-22T05:51:57.756863",
     "exception": false,
     "start_time": "2023-03-22T05:51:57.714223",
     "status": "completed"
    },
    "tags": []
   },
   "outputs": [
    {
     "data": {
      "text/plain": [
       "Index(['hotel', 'is_canceled', 'lead_time', 'arrival_date_year',\n",
       "       'arrival_date_month', 'arrival_date_week_number',\n",
       "       'arrival_date_day_of_month', 'stays_in_weekend_nights',\n",
       "       'stays_in_week_nights', 'adults', 'children', 'babies', 'meal',\n",
       "       'country', 'market_segment', 'distribution_channel',\n",
       "       'is_repeated_guest', 'previous_cancellations',\n",
       "       'previous_bookings_not_canceled', 'reserved_room_type',\n",
       "       'assigned_room_type', 'booking_changes', 'deposit_type', 'agent',\n",
       "       'company', 'days_in_waiting_list', 'customer_type', 'adr',\n",
       "       'required_car_parking_spaces', 'total_of_special_requests',\n",
       "       'reservation_status', 'reservation_status_date', 'name', 'email',\n",
       "       'phone-number', 'credit_card'],\n",
       "      dtype='object')"
      ]
     },
     "execution_count": 9,
     "metadata": {},
     "output_type": "execute_result"
    }
   ],
   "source": [
    "# Dataset Columns\n",
    "hotels_df.columns"
   ]
  },
  {
   "cell_type": "code",
   "execution_count": 10,
   "id": "9dc3c340",
   "metadata": {
    "execution": {
     "iopub.execute_input": "2023-03-22T05:51:57.820355Z",
     "iopub.status.busy": "2023-03-22T05:51:57.818940Z",
     "iopub.status.idle": "2023-03-22T05:51:58.539494Z",
     "shell.execute_reply": "2023-03-22T05:51:58.538076Z"
    },
    "id": "DnOaZdaE5Q5t",
    "papermill": {
     "duration": 0.755591,
     "end_time": "2023-03-22T05:51:58.542703",
     "exception": false,
     "start_time": "2023-03-22T05:51:57.787112",
     "status": "completed"
    },
    "tags": []
   },
   "outputs": [
    {
     "data": {
      "text/html": [
       "<div>\n",
       "<style scoped>\n",
       "    .dataframe tbody tr th:only-of-type {\n",
       "        vertical-align: middle;\n",
       "    }\n",
       "\n",
       "    .dataframe tbody tr th {\n",
       "        vertical-align: top;\n",
       "    }\n",
       "\n",
       "    .dataframe thead th {\n",
       "        text-align: right;\n",
       "    }\n",
       "</style>\n",
       "<table border=\"1\" class=\"dataframe\">\n",
       "  <thead>\n",
       "    <tr style=\"text-align: right;\">\n",
       "      <th></th>\n",
       "      <th>hotel</th>\n",
       "      <th>is_canceled</th>\n",
       "      <th>lead_time</th>\n",
       "      <th>arrival_date_year</th>\n",
       "      <th>arrival_date_month</th>\n",
       "      <th>arrival_date_week_number</th>\n",
       "      <th>arrival_date_day_of_month</th>\n",
       "      <th>stays_in_weekend_nights</th>\n",
       "      <th>stays_in_week_nights</th>\n",
       "      <th>adults</th>\n",
       "      <th>children</th>\n",
       "      <th>babies</th>\n",
       "      <th>meal</th>\n",
       "      <th>country</th>\n",
       "      <th>market_segment</th>\n",
       "      <th>distribution_channel</th>\n",
       "      <th>is_repeated_guest</th>\n",
       "      <th>previous_cancellations</th>\n",
       "      <th>previous_bookings_not_canceled</th>\n",
       "      <th>reserved_room_type</th>\n",
       "      <th>assigned_room_type</th>\n",
       "      <th>booking_changes</th>\n",
       "      <th>deposit_type</th>\n",
       "      <th>agent</th>\n",
       "      <th>company</th>\n",
       "      <th>days_in_waiting_list</th>\n",
       "      <th>customer_type</th>\n",
       "      <th>adr</th>\n",
       "      <th>required_car_parking_spaces</th>\n",
       "      <th>total_of_special_requests</th>\n",
       "      <th>reservation_status</th>\n",
       "      <th>reservation_status_date</th>\n",
       "      <th>name</th>\n",
       "      <th>email</th>\n",
       "      <th>phone-number</th>\n",
       "      <th>credit_card</th>\n",
       "    </tr>\n",
       "  </thead>\n",
       "  <tbody>\n",
       "    <tr>\n",
       "      <th>count</th>\n",
       "      <td>119390</td>\n",
       "      <td>119390.000000</td>\n",
       "      <td>119390.000000</td>\n",
       "      <td>119390.000000</td>\n",
       "      <td>119390</td>\n",
       "      <td>119390.000000</td>\n",
       "      <td>119390.000000</td>\n",
       "      <td>119390.000000</td>\n",
       "      <td>119390.000000</td>\n",
       "      <td>119390.000000</td>\n",
       "      <td>119386.000000</td>\n",
       "      <td>119390.000000</td>\n",
       "      <td>119390</td>\n",
       "      <td>118902</td>\n",
       "      <td>119390</td>\n",
       "      <td>119390</td>\n",
       "      <td>119390.000000</td>\n",
       "      <td>119390.000000</td>\n",
       "      <td>119390.000000</td>\n",
       "      <td>119390</td>\n",
       "      <td>119390</td>\n",
       "      <td>119390.000000</td>\n",
       "      <td>119390</td>\n",
       "      <td>103050.000000</td>\n",
       "      <td>6797.000000</td>\n",
       "      <td>119390.000000</td>\n",
       "      <td>119390</td>\n",
       "      <td>119390.000000</td>\n",
       "      <td>119390.000000</td>\n",
       "      <td>119390.000000</td>\n",
       "      <td>119390</td>\n",
       "      <td>119390</td>\n",
       "      <td>119390</td>\n",
       "      <td>119390</td>\n",
       "      <td>119390</td>\n",
       "      <td>119390</td>\n",
       "    </tr>\n",
       "    <tr>\n",
       "      <th>unique</th>\n",
       "      <td>2</td>\n",
       "      <td>NaN</td>\n",
       "      <td>NaN</td>\n",
       "      <td>NaN</td>\n",
       "      <td>12</td>\n",
       "      <td>NaN</td>\n",
       "      <td>NaN</td>\n",
       "      <td>NaN</td>\n",
       "      <td>NaN</td>\n",
       "      <td>NaN</td>\n",
       "      <td>NaN</td>\n",
       "      <td>NaN</td>\n",
       "      <td>5</td>\n",
       "      <td>177</td>\n",
       "      <td>8</td>\n",
       "      <td>5</td>\n",
       "      <td>NaN</td>\n",
       "      <td>NaN</td>\n",
       "      <td>NaN</td>\n",
       "      <td>10</td>\n",
       "      <td>12</td>\n",
       "      <td>NaN</td>\n",
       "      <td>3</td>\n",
       "      <td>NaN</td>\n",
       "      <td>NaN</td>\n",
       "      <td>NaN</td>\n",
       "      <td>4</td>\n",
       "      <td>NaN</td>\n",
       "      <td>NaN</td>\n",
       "      <td>NaN</td>\n",
       "      <td>3</td>\n",
       "      <td>926</td>\n",
       "      <td>81503</td>\n",
       "      <td>115889</td>\n",
       "      <td>119390</td>\n",
       "      <td>9000</td>\n",
       "    </tr>\n",
       "    <tr>\n",
       "      <th>top</th>\n",
       "      <td>City Hotel</td>\n",
       "      <td>NaN</td>\n",
       "      <td>NaN</td>\n",
       "      <td>NaN</td>\n",
       "      <td>August</td>\n",
       "      <td>NaN</td>\n",
       "      <td>NaN</td>\n",
       "      <td>NaN</td>\n",
       "      <td>NaN</td>\n",
       "      <td>NaN</td>\n",
       "      <td>NaN</td>\n",
       "      <td>NaN</td>\n",
       "      <td>BB</td>\n",
       "      <td>PRT</td>\n",
       "      <td>Online TA</td>\n",
       "      <td>TA/TO</td>\n",
       "      <td>NaN</td>\n",
       "      <td>NaN</td>\n",
       "      <td>NaN</td>\n",
       "      <td>A</td>\n",
       "      <td>A</td>\n",
       "      <td>NaN</td>\n",
       "      <td>No Deposit</td>\n",
       "      <td>NaN</td>\n",
       "      <td>NaN</td>\n",
       "      <td>NaN</td>\n",
       "      <td>Transient</td>\n",
       "      <td>NaN</td>\n",
       "      <td>NaN</td>\n",
       "      <td>NaN</td>\n",
       "      <td>Check-Out</td>\n",
       "      <td>2015-10-21</td>\n",
       "      <td>Michael Johnson</td>\n",
       "      <td>Michael.C@gmail.com</td>\n",
       "      <td>669-792-1661</td>\n",
       "      <td>************4923</td>\n",
       "    </tr>\n",
       "    <tr>\n",
       "      <th>freq</th>\n",
       "      <td>79330</td>\n",
       "      <td>NaN</td>\n",
       "      <td>NaN</td>\n",
       "      <td>NaN</td>\n",
       "      <td>13877</td>\n",
       "      <td>NaN</td>\n",
       "      <td>NaN</td>\n",
       "      <td>NaN</td>\n",
       "      <td>NaN</td>\n",
       "      <td>NaN</td>\n",
       "      <td>NaN</td>\n",
       "      <td>NaN</td>\n",
       "      <td>92310</td>\n",
       "      <td>48590</td>\n",
       "      <td>56477</td>\n",
       "      <td>97870</td>\n",
       "      <td>NaN</td>\n",
       "      <td>NaN</td>\n",
       "      <td>NaN</td>\n",
       "      <td>85994</td>\n",
       "      <td>74053</td>\n",
       "      <td>NaN</td>\n",
       "      <td>104641</td>\n",
       "      <td>NaN</td>\n",
       "      <td>NaN</td>\n",
       "      <td>NaN</td>\n",
       "      <td>89613</td>\n",
       "      <td>NaN</td>\n",
       "      <td>NaN</td>\n",
       "      <td>NaN</td>\n",
       "      <td>75166</td>\n",
       "      <td>1461</td>\n",
       "      <td>48</td>\n",
       "      <td>6</td>\n",
       "      <td>1</td>\n",
       "      <td>28</td>\n",
       "    </tr>\n",
       "    <tr>\n",
       "      <th>mean</th>\n",
       "      <td>NaN</td>\n",
       "      <td>0.370416</td>\n",
       "      <td>104.011416</td>\n",
       "      <td>2016.156554</td>\n",
       "      <td>NaN</td>\n",
       "      <td>27.165173</td>\n",
       "      <td>15.798241</td>\n",
       "      <td>0.927599</td>\n",
       "      <td>2.500302</td>\n",
       "      <td>1.856403</td>\n",
       "      <td>0.103890</td>\n",
       "      <td>0.007949</td>\n",
       "      <td>NaN</td>\n",
       "      <td>NaN</td>\n",
       "      <td>NaN</td>\n",
       "      <td>NaN</td>\n",
       "      <td>0.031912</td>\n",
       "      <td>0.087118</td>\n",
       "      <td>0.137097</td>\n",
       "      <td>NaN</td>\n",
       "      <td>NaN</td>\n",
       "      <td>0.221124</td>\n",
       "      <td>NaN</td>\n",
       "      <td>86.693382</td>\n",
       "      <td>189.266735</td>\n",
       "      <td>2.321149</td>\n",
       "      <td>NaN</td>\n",
       "      <td>101.831122</td>\n",
       "      <td>0.062518</td>\n",
       "      <td>0.571363</td>\n",
       "      <td>NaN</td>\n",
       "      <td>NaN</td>\n",
       "      <td>NaN</td>\n",
       "      <td>NaN</td>\n",
       "      <td>NaN</td>\n",
       "      <td>NaN</td>\n",
       "    </tr>\n",
       "    <tr>\n",
       "      <th>std</th>\n",
       "      <td>NaN</td>\n",
       "      <td>0.482918</td>\n",
       "      <td>106.863097</td>\n",
       "      <td>0.707476</td>\n",
       "      <td>NaN</td>\n",
       "      <td>13.605138</td>\n",
       "      <td>8.780829</td>\n",
       "      <td>0.998613</td>\n",
       "      <td>1.908286</td>\n",
       "      <td>0.579261</td>\n",
       "      <td>0.398561</td>\n",
       "      <td>0.097436</td>\n",
       "      <td>NaN</td>\n",
       "      <td>NaN</td>\n",
       "      <td>NaN</td>\n",
       "      <td>NaN</td>\n",
       "      <td>0.175767</td>\n",
       "      <td>0.844336</td>\n",
       "      <td>1.497437</td>\n",
       "      <td>NaN</td>\n",
       "      <td>NaN</td>\n",
       "      <td>0.652306</td>\n",
       "      <td>NaN</td>\n",
       "      <td>110.774548</td>\n",
       "      <td>131.655015</td>\n",
       "      <td>17.594721</td>\n",
       "      <td>NaN</td>\n",
       "      <td>50.535790</td>\n",
       "      <td>0.245291</td>\n",
       "      <td>0.792798</td>\n",
       "      <td>NaN</td>\n",
       "      <td>NaN</td>\n",
       "      <td>NaN</td>\n",
       "      <td>NaN</td>\n",
       "      <td>NaN</td>\n",
       "      <td>NaN</td>\n",
       "    </tr>\n",
       "    <tr>\n",
       "      <th>min</th>\n",
       "      <td>NaN</td>\n",
       "      <td>0.000000</td>\n",
       "      <td>0.000000</td>\n",
       "      <td>2015.000000</td>\n",
       "      <td>NaN</td>\n",
       "      <td>1.000000</td>\n",
       "      <td>1.000000</td>\n",
       "      <td>0.000000</td>\n",
       "      <td>0.000000</td>\n",
       "      <td>0.000000</td>\n",
       "      <td>0.000000</td>\n",
       "      <td>0.000000</td>\n",
       "      <td>NaN</td>\n",
       "      <td>NaN</td>\n",
       "      <td>NaN</td>\n",
       "      <td>NaN</td>\n",
       "      <td>0.000000</td>\n",
       "      <td>0.000000</td>\n",
       "      <td>0.000000</td>\n",
       "      <td>NaN</td>\n",
       "      <td>NaN</td>\n",
       "      <td>0.000000</td>\n",
       "      <td>NaN</td>\n",
       "      <td>1.000000</td>\n",
       "      <td>6.000000</td>\n",
       "      <td>0.000000</td>\n",
       "      <td>NaN</td>\n",
       "      <td>-6.380000</td>\n",
       "      <td>0.000000</td>\n",
       "      <td>0.000000</td>\n",
       "      <td>NaN</td>\n",
       "      <td>NaN</td>\n",
       "      <td>NaN</td>\n",
       "      <td>NaN</td>\n",
       "      <td>NaN</td>\n",
       "      <td>NaN</td>\n",
       "    </tr>\n",
       "    <tr>\n",
       "      <th>25%</th>\n",
       "      <td>NaN</td>\n",
       "      <td>0.000000</td>\n",
       "      <td>18.000000</td>\n",
       "      <td>2016.000000</td>\n",
       "      <td>NaN</td>\n",
       "      <td>16.000000</td>\n",
       "      <td>8.000000</td>\n",
       "      <td>0.000000</td>\n",
       "      <td>1.000000</td>\n",
       "      <td>2.000000</td>\n",
       "      <td>0.000000</td>\n",
       "      <td>0.000000</td>\n",
       "      <td>NaN</td>\n",
       "      <td>NaN</td>\n",
       "      <td>NaN</td>\n",
       "      <td>NaN</td>\n",
       "      <td>0.000000</td>\n",
       "      <td>0.000000</td>\n",
       "      <td>0.000000</td>\n",
       "      <td>NaN</td>\n",
       "      <td>NaN</td>\n",
       "      <td>0.000000</td>\n",
       "      <td>NaN</td>\n",
       "      <td>9.000000</td>\n",
       "      <td>62.000000</td>\n",
       "      <td>0.000000</td>\n",
       "      <td>NaN</td>\n",
       "      <td>69.290000</td>\n",
       "      <td>0.000000</td>\n",
       "      <td>0.000000</td>\n",
       "      <td>NaN</td>\n",
       "      <td>NaN</td>\n",
       "      <td>NaN</td>\n",
       "      <td>NaN</td>\n",
       "      <td>NaN</td>\n",
       "      <td>NaN</td>\n",
       "    </tr>\n",
       "    <tr>\n",
       "      <th>50%</th>\n",
       "      <td>NaN</td>\n",
       "      <td>0.000000</td>\n",
       "      <td>69.000000</td>\n",
       "      <td>2016.000000</td>\n",
       "      <td>NaN</td>\n",
       "      <td>28.000000</td>\n",
       "      <td>16.000000</td>\n",
       "      <td>1.000000</td>\n",
       "      <td>2.000000</td>\n",
       "      <td>2.000000</td>\n",
       "      <td>0.000000</td>\n",
       "      <td>0.000000</td>\n",
       "      <td>NaN</td>\n",
       "      <td>NaN</td>\n",
       "      <td>NaN</td>\n",
       "      <td>NaN</td>\n",
       "      <td>0.000000</td>\n",
       "      <td>0.000000</td>\n",
       "      <td>0.000000</td>\n",
       "      <td>NaN</td>\n",
       "      <td>NaN</td>\n",
       "      <td>0.000000</td>\n",
       "      <td>NaN</td>\n",
       "      <td>14.000000</td>\n",
       "      <td>179.000000</td>\n",
       "      <td>0.000000</td>\n",
       "      <td>NaN</td>\n",
       "      <td>94.575000</td>\n",
       "      <td>0.000000</td>\n",
       "      <td>0.000000</td>\n",
       "      <td>NaN</td>\n",
       "      <td>NaN</td>\n",
       "      <td>NaN</td>\n",
       "      <td>NaN</td>\n",
       "      <td>NaN</td>\n",
       "      <td>NaN</td>\n",
       "    </tr>\n",
       "    <tr>\n",
       "      <th>75%</th>\n",
       "      <td>NaN</td>\n",
       "      <td>1.000000</td>\n",
       "      <td>160.000000</td>\n",
       "      <td>2017.000000</td>\n",
       "      <td>NaN</td>\n",
       "      <td>38.000000</td>\n",
       "      <td>23.000000</td>\n",
       "      <td>2.000000</td>\n",
       "      <td>3.000000</td>\n",
       "      <td>2.000000</td>\n",
       "      <td>0.000000</td>\n",
       "      <td>0.000000</td>\n",
       "      <td>NaN</td>\n",
       "      <td>NaN</td>\n",
       "      <td>NaN</td>\n",
       "      <td>NaN</td>\n",
       "      <td>0.000000</td>\n",
       "      <td>0.000000</td>\n",
       "      <td>0.000000</td>\n",
       "      <td>NaN</td>\n",
       "      <td>NaN</td>\n",
       "      <td>0.000000</td>\n",
       "      <td>NaN</td>\n",
       "      <td>229.000000</td>\n",
       "      <td>270.000000</td>\n",
       "      <td>0.000000</td>\n",
       "      <td>NaN</td>\n",
       "      <td>126.000000</td>\n",
       "      <td>0.000000</td>\n",
       "      <td>1.000000</td>\n",
       "      <td>NaN</td>\n",
       "      <td>NaN</td>\n",
       "      <td>NaN</td>\n",
       "      <td>NaN</td>\n",
       "      <td>NaN</td>\n",
       "      <td>NaN</td>\n",
       "    </tr>\n",
       "    <tr>\n",
       "      <th>max</th>\n",
       "      <td>NaN</td>\n",
       "      <td>1.000000</td>\n",
       "      <td>737.000000</td>\n",
       "      <td>2017.000000</td>\n",
       "      <td>NaN</td>\n",
       "      <td>53.000000</td>\n",
       "      <td>31.000000</td>\n",
       "      <td>19.000000</td>\n",
       "      <td>50.000000</td>\n",
       "      <td>55.000000</td>\n",
       "      <td>10.000000</td>\n",
       "      <td>10.000000</td>\n",
       "      <td>NaN</td>\n",
       "      <td>NaN</td>\n",
       "      <td>NaN</td>\n",
       "      <td>NaN</td>\n",
       "      <td>1.000000</td>\n",
       "      <td>26.000000</td>\n",
       "      <td>72.000000</td>\n",
       "      <td>NaN</td>\n",
       "      <td>NaN</td>\n",
       "      <td>21.000000</td>\n",
       "      <td>NaN</td>\n",
       "      <td>535.000000</td>\n",
       "      <td>543.000000</td>\n",
       "      <td>391.000000</td>\n",
       "      <td>NaN</td>\n",
       "      <td>5400.000000</td>\n",
       "      <td>8.000000</td>\n",
       "      <td>5.000000</td>\n",
       "      <td>NaN</td>\n",
       "      <td>NaN</td>\n",
       "      <td>NaN</td>\n",
       "      <td>NaN</td>\n",
       "      <td>NaN</td>\n",
       "      <td>NaN</td>\n",
       "    </tr>\n",
       "  </tbody>\n",
       "</table>\n",
       "</div>"
      ],
      "text/plain": [
       "             hotel    is_canceled      lead_time  arrival_date_year  \\\n",
       "count       119390  119390.000000  119390.000000      119390.000000   \n",
       "unique           2            NaN            NaN                NaN   \n",
       "top     City Hotel            NaN            NaN                NaN   \n",
       "freq         79330            NaN            NaN                NaN   \n",
       "mean           NaN       0.370416     104.011416        2016.156554   \n",
       "std            NaN       0.482918     106.863097           0.707476   \n",
       "min            NaN       0.000000       0.000000        2015.000000   \n",
       "25%            NaN       0.000000      18.000000        2016.000000   \n",
       "50%            NaN       0.000000      69.000000        2016.000000   \n",
       "75%            NaN       1.000000     160.000000        2017.000000   \n",
       "max            NaN       1.000000     737.000000        2017.000000   \n",
       "\n",
       "       arrival_date_month  arrival_date_week_number  \\\n",
       "count              119390             119390.000000   \n",
       "unique                 12                       NaN   \n",
       "top                August                       NaN   \n",
       "freq                13877                       NaN   \n",
       "mean                  NaN                 27.165173   \n",
       "std                   NaN                 13.605138   \n",
       "min                   NaN                  1.000000   \n",
       "25%                   NaN                 16.000000   \n",
       "50%                   NaN                 28.000000   \n",
       "75%                   NaN                 38.000000   \n",
       "max                   NaN                 53.000000   \n",
       "\n",
       "        arrival_date_day_of_month  stays_in_weekend_nights  \\\n",
       "count               119390.000000            119390.000000   \n",
       "unique                        NaN                      NaN   \n",
       "top                           NaN                      NaN   \n",
       "freq                          NaN                      NaN   \n",
       "mean                    15.798241                 0.927599   \n",
       "std                      8.780829                 0.998613   \n",
       "min                      1.000000                 0.000000   \n",
       "25%                      8.000000                 0.000000   \n",
       "50%                     16.000000                 1.000000   \n",
       "75%                     23.000000                 2.000000   \n",
       "max                     31.000000                19.000000   \n",
       "\n",
       "        stays_in_week_nights         adults       children         babies  \\\n",
       "count          119390.000000  119390.000000  119386.000000  119390.000000   \n",
       "unique                   NaN            NaN            NaN            NaN   \n",
       "top                      NaN            NaN            NaN            NaN   \n",
       "freq                     NaN            NaN            NaN            NaN   \n",
       "mean                2.500302       1.856403       0.103890       0.007949   \n",
       "std                 1.908286       0.579261       0.398561       0.097436   \n",
       "min                 0.000000       0.000000       0.000000       0.000000   \n",
       "25%                 1.000000       2.000000       0.000000       0.000000   \n",
       "50%                 2.000000       2.000000       0.000000       0.000000   \n",
       "75%                 3.000000       2.000000       0.000000       0.000000   \n",
       "max                50.000000      55.000000      10.000000      10.000000   \n",
       "\n",
       "          meal country market_segment distribution_channel  is_repeated_guest  \\\n",
       "count   119390  118902         119390               119390      119390.000000   \n",
       "unique       5     177              8                    5                NaN   \n",
       "top         BB     PRT      Online TA                TA/TO                NaN   \n",
       "freq     92310   48590          56477                97870                NaN   \n",
       "mean       NaN     NaN            NaN                  NaN           0.031912   \n",
       "std        NaN     NaN            NaN                  NaN           0.175767   \n",
       "min        NaN     NaN            NaN                  NaN           0.000000   \n",
       "25%        NaN     NaN            NaN                  NaN           0.000000   \n",
       "50%        NaN     NaN            NaN                  NaN           0.000000   \n",
       "75%        NaN     NaN            NaN                  NaN           0.000000   \n",
       "max        NaN     NaN            NaN                  NaN           1.000000   \n",
       "\n",
       "        previous_cancellations  previous_bookings_not_canceled  \\\n",
       "count            119390.000000                   119390.000000   \n",
       "unique                     NaN                             NaN   \n",
       "top                        NaN                             NaN   \n",
       "freq                       NaN                             NaN   \n",
       "mean                  0.087118                        0.137097   \n",
       "std                   0.844336                        1.497437   \n",
       "min                   0.000000                        0.000000   \n",
       "25%                   0.000000                        0.000000   \n",
       "50%                   0.000000                        0.000000   \n",
       "75%                   0.000000                        0.000000   \n",
       "max                  26.000000                       72.000000   \n",
       "\n",
       "       reserved_room_type assigned_room_type  booking_changes deposit_type  \\\n",
       "count              119390             119390    119390.000000       119390   \n",
       "unique                 10                 12              NaN            3   \n",
       "top                     A                  A              NaN   No Deposit   \n",
       "freq                85994              74053              NaN       104641   \n",
       "mean                  NaN                NaN         0.221124          NaN   \n",
       "std                   NaN                NaN         0.652306          NaN   \n",
       "min                   NaN                NaN         0.000000          NaN   \n",
       "25%                   NaN                NaN         0.000000          NaN   \n",
       "50%                   NaN                NaN         0.000000          NaN   \n",
       "75%                   NaN                NaN         0.000000          NaN   \n",
       "max                   NaN                NaN        21.000000          NaN   \n",
       "\n",
       "                agent      company  days_in_waiting_list customer_type  \\\n",
       "count   103050.000000  6797.000000         119390.000000        119390   \n",
       "unique            NaN          NaN                   NaN             4   \n",
       "top               NaN          NaN                   NaN     Transient   \n",
       "freq              NaN          NaN                   NaN         89613   \n",
       "mean        86.693382   189.266735              2.321149           NaN   \n",
       "std        110.774548   131.655015             17.594721           NaN   \n",
       "min          1.000000     6.000000              0.000000           NaN   \n",
       "25%          9.000000    62.000000              0.000000           NaN   \n",
       "50%         14.000000   179.000000              0.000000           NaN   \n",
       "75%        229.000000   270.000000              0.000000           NaN   \n",
       "max        535.000000   543.000000            391.000000           NaN   \n",
       "\n",
       "                  adr  required_car_parking_spaces  total_of_special_requests  \\\n",
       "count   119390.000000                119390.000000              119390.000000   \n",
       "unique            NaN                          NaN                        NaN   \n",
       "top               NaN                          NaN                        NaN   \n",
       "freq              NaN                          NaN                        NaN   \n",
       "mean       101.831122                     0.062518                   0.571363   \n",
       "std         50.535790                     0.245291                   0.792798   \n",
       "min         -6.380000                     0.000000                   0.000000   \n",
       "25%         69.290000                     0.000000                   0.000000   \n",
       "50%         94.575000                     0.000000                   0.000000   \n",
       "75%        126.000000                     0.000000                   1.000000   \n",
       "max       5400.000000                     8.000000                   5.000000   \n",
       "\n",
       "       reservation_status reservation_status_date             name  \\\n",
       "count              119390                  119390           119390   \n",
       "unique                  3                     926            81503   \n",
       "top             Check-Out              2015-10-21  Michael Johnson   \n",
       "freq                75166                    1461               48   \n",
       "mean                  NaN                     NaN              NaN   \n",
       "std                   NaN                     NaN              NaN   \n",
       "min                   NaN                     NaN              NaN   \n",
       "25%                   NaN                     NaN              NaN   \n",
       "50%                   NaN                     NaN              NaN   \n",
       "75%                   NaN                     NaN              NaN   \n",
       "max                   NaN                     NaN              NaN   \n",
       "\n",
       "                      email  phone-number       credit_card  \n",
       "count                119390        119390            119390  \n",
       "unique               115889        119390              9000  \n",
       "top     Michael.C@gmail.com  669-792-1661  ************4923  \n",
       "freq                      6             1                28  \n",
       "mean                    NaN           NaN               NaN  \n",
       "std                     NaN           NaN               NaN  \n",
       "min                     NaN           NaN               NaN  \n",
       "25%                     NaN           NaN               NaN  \n",
       "50%                     NaN           NaN               NaN  \n",
       "75%                     NaN           NaN               NaN  \n",
       "max                     NaN           NaN               NaN  "
      ]
     },
     "execution_count": 10,
     "metadata": {},
     "output_type": "execute_result"
    }
   ],
   "source": [
    "# Dataset Describe\n",
    "hotels_df.describe(include= \"all\")"
   ]
  },
  {
   "cell_type": "markdown",
   "id": "39f7b2de",
   "metadata": {
    "id": "PBTbrJXOngz2",
    "papermill": {
     "duration": 0.030509,
     "end_time": "2023-03-22T05:51:58.604456",
     "exception": false,
     "start_time": "2023-03-22T05:51:58.573947",
     "status": "completed"
    },
    "tags": []
   },
   "source": [
    "### Variables Description "
   ]
  },
  {
   "cell_type": "markdown",
   "id": "785de415",
   "metadata": {
    "id": "aJV4KIxSnxay",
    "papermill": {
     "duration": 0.03171,
     "end_time": "2023-03-22T05:51:58.667433",
     "exception": false,
     "start_time": "2023-03-22T05:51:58.635723",
     "status": "completed"
    },
    "tags": []
   },
   "source": [
    "Answer Here"
   ]
  },
  {
   "cell_type": "markdown",
   "id": "e9e27338",
   "metadata": {
    "id": "u3PMJOP6ngxN",
    "papermill": {
     "duration": 0.030346,
     "end_time": "2023-03-22T05:51:58.729585",
     "exception": false,
     "start_time": "2023-03-22T05:51:58.699239",
     "status": "completed"
    },
    "tags": []
   },
   "source": [
    "### Check Unique Values for each variable."
   ]
  },
  {
   "cell_type": "code",
   "execution_count": 11,
   "id": "2b1b4ca0",
   "metadata": {
    "execution": {
     "iopub.execute_input": "2023-03-22T05:51:58.794118Z",
     "iopub.status.busy": "2023-03-22T05:51:58.793210Z",
     "iopub.status.idle": "2023-03-22T05:51:59.058775Z",
     "shell.execute_reply": "2023-03-22T05:51:59.057203Z"
    },
    "id": "zms12Yq5n-jE",
    "papermill": {
     "duration": 0.301525,
     "end_time": "2023-03-22T05:51:59.061910",
     "exception": false,
     "start_time": "2023-03-22T05:51:58.760385",
     "status": "completed"
    },
    "tags": []
   },
   "outputs": [
    {
     "name": "stdout",
     "output_type": "stream",
     "text": [
      "No. of unique values in  hotel is 2 .\n",
      "No. of unique values in  is_canceled is 2 .\n",
      "No. of unique values in  lead_time is 479 .\n",
      "No. of unique values in  arrival_date_year is 3 .\n",
      "No. of unique values in  arrival_date_month is 12 .\n",
      "No. of unique values in  arrival_date_week_number is 53 .\n",
      "No. of unique values in  arrival_date_day_of_month is 31 .\n",
      "No. of unique values in  stays_in_weekend_nights is 17 .\n",
      "No. of unique values in  stays_in_week_nights is 35 .\n",
      "No. of unique values in  adults is 14 .\n",
      "No. of unique values in  children is 5 .\n",
      "No. of unique values in  babies is 5 .\n",
      "No. of unique values in  meal is 5 .\n",
      "No. of unique values in  country is 177 .\n",
      "No. of unique values in  market_segment is 8 .\n",
      "No. of unique values in  distribution_channel is 5 .\n",
      "No. of unique values in  is_repeated_guest is 2 .\n",
      "No. of unique values in  previous_cancellations is 15 .\n",
      "No. of unique values in  previous_bookings_not_canceled is 73 .\n",
      "No. of unique values in  reserved_room_type is 10 .\n",
      "No. of unique values in  assigned_room_type is 12 .\n",
      "No. of unique values in  booking_changes is 21 .\n",
      "No. of unique values in  deposit_type is 3 .\n",
      "No. of unique values in  agent is 333 .\n",
      "No. of unique values in  company is 352 .\n",
      "No. of unique values in  days_in_waiting_list is 128 .\n",
      "No. of unique values in  customer_type is 4 .\n",
      "No. of unique values in  adr is 8879 .\n",
      "No. of unique values in  required_car_parking_spaces is 5 .\n",
      "No. of unique values in  total_of_special_requests is 6 .\n",
      "No. of unique values in  reservation_status is 3 .\n",
      "No. of unique values in  reservation_status_date is 926 .\n",
      "No. of unique values in  name is 81503 .\n",
      "No. of unique values in  email is 115889 .\n",
      "No. of unique values in  phone-number is 119390 .\n",
      "No. of unique values in  credit_card is 9000 .\n"
     ]
    }
   ],
   "source": [
    "# Check Unique Values for each variable.\n",
    "for col in hotels_df.columns:\n",
    "  print(\"No. of unique values in \", col,\"is\",hotels_df[col].nunique(),\".\")"
   ]
  },
  {
   "cell_type": "markdown",
   "id": "3ff77699",
   "metadata": {
    "id": "dauF4eBmngu3",
    "papermill": {
     "duration": 0.030573,
     "end_time": "2023-03-22T05:51:59.123635",
     "exception": false,
     "start_time": "2023-03-22T05:51:59.093062",
     "status": "completed"
    },
    "tags": []
   },
   "source": [
    "## 3. ***Data Wrangling***"
   ]
  },
  {
   "cell_type": "markdown",
   "id": "b9868f54",
   "metadata": {
    "id": "bKJF3rekwFvQ",
    "papermill": {
     "duration": 0.032361,
     "end_time": "2023-03-22T05:51:59.187163",
     "exception": false,
     "start_time": "2023-03-22T05:51:59.154802",
     "status": "completed"
    },
    "tags": []
   },
   "source": [
    "### Data Wrangling Code"
   ]
  },
  {
   "cell_type": "code",
   "execution_count": 12,
   "id": "32cd0360",
   "metadata": {
    "execution": {
     "iopub.execute_input": "2023-03-22T05:51:59.253065Z",
     "iopub.status.busy": "2023-03-22T05:51:59.252171Z",
     "iopub.status.idle": "2023-03-22T05:51:59.260825Z",
     "shell.execute_reply": "2023-03-22T05:51:59.259631Z"
    },
    "papermill": {
     "duration": 0.045467,
     "end_time": "2023-03-22T05:51:59.263879",
     "exception": false,
     "start_time": "2023-03-22T05:51:59.218412",
     "status": "completed"
    },
    "tags": []
   },
   "outputs": [],
   "source": [
    "class months_days:\n",
    "    \n",
    "    def months():\n",
    "        return [\"January\", \"February\", \"March\", \"April\", \"May\", \"June\", \"July\", \"August\", \"September\", \"October\", \"November\", \"December\"]\n",
    "    \n",
    "    def days():\n",
    "        return [\"Monday\", \"Tuesday\", \"Wednesday\", \"Thursday\", \"Friday\", \"Saturday\", \"Sunday\"]\n",
    "    \n",
    "    def months_reordered():\n",
    "        \n",
    "        month_order= [months_days.months()[-1]]\n",
    "        month_order.extend(months_days.months()[:-1])\n",
    "        return month_order"
   ]
  },
  {
   "cell_type": "code",
   "execution_count": 13,
   "id": "b3341bf4",
   "metadata": {
    "execution": {
     "iopub.execute_input": "2023-03-22T05:51:59.329712Z",
     "iopub.status.busy": "2023-03-22T05:51:59.328883Z",
     "iopub.status.idle": "2023-03-22T05:51:59.344651Z",
     "shell.execute_reply": "2023-03-22T05:51:59.343195Z"
    },
    "id": "wk-9a2fpoLcV",
    "papermill": {
     "duration": 0.052675,
     "end_time": "2023-03-22T05:51:59.348052",
     "exception": false,
     "start_time": "2023-03-22T05:51:59.295377",
     "status": "completed"
    },
    "tags": []
   },
   "outputs": [],
   "source": [
    "# Write your code to make your dataset analysis ready.\n",
    "\n",
    "def tweak_hotels_df(hotels_df):\n",
    "    \n",
    "    \"\"\"\n",
    "    cleans and applies optimal datatypes to the dataframe to optimize memory usage\n",
    "    \"\"\"\n",
    "    \n",
    "    \n",
    "    #creating a dict containing the most optimal datatypes pertaining to each column\n",
    "    col_type_dict= {\"lead_time\": \"int32\", \"arrival_date_month\": \"category\", \"stays_in_weekend_nights\": \"int8\", \n",
    "                    \"stays_in_week_nights\": \"int8\", \"adults\": \"int8\", \"babies\": \"int8\", \"meal\": \"category\",\n",
    "                    \"market_segment\": \"category\", \"distribution_channel\": \"category\", \"is_repeated_guest\": \"category\", \n",
    "                    \"previous_cancellations\": \"int8\", \"previous_bookings_not_canceled\": \"int8\",\n",
    "                    \"reserved_room_type\": \"category\", \"assigned_room_type\": \"category\", \"booking_changes\": \"int8\", \n",
    "                    \"deposit_type\": \"category\", \"days_in_waiting_list\": \"int32\", \"customer_type\": \"category\",\n",
    "                    \"required_car_parking_spaces\": \"int8\", \"total_of_special_requests\": \"int8\", \"reservation_status\": \"category\", \n",
    "                    \"reservation_status_date\": \"datetime64[ns]\"}\n",
    "    \n",
    "    #creating a dict containing new and old names of columns\n",
    "    old_new_cols_dict= {\"arrival_date_year\": \"year\", \"arrival_date_month\": \"month\", \"arrival_date_day_of_month\": \"day\"}\n",
    "    #creating a dict containing the month names and the corresponding month number\n",
    "    month_dict= {month: index+1 for index, month in \n",
    "                 enumerate(months_days.months())}\n",
    "    \n",
    "    #creating a list of names of columns that need to be dropped\n",
    "    cols_to_drop= [\"is_canceled\", \"month\", \"year\", \"day\", \"arrival_date_week_number\", \"email\", \"phone-number\", \"credit_card\"]\n",
    "    \n",
    "    return (hotels_df\n",
    "            .loc[hotels_df[\"is_canceled\"]==0] #removing bookings that were cancelled\n",
    "            .astype(col_type_dict) #assigning optimal dtypes            \n",
    "            .rename(columns= old_new_cols_dict) #changing the names of cols with date attributes\n",
    "            .assign(\n",
    "                    #dealing with null values in children, agent, company and country columns\n",
    "                    children= hotels_df[\"children\"].fillna(round(hotels_df[\"children\"].mean(), 0)).astype(\"int8\"),\n",
    "                    agent= hotels_df[\"agent\"].fillna(0).astype(\"int32\").astype(\"category\"),\n",
    "                    company= hotels_df[\"company\"].fillna(0).astype(\"int32\").astype(\"category\"),\n",
    "                    country= hotels_df[\"country\"].fillna(hotels_df[\"country\"].mode()[0]).astype(\"category\"),\n",
    "                    #adding arrival_date column\n",
    "                    month= lambda df_: df_[\"month\"].map(month_dict),\n",
    "                    arrival_date= lambda df_: pd.to_datetime(df_[[\"year\", \"month\",\"day\"]])\n",
    "                   )\n",
    "#             .astype({\"arrival_date\":\"datetime64[ns]\"})\n",
    "            .drop(columns= cols_to_drop) #dropping unnecessary columns\n",
    "            .reset_index(drop= True)\n",
    "           )\n"
   ]
  },
  {
   "cell_type": "code",
   "execution_count": 14,
   "id": "45d0707d",
   "metadata": {
    "execution": {
     "iopub.execute_input": "2023-03-22T05:51:59.413204Z",
     "iopub.status.busy": "2023-03-22T05:51:59.412718Z",
     "iopub.status.idle": "2023-03-22T05:51:59.708751Z",
     "shell.execute_reply": "2023-03-22T05:51:59.707324Z"
    },
    "papermill": {
     "duration": 0.332421,
     "end_time": "2023-03-22T05:51:59.711857",
     "exception": false,
     "start_time": "2023-03-22T05:51:59.379436",
     "status": "completed"
    },
    "tags": []
   },
   "outputs": [
    {
     "data": {
      "text/html": [
       "<div>\n",
       "<style scoped>\n",
       "    .dataframe tbody tr th:only-of-type {\n",
       "        vertical-align: middle;\n",
       "    }\n",
       "\n",
       "    .dataframe tbody tr th {\n",
       "        vertical-align: top;\n",
       "    }\n",
       "\n",
       "    .dataframe thead th {\n",
       "        text-align: right;\n",
       "    }\n",
       "</style>\n",
       "<table border=\"1\" class=\"dataframe\">\n",
       "  <thead>\n",
       "    <tr style=\"text-align: right;\">\n",
       "      <th></th>\n",
       "      <th>hotel</th>\n",
       "      <th>lead_time</th>\n",
       "      <th>stays_in_weekend_nights</th>\n",
       "      <th>stays_in_week_nights</th>\n",
       "      <th>adults</th>\n",
       "      <th>children</th>\n",
       "      <th>babies</th>\n",
       "      <th>meal</th>\n",
       "      <th>country</th>\n",
       "      <th>market_segment</th>\n",
       "      <th>distribution_channel</th>\n",
       "      <th>is_repeated_guest</th>\n",
       "      <th>previous_cancellations</th>\n",
       "      <th>previous_bookings_not_canceled</th>\n",
       "      <th>reserved_room_type</th>\n",
       "      <th>assigned_room_type</th>\n",
       "      <th>booking_changes</th>\n",
       "      <th>deposit_type</th>\n",
       "      <th>agent</th>\n",
       "      <th>company</th>\n",
       "      <th>days_in_waiting_list</th>\n",
       "      <th>customer_type</th>\n",
       "      <th>adr</th>\n",
       "      <th>required_car_parking_spaces</th>\n",
       "      <th>total_of_special_requests</th>\n",
       "      <th>reservation_status</th>\n",
       "      <th>reservation_status_date</th>\n",
       "      <th>name</th>\n",
       "      <th>arrival_date</th>\n",
       "    </tr>\n",
       "  </thead>\n",
       "  <tbody>\n",
       "    <tr>\n",
       "      <th>0</th>\n",
       "      <td>Resort Hotel</td>\n",
       "      <td>342</td>\n",
       "      <td>0</td>\n",
       "      <td>0</td>\n",
       "      <td>2</td>\n",
       "      <td>0</td>\n",
       "      <td>0</td>\n",
       "      <td>BB</td>\n",
       "      <td>PRT</td>\n",
       "      <td>Direct</td>\n",
       "      <td>Direct</td>\n",
       "      <td>0</td>\n",
       "      <td>0</td>\n",
       "      <td>0</td>\n",
       "      <td>C</td>\n",
       "      <td>C</td>\n",
       "      <td>3</td>\n",
       "      <td>No Deposit</td>\n",
       "      <td>0</td>\n",
       "      <td>0</td>\n",
       "      <td>0</td>\n",
       "      <td>Transient</td>\n",
       "      <td>0.0</td>\n",
       "      <td>0</td>\n",
       "      <td>0</td>\n",
       "      <td>Check-Out</td>\n",
       "      <td>2015-07-01</td>\n",
       "      <td>Ernest Barnes</td>\n",
       "      <td>2015-07-01</td>\n",
       "    </tr>\n",
       "    <tr>\n",
       "      <th>1</th>\n",
       "      <td>Resort Hotel</td>\n",
       "      <td>737</td>\n",
       "      <td>0</td>\n",
       "      <td>0</td>\n",
       "      <td>2</td>\n",
       "      <td>0</td>\n",
       "      <td>0</td>\n",
       "      <td>BB</td>\n",
       "      <td>PRT</td>\n",
       "      <td>Direct</td>\n",
       "      <td>Direct</td>\n",
       "      <td>0</td>\n",
       "      <td>0</td>\n",
       "      <td>0</td>\n",
       "      <td>C</td>\n",
       "      <td>C</td>\n",
       "      <td>4</td>\n",
       "      <td>No Deposit</td>\n",
       "      <td>0</td>\n",
       "      <td>0</td>\n",
       "      <td>0</td>\n",
       "      <td>Transient</td>\n",
       "      <td>0.0</td>\n",
       "      <td>0</td>\n",
       "      <td>0</td>\n",
       "      <td>Check-Out</td>\n",
       "      <td>2015-07-01</td>\n",
       "      <td>Andrea Baker</td>\n",
       "      <td>2015-07-01</td>\n",
       "    </tr>\n",
       "    <tr>\n",
       "      <th>2</th>\n",
       "      <td>Resort Hotel</td>\n",
       "      <td>7</td>\n",
       "      <td>0</td>\n",
       "      <td>1</td>\n",
       "      <td>1</td>\n",
       "      <td>0</td>\n",
       "      <td>0</td>\n",
       "      <td>BB</td>\n",
       "      <td>GBR</td>\n",
       "      <td>Direct</td>\n",
       "      <td>Direct</td>\n",
       "      <td>0</td>\n",
       "      <td>0</td>\n",
       "      <td>0</td>\n",
       "      <td>A</td>\n",
       "      <td>C</td>\n",
       "      <td>0</td>\n",
       "      <td>No Deposit</td>\n",
       "      <td>0</td>\n",
       "      <td>0</td>\n",
       "      <td>0</td>\n",
       "      <td>Transient</td>\n",
       "      <td>75.0</td>\n",
       "      <td>0</td>\n",
       "      <td>0</td>\n",
       "      <td>Check-Out</td>\n",
       "      <td>2015-07-02</td>\n",
       "      <td>Rebecca Parker</td>\n",
       "      <td>2015-07-01</td>\n",
       "    </tr>\n",
       "    <tr>\n",
       "      <th>3</th>\n",
       "      <td>Resort Hotel</td>\n",
       "      <td>13</td>\n",
       "      <td>0</td>\n",
       "      <td>1</td>\n",
       "      <td>1</td>\n",
       "      <td>0</td>\n",
       "      <td>0</td>\n",
       "      <td>BB</td>\n",
       "      <td>GBR</td>\n",
       "      <td>Corporate</td>\n",
       "      <td>Corporate</td>\n",
       "      <td>0</td>\n",
       "      <td>0</td>\n",
       "      <td>0</td>\n",
       "      <td>A</td>\n",
       "      <td>A</td>\n",
       "      <td>0</td>\n",
       "      <td>No Deposit</td>\n",
       "      <td>304</td>\n",
       "      <td>0</td>\n",
       "      <td>0</td>\n",
       "      <td>Transient</td>\n",
       "      <td>75.0</td>\n",
       "      <td>0</td>\n",
       "      <td>0</td>\n",
       "      <td>Check-Out</td>\n",
       "      <td>2015-07-02</td>\n",
       "      <td>Laura Murray</td>\n",
       "      <td>2015-07-01</td>\n",
       "    </tr>\n",
       "    <tr>\n",
       "      <th>4</th>\n",
       "      <td>Resort Hotel</td>\n",
       "      <td>14</td>\n",
       "      <td>0</td>\n",
       "      <td>2</td>\n",
       "      <td>2</td>\n",
       "      <td>0</td>\n",
       "      <td>0</td>\n",
       "      <td>BB</td>\n",
       "      <td>GBR</td>\n",
       "      <td>Online TA</td>\n",
       "      <td>TA/TO</td>\n",
       "      <td>0</td>\n",
       "      <td>0</td>\n",
       "      <td>0</td>\n",
       "      <td>A</td>\n",
       "      <td>A</td>\n",
       "      <td>0</td>\n",
       "      <td>No Deposit</td>\n",
       "      <td>240</td>\n",
       "      <td>0</td>\n",
       "      <td>0</td>\n",
       "      <td>Transient</td>\n",
       "      <td>98.0</td>\n",
       "      <td>0</td>\n",
       "      <td>1</td>\n",
       "      <td>Check-Out</td>\n",
       "      <td>2015-07-03</td>\n",
       "      <td>Linda Hines</td>\n",
       "      <td>2015-07-01</td>\n",
       "    </tr>\n",
       "  </tbody>\n",
       "</table>\n",
       "</div>"
      ],
      "text/plain": [
       "          hotel  lead_time  stays_in_weekend_nights  stays_in_week_nights  \\\n",
       "0  Resort Hotel        342                        0                     0   \n",
       "1  Resort Hotel        737                        0                     0   \n",
       "2  Resort Hotel          7                        0                     1   \n",
       "3  Resort Hotel         13                        0                     1   \n",
       "4  Resort Hotel         14                        0                     2   \n",
       "\n",
       "   adults  children  babies meal country market_segment distribution_channel  \\\n",
       "0       2         0       0   BB     PRT         Direct               Direct   \n",
       "1       2         0       0   BB     PRT         Direct               Direct   \n",
       "2       1         0       0   BB     GBR         Direct               Direct   \n",
       "3       1         0       0   BB     GBR      Corporate            Corporate   \n",
       "4       2         0       0   BB     GBR      Online TA                TA/TO   \n",
       "\n",
       "  is_repeated_guest  previous_cancellations  previous_bookings_not_canceled  \\\n",
       "0                 0                       0                               0   \n",
       "1                 0                       0                               0   \n",
       "2                 0                       0                               0   \n",
       "3                 0                       0                               0   \n",
       "4                 0                       0                               0   \n",
       "\n",
       "  reserved_room_type assigned_room_type  booking_changes deposit_type agent  \\\n",
       "0                  C                  C                3   No Deposit     0   \n",
       "1                  C                  C                4   No Deposit     0   \n",
       "2                  A                  C                0   No Deposit     0   \n",
       "3                  A                  A                0   No Deposit   304   \n",
       "4                  A                  A                0   No Deposit   240   \n",
       "\n",
       "  company  days_in_waiting_list customer_type   adr  \\\n",
       "0       0                     0     Transient   0.0   \n",
       "1       0                     0     Transient   0.0   \n",
       "2       0                     0     Transient  75.0   \n",
       "3       0                     0     Transient  75.0   \n",
       "4       0                     0     Transient  98.0   \n",
       "\n",
       "   required_car_parking_spaces  total_of_special_requests reservation_status  \\\n",
       "0                            0                          0          Check-Out   \n",
       "1                            0                          0          Check-Out   \n",
       "2                            0                          0          Check-Out   \n",
       "3                            0                          0          Check-Out   \n",
       "4                            0                          1          Check-Out   \n",
       "\n",
       "  reservation_status_date            name arrival_date  \n",
       "0              2015-07-01   Ernest Barnes   2015-07-01  \n",
       "1              2015-07-01    Andrea Baker   2015-07-01  \n",
       "2              2015-07-02  Rebecca Parker   2015-07-01  \n",
       "3              2015-07-02    Laura Murray   2015-07-01  \n",
       "4              2015-07-03     Linda Hines   2015-07-01  "
      ]
     },
     "execution_count": 14,
     "metadata": {},
     "output_type": "execute_result"
    }
   ],
   "source": [
    "#clesned data\n",
    "hotels= tweak_hotels_df(hotels_df)\n",
    "hotels.head()"
   ]
  },
  {
   "cell_type": "code",
   "execution_count": 15,
   "id": "52445c06",
   "metadata": {
    "execution": {
     "iopub.execute_input": "2023-03-22T05:51:59.777130Z",
     "iopub.status.busy": "2023-03-22T05:51:59.776630Z",
     "iopub.status.idle": "2023-03-22T05:51:59.783197Z",
     "shell.execute_reply": "2023-03-22T05:51:59.781876Z"
    },
    "papermill": {
     "duration": 0.042458,
     "end_time": "2023-03-22T05:51:59.785677",
     "exception": false,
     "start_time": "2023-03-22T05:51:59.743219",
     "status": "completed"
    },
    "tags": []
   },
   "outputs": [],
   "source": [
    "def get_total_row(df_):\n",
    "    return df_.append({\"index\": \"Total\", \n",
    "                      \"original\": df_[\"original\"].sum(),\n",
    "                      \"tweaked\": df_[\"tweaked\"].sum()}, ignore_index= True)"
   ]
  },
  {
   "cell_type": "code",
   "execution_count": 16,
   "id": "5fa9ff05",
   "metadata": {
    "execution": {
     "iopub.execute_input": "2023-03-22T05:51:59.853703Z",
     "iopub.status.busy": "2023-03-22T05:51:59.852368Z",
     "iopub.status.idle": "2023-03-22T05:52:00.112428Z",
     "shell.execute_reply": "2023-03-22T05:52:00.110912Z"
    },
    "papermill": {
     "duration": 0.298019,
     "end_time": "2023-03-22T05:52:00.115895",
     "exception": false,
     "start_time": "2023-03-22T05:51:59.817876",
     "status": "completed"
    },
    "tags": []
   },
   "outputs": [
    {
     "name": "stdout",
     "output_type": "stream",
     "text": [
      "%age reduction in memory usage: 89.84\n",
      "other comparisons\n"
     ]
    },
    {
     "data": {
      "text/html": [
       "<div>\n",
       "<style scoped>\n",
       "    .dataframe tbody tr th:only-of-type {\n",
       "        vertical-align: middle;\n",
       "    }\n",
       "\n",
       "    .dataframe tbody tr th {\n",
       "        vertical-align: top;\n",
       "    }\n",
       "\n",
       "    .dataframe thead th {\n",
       "        text-align: right;\n",
       "    }\n",
       "</style>\n",
       "<table border=\"1\" class=\"dataframe\">\n",
       "  <thead>\n",
       "    <tr style=\"text-align: right;\">\n",
       "      <th></th>\n",
       "      <th>original</th>\n",
       "      <th>tweaked</th>\n",
       "      <th>percentage_reduced</th>\n",
       "    </tr>\n",
       "    <tr>\n",
       "      <th>index</th>\n",
       "      <th></th>\n",
       "      <th></th>\n",
       "      <th></th>\n",
       "    </tr>\n",
       "  </thead>\n",
       "  <tbody>\n",
       "    <tr>\n",
       "      <th>Index</th>\n",
       "      <td>128.0</td>\n",
       "      <td>128.0</td>\n",
       "      <td>0.00</td>\n",
       "    </tr>\n",
       "    <tr>\n",
       "      <th>adr</th>\n",
       "      <td>955120.0</td>\n",
       "      <td>601328.0</td>\n",
       "      <td>37.04</td>\n",
       "    </tr>\n",
       "    <tr>\n",
       "      <th>adults</th>\n",
       "      <td>955120.0</td>\n",
       "      <td>75166.0</td>\n",
       "      <td>92.13</td>\n",
       "    </tr>\n",
       "    <tr>\n",
       "      <th>agent</th>\n",
       "      <td>955120.0</td>\n",
       "      <td>161300.0</td>\n",
       "      <td>83.11</td>\n",
       "    </tr>\n",
       "    <tr>\n",
       "      <th>arrival_date</th>\n",
       "      <td>NaN</td>\n",
       "      <td>601328.0</td>\n",
       "      <td>NaN</td>\n",
       "    </tr>\n",
       "    <tr>\n",
       "      <th>arrival_date_day_of_month</th>\n",
       "      <td>955120.0</td>\n",
       "      <td>NaN</td>\n",
       "      <td>NaN</td>\n",
       "    </tr>\n",
       "    <tr>\n",
       "      <th>arrival_date_month</th>\n",
       "      <td>7510011.0</td>\n",
       "      <td>NaN</td>\n",
       "      <td>NaN</td>\n",
       "    </tr>\n",
       "    <tr>\n",
       "      <th>arrival_date_week_number</th>\n",
       "      <td>955120.0</td>\n",
       "      <td>NaN</td>\n",
       "      <td>NaN</td>\n",
       "    </tr>\n",
       "    <tr>\n",
       "      <th>arrival_date_year</th>\n",
       "      <td>955120.0</td>\n",
       "      <td>NaN</td>\n",
       "      <td>NaN</td>\n",
       "    </tr>\n",
       "    <tr>\n",
       "      <th>assigned_room_type</th>\n",
       "      <td>6924620.0</td>\n",
       "      <td>76046.0</td>\n",
       "      <td>98.90</td>\n",
       "    </tr>\n",
       "    <tr>\n",
       "      <th>babies</th>\n",
       "      <td>955120.0</td>\n",
       "      <td>75166.0</td>\n",
       "      <td>92.13</td>\n",
       "    </tr>\n",
       "    <tr>\n",
       "      <th>booking_changes</th>\n",
       "      <td>955120.0</td>\n",
       "      <td>75166.0</td>\n",
       "      <td>92.13</td>\n",
       "    </tr>\n",
       "    <tr>\n",
       "      <th>children</th>\n",
       "      <td>955120.0</td>\n",
       "      <td>75166.0</td>\n",
       "      <td>92.13</td>\n",
       "    </tr>\n",
       "    <tr>\n",
       "      <th>company</th>\n",
       "      <td>955120.0</td>\n",
       "      <td>161452.0</td>\n",
       "      <td>83.10</td>\n",
       "    </tr>\n",
       "    <tr>\n",
       "      <th>country</th>\n",
       "      <td>7148457.0</td>\n",
       "      <td>165119.0</td>\n",
       "      <td>97.69</td>\n",
       "    </tr>\n",
       "    <tr>\n",
       "      <th>credit_card</th>\n",
       "      <td>8715470.0</td>\n",
       "      <td>NaN</td>\n",
       "      <td>NaN</td>\n",
       "    </tr>\n",
       "    <tr>\n",
       "      <th>customer_type</th>\n",
       "      <td>8024100.0</td>\n",
       "      <td>75603.0</td>\n",
       "      <td>99.06</td>\n",
       "    </tr>\n",
       "    <tr>\n",
       "      <th>days_in_waiting_list</th>\n",
       "      <td>955120.0</td>\n",
       "      <td>300664.0</td>\n",
       "      <td>68.52</td>\n",
       "    </tr>\n",
       "    <tr>\n",
       "      <th>deposit_type</th>\n",
       "      <td>7999130.0</td>\n",
       "      <td>75475.0</td>\n",
       "      <td>99.06</td>\n",
       "    </tr>\n",
       "    <tr>\n",
       "      <th>distribution_channel</th>\n",
       "      <td>7443167.0</td>\n",
       "      <td>75655.0</td>\n",
       "      <td>98.98</td>\n",
       "    </tr>\n",
       "    <tr>\n",
       "      <th>email</th>\n",
       "      <td>9457637.0</td>\n",
       "      <td>NaN</td>\n",
       "      <td>NaN</td>\n",
       "    </tr>\n",
       "    <tr>\n",
       "      <th>hotel</th>\n",
       "      <td>8079250.0</td>\n",
       "      <td>5093998.0</td>\n",
       "      <td>36.95</td>\n",
       "    </tr>\n",
       "    <tr>\n",
       "      <th>is_canceled</th>\n",
       "      <td>955120.0</td>\n",
       "      <td>NaN</td>\n",
       "      <td>NaN</td>\n",
       "    </tr>\n",
       "    <tr>\n",
       "      <th>is_repeated_guest</th>\n",
       "      <td>955120.0</td>\n",
       "      <td>75290.0</td>\n",
       "      <td>92.12</td>\n",
       "    </tr>\n",
       "    <tr>\n",
       "      <th>lead_time</th>\n",
       "      <td>955120.0</td>\n",
       "      <td>300664.0</td>\n",
       "      <td>68.52</td>\n",
       "    </tr>\n",
       "    <tr>\n",
       "      <th>market_segment</th>\n",
       "      <td>7882100.0</td>\n",
       "      <td>75929.0</td>\n",
       "      <td>99.04</td>\n",
       "    </tr>\n",
       "    <tr>\n",
       "      <th>meal</th>\n",
       "      <td>7052193.0</td>\n",
       "      <td>75640.0</td>\n",
       "      <td>98.93</td>\n",
       "    </tr>\n",
       "    <tr>\n",
       "      <th>name</th>\n",
       "      <td>8389112.0</td>\n",
       "      <td>5280736.0</td>\n",
       "      <td>37.05</td>\n",
       "    </tr>\n",
       "    <tr>\n",
       "      <th>phone-number</th>\n",
       "      <td>8237910.0</td>\n",
       "      <td>NaN</td>\n",
       "      <td>NaN</td>\n",
       "    </tr>\n",
       "    <tr>\n",
       "      <th>previous_bookings_not_canceled</th>\n",
       "      <td>955120.0</td>\n",
       "      <td>75166.0</td>\n",
       "      <td>92.13</td>\n",
       "    </tr>\n",
       "    <tr>\n",
       "      <th>previous_cancellations</th>\n",
       "      <td>955120.0</td>\n",
       "      <td>75166.0</td>\n",
       "      <td>92.13</td>\n",
       "    </tr>\n",
       "    <tr>\n",
       "      <th>required_car_parking_spaces</th>\n",
       "      <td>955120.0</td>\n",
       "      <td>75166.0</td>\n",
       "      <td>92.13</td>\n",
       "    </tr>\n",
       "    <tr>\n",
       "      <th>reservation_status</th>\n",
       "      <td>7834309.0</td>\n",
       "      <td>75340.0</td>\n",
       "      <td>99.04</td>\n",
       "    </tr>\n",
       "    <tr>\n",
       "      <th>reservation_status_date</th>\n",
       "      <td>7999130.0</td>\n",
       "      <td>601328.0</td>\n",
       "      <td>92.48</td>\n",
       "    </tr>\n",
       "    <tr>\n",
       "      <th>reserved_room_type</th>\n",
       "      <td>6924620.0</td>\n",
       "      <td>75988.0</td>\n",
       "      <td>98.90</td>\n",
       "    </tr>\n",
       "    <tr>\n",
       "      <th>stays_in_week_nights</th>\n",
       "      <td>955120.0</td>\n",
       "      <td>75166.0</td>\n",
       "      <td>92.13</td>\n",
       "    </tr>\n",
       "    <tr>\n",
       "      <th>stays_in_weekend_nights</th>\n",
       "      <td>955120.0</td>\n",
       "      <td>75166.0</td>\n",
       "      <td>92.13</td>\n",
       "    </tr>\n",
       "    <tr>\n",
       "      <th>total_of_special_requests</th>\n",
       "      <td>955120.0</td>\n",
       "      <td>75166.0</td>\n",
       "      <td>92.13</td>\n",
       "    </tr>\n",
       "    <tr>\n",
       "      <th>Total</th>\n",
       "      <td>144723744.0</td>\n",
       "      <td>14700671.0</td>\n",
       "      <td>89.84</td>\n",
       "    </tr>\n",
       "  </tbody>\n",
       "</table>\n",
       "</div>"
      ],
      "text/plain": [
       "                                   original     tweaked  percentage_reduced\n",
       "index                                                                      \n",
       "Index                                 128.0       128.0                0.00\n",
       "adr                                955120.0    601328.0               37.04\n",
       "adults                             955120.0     75166.0               92.13\n",
       "agent                              955120.0    161300.0               83.11\n",
       "arrival_date                            NaN    601328.0                 NaN\n",
       "arrival_date_day_of_month          955120.0         NaN                 NaN\n",
       "arrival_date_month                7510011.0         NaN                 NaN\n",
       "arrival_date_week_number           955120.0         NaN                 NaN\n",
       "arrival_date_year                  955120.0         NaN                 NaN\n",
       "assigned_room_type                6924620.0     76046.0               98.90\n",
       "babies                             955120.0     75166.0               92.13\n",
       "booking_changes                    955120.0     75166.0               92.13\n",
       "children                           955120.0     75166.0               92.13\n",
       "company                            955120.0    161452.0               83.10\n",
       "country                           7148457.0    165119.0               97.69\n",
       "credit_card                       8715470.0         NaN                 NaN\n",
       "customer_type                     8024100.0     75603.0               99.06\n",
       "days_in_waiting_list               955120.0    300664.0               68.52\n",
       "deposit_type                      7999130.0     75475.0               99.06\n",
       "distribution_channel              7443167.0     75655.0               98.98\n",
       "email                             9457637.0         NaN                 NaN\n",
       "hotel                             8079250.0   5093998.0               36.95\n",
       "is_canceled                        955120.0         NaN                 NaN\n",
       "is_repeated_guest                  955120.0     75290.0               92.12\n",
       "lead_time                          955120.0    300664.0               68.52\n",
       "market_segment                    7882100.0     75929.0               99.04\n",
       "meal                              7052193.0     75640.0               98.93\n",
       "name                              8389112.0   5280736.0               37.05\n",
       "phone-number                      8237910.0         NaN                 NaN\n",
       "previous_bookings_not_canceled     955120.0     75166.0               92.13\n",
       "previous_cancellations             955120.0     75166.0               92.13\n",
       "required_car_parking_spaces        955120.0     75166.0               92.13\n",
       "reservation_status                7834309.0     75340.0               99.04\n",
       "reservation_status_date           7999130.0    601328.0               92.48\n",
       "reserved_room_type                6924620.0     75988.0               98.90\n",
       "stays_in_week_nights               955120.0     75166.0               92.13\n",
       "stays_in_weekend_nights            955120.0     75166.0               92.13\n",
       "total_of_special_requests          955120.0     75166.0               92.13\n",
       "Total                           144723744.0  14700671.0               89.84"
      ]
     },
     "execution_count": 16,
     "metadata": {},
     "output_type": "execute_result"
    }
   ],
   "source": [
    "#to check the reduction in memory size of the dataframe\n",
    "memory_usage_original= pd.Series(hotels_df.memory_usage(deep= True), name= \"original\")#.sum()\n",
    "memory_usage_tweaked=  pd.Series(hotels.memory_usage(deep= True), name= \"tweaked\")#.sum()\n",
    "\n",
    "x= (pd\n",
    "    .merge(memory_usage_original, memory_usage_tweaked, left_index= True, right_index= True, how= \"outer\")\n",
    "    .reset_index()\n",
    "    .pipe(get_total_row)\n",
    "    .assign(percentage_reduced= lambda df_: round((df_[\"original\"]- df_[\"tweaked\"])/df_[\"original\"]*100, 2))\n",
    "    .set_index(\"index\")\n",
    "   )\n",
    "# x.loc[\"Total\"] = x.sum()\n",
    "\n",
    "# x[\"check\"]= np.where(x[\"original\"]> x[\"tweaked\"], True, False)   #np.select, np.where\n",
    "# x[\"reduced_by\"]= round((x[\"original\"]- x[\"tweaked\"])/x[\"original\"]*100, 2)\n",
    "\n",
    "\n",
    "print(f\"%age reduction in memory usage: {x.loc['Total', 'percentage_reduced']}\")\n",
    "print(\"other comparisons\")\n",
    "x"
   ]
  },
  {
   "cell_type": "markdown",
   "id": "067aec50",
   "metadata": {
    "id": "MSa1f5Uengrz",
    "papermill": {
     "duration": 0.035868,
     "end_time": "2023-03-22T05:52:00.189335",
     "exception": false,
     "start_time": "2023-03-22T05:52:00.153467",
     "status": "completed"
    },
    "tags": []
   },
   "source": [
    "### What all manipulations have you done and insights you found?"
   ]
  },
  {
   "cell_type": "markdown",
   "id": "768b7e40",
   "metadata": {
    "id": "LbyXE7I1olp8",
    "papermill": {
     "duration": 0.031945,
     "end_time": "2023-03-22T05:52:00.255152",
     "exception": false,
     "start_time": "2023-03-22T05:52:00.223207",
     "status": "completed"
    },
    "tags": []
   },
   "source": [
    "Answer Here."
   ]
  },
  {
   "cell_type": "markdown",
   "id": "2e2769ff",
   "metadata": {
    "id": "GF8Ens_Soomf",
    "papermill": {
     "duration": 0.031765,
     "end_time": "2023-03-22T05:52:00.318948",
     "exception": false,
     "start_time": "2023-03-22T05:52:00.287183",
     "status": "completed"
    },
    "tags": []
   },
   "source": [
    "## ***4. Data Vizualization, Storytelling & Experimenting with charts : Understand the relationships between variables***"
   ]
  },
  {
   "cell_type": "markdown",
   "id": "d67541b5",
   "metadata": {
    "papermill": {
     "duration": 0.031768,
     "end_time": "2023-03-22T05:52:00.383174",
     "exception": false,
     "start_time": "2023-03-22T05:52:00.351406",
     "status": "completed"
    },
    "tags": []
   },
   "source": [
    "### Some functions that will come handy later\n"
   ]
  },
  {
   "cell_type": "markdown",
   "id": "22834e03",
   "metadata": {
    "id": "0wOQAZs5pc--",
    "papermill": {
     "duration": 0.031881,
     "end_time": "2023-03-22T05:52:00.447094",
     "exception": false,
     "start_time": "2023-03-22T05:52:00.415213",
     "status": "completed"
    },
    "tags": []
   },
   "source": [
    "#### Chart - 1"
   ]
  },
  {
   "cell_type": "code",
   "execution_count": 17,
   "id": "c9420152",
   "metadata": {
    "execution": {
     "iopub.execute_input": "2023-03-22T05:52:00.516367Z",
     "iopub.status.busy": "2023-03-22T05:52:00.515878Z",
     "iopub.status.idle": "2023-03-22T05:52:00.522122Z",
     "shell.execute_reply": "2023-03-22T05:52:00.520470Z"
    },
    "id": "7v_ESjsspbW7",
    "papermill": {
     "duration": 0.043504,
     "end_time": "2023-03-22T05:52:00.524705",
     "exception": false,
     "start_time": "2023-03-22T05:52:00.481201",
     "status": "completed"
    },
    "tags": []
   },
   "outputs": [],
   "source": [
    "# Chart - 1 visualization code"
   ]
  },
  {
   "cell_type": "markdown",
   "id": "701977fe",
   "metadata": {
    "id": "K5QZ13OEpz2H",
    "papermill": {
     "duration": 0.032031,
     "end_time": "2023-03-22T05:52:00.589022",
     "exception": false,
     "start_time": "2023-03-22T05:52:00.556991",
     "status": "completed"
    },
    "tags": []
   },
   "source": [
    "##### 1. Why did you pick the specific chart?"
   ]
  },
  {
   "cell_type": "markdown",
   "id": "ca1e6744",
   "metadata": {
    "id": "XESiWehPqBRc",
    "papermill": {
     "duration": 0.03212,
     "end_time": "2023-03-22T05:52:00.653245",
     "exception": false,
     "start_time": "2023-03-22T05:52:00.621125",
     "status": "completed"
    },
    "tags": []
   },
   "source": [
    "Answer Here."
   ]
  },
  {
   "cell_type": "markdown",
   "id": "a6f5998e",
   "metadata": {
    "id": "lQ7QKXXCp7Bj",
    "papermill": {
     "duration": 0.031528,
     "end_time": "2023-03-22T05:52:00.717137",
     "exception": false,
     "start_time": "2023-03-22T05:52:00.685609",
     "status": "completed"
    },
    "tags": []
   },
   "source": [
    "##### 2. What is/are the insight(s) found from the chart?"
   ]
  },
  {
   "cell_type": "markdown",
   "id": "b2db8209",
   "metadata": {
    "id": "C_j1G7yiqdRP",
    "papermill": {
     "duration": 0.031326,
     "end_time": "2023-03-22T05:52:00.780430",
     "exception": false,
     "start_time": "2023-03-22T05:52:00.749104",
     "status": "completed"
    },
    "tags": []
   },
   "source": [
    "Answer Here"
   ]
  },
  {
   "cell_type": "markdown",
   "id": "cea7abbb",
   "metadata": {
    "id": "448CDAPjqfQr",
    "papermill": {
     "duration": 0.032073,
     "end_time": "2023-03-22T05:52:00.945063",
     "exception": false,
     "start_time": "2023-03-22T05:52:00.912990",
     "status": "completed"
    },
    "tags": []
   },
   "source": [
    "##### 3. Will the gained insights help creating a positive business impact? \n",
    "Are there any insights that lead to negative growth? Justify with specific reason."
   ]
  },
  {
   "cell_type": "markdown",
   "id": "42ba92e7",
   "metadata": {
    "id": "3cspy4FjqxJW",
    "papermill": {
     "duration": 0.033953,
     "end_time": "2023-03-22T05:52:01.012321",
     "exception": false,
     "start_time": "2023-03-22T05:52:00.978368",
     "status": "completed"
    },
    "tags": []
   },
   "source": [
    "Answer Here"
   ]
  },
  {
   "cell_type": "markdown",
   "id": "8c2060d5",
   "metadata": {
    "id": "KSlN3yHqYklG",
    "papermill": {
     "duration": 0.033214,
     "end_time": "2023-03-22T05:52:01.077907",
     "exception": false,
     "start_time": "2023-03-22T05:52:01.044693",
     "status": "completed"
    },
    "tags": []
   },
   "source": [
    "#### Chart - 2"
   ]
  },
  {
   "cell_type": "code",
   "execution_count": 18,
   "id": "2f3efb99",
   "metadata": {
    "execution": {
     "iopub.execute_input": "2023-03-22T05:52:01.145746Z",
     "iopub.status.busy": "2023-03-22T05:52:01.145192Z",
     "iopub.status.idle": "2023-03-22T05:52:01.150335Z",
     "shell.execute_reply": "2023-03-22T05:52:01.149130Z"
    },
    "id": "R4YgtaqtYklH",
    "papermill": {
     "duration": 0.042484,
     "end_time": "2023-03-22T05:52:01.152959",
     "exception": false,
     "start_time": "2023-03-22T05:52:01.110475",
     "status": "completed"
    },
    "tags": []
   },
   "outputs": [],
   "source": [
    "# Chart - 2 visualization code"
   ]
  },
  {
   "cell_type": "markdown",
   "id": "b59b4208",
   "metadata": {
    "id": "t6dVpIINYklI",
    "papermill": {
     "duration": 0.032283,
     "end_time": "2023-03-22T05:52:01.218199",
     "exception": false,
     "start_time": "2023-03-22T05:52:01.185916",
     "status": "completed"
    },
    "tags": []
   },
   "source": [
    "##### 1. Why did you pick the specific chart?"
   ]
  },
  {
   "cell_type": "markdown",
   "id": "63e1e250",
   "metadata": {
    "id": "5aaW0BYyYklI",
    "papermill": {
     "duration": 0.032187,
     "end_time": "2023-03-22T05:52:01.283174",
     "exception": false,
     "start_time": "2023-03-22T05:52:01.250987",
     "status": "completed"
    },
    "tags": []
   },
   "source": [
    "Answer Here."
   ]
  },
  {
   "cell_type": "markdown",
   "id": "ad1c2b48",
   "metadata": {
    "id": "ijmpgYnKYklI",
    "papermill": {
     "duration": 0.033258,
     "end_time": "2023-03-22T05:52:01.348991",
     "exception": false,
     "start_time": "2023-03-22T05:52:01.315733",
     "status": "completed"
    },
    "tags": []
   },
   "source": [
    "##### 2. What is/are the insight(s) found from the chart?"
   ]
  },
  {
   "cell_type": "markdown",
   "id": "cc5518b4",
   "metadata": {
    "id": "PSx9atu2YklI",
    "papermill": {
     "duration": 0.032435,
     "end_time": "2023-03-22T05:52:01.414382",
     "exception": false,
     "start_time": "2023-03-22T05:52:01.381947",
     "status": "completed"
    },
    "tags": []
   },
   "source": [
    "Answer Here"
   ]
  },
  {
   "cell_type": "markdown",
   "id": "fd57eccf",
   "metadata": {
    "id": "-JiQyfWJYklI",
    "papermill": {
     "duration": 0.033493,
     "end_time": "2023-03-22T05:52:01.480407",
     "exception": false,
     "start_time": "2023-03-22T05:52:01.446914",
     "status": "completed"
    },
    "tags": []
   },
   "source": [
    "##### 3. Will the gained insights help creating a positive business impact? \n",
    "Are there any insights that lead to negative growth? Justify with specific reason."
   ]
  },
  {
   "cell_type": "markdown",
   "id": "949497e1",
   "metadata": {
    "id": "BcBbebzrYklV",
    "papermill": {
     "duration": 0.03399,
     "end_time": "2023-03-22T05:52:01.547669",
     "exception": false,
     "start_time": "2023-03-22T05:52:01.513679",
     "status": "completed"
    },
    "tags": []
   },
   "source": [
    "Answer Here"
   ]
  },
  {
   "cell_type": "markdown",
   "id": "155b19be",
   "metadata": {
    "id": "EM7whBJCYoAo",
    "papermill": {
     "duration": 0.031187,
     "end_time": "2023-03-22T05:52:01.612204",
     "exception": false,
     "start_time": "2023-03-22T05:52:01.581017",
     "status": "completed"
    },
    "tags": []
   },
   "source": [
    "#### Chart - 3"
   ]
  },
  {
   "cell_type": "code",
   "execution_count": 19,
   "id": "00b5f858",
   "metadata": {
    "execution": {
     "iopub.execute_input": "2023-03-22T05:52:01.678360Z",
     "iopub.status.busy": "2023-03-22T05:52:01.677880Z",
     "iopub.status.idle": "2023-03-22T05:52:01.683040Z",
     "shell.execute_reply": "2023-03-22T05:52:01.681980Z"
    },
    "id": "t6GMdE67YoAp",
    "papermill": {
     "duration": 0.042408,
     "end_time": "2023-03-22T05:52:01.686185",
     "exception": false,
     "start_time": "2023-03-22T05:52:01.643777",
     "status": "completed"
    },
    "tags": []
   },
   "outputs": [],
   "source": [
    "# Chart - 3 visualization code"
   ]
  },
  {
   "cell_type": "markdown",
   "id": "70b712ab",
   "metadata": {
    "id": "fge-S5ZAYoAp",
    "papermill": {
     "duration": 0.03242,
     "end_time": "2023-03-22T05:52:01.751259",
     "exception": false,
     "start_time": "2023-03-22T05:52:01.718839",
     "status": "completed"
    },
    "tags": []
   },
   "source": [
    "##### 1. Why did you pick the specific chart?"
   ]
  },
  {
   "cell_type": "markdown",
   "id": "564d26e1",
   "metadata": {
    "id": "5dBItgRVYoAp",
    "papermill": {
     "duration": 0.032079,
     "end_time": "2023-03-22T05:52:01.815458",
     "exception": false,
     "start_time": "2023-03-22T05:52:01.783379",
     "status": "completed"
    },
    "tags": []
   },
   "source": [
    "Answer Here."
   ]
  },
  {
   "cell_type": "markdown",
   "id": "caa261ab",
   "metadata": {
    "id": "85gYPyotYoAp",
    "papermill": {
     "duration": 0.032718,
     "end_time": "2023-03-22T05:52:01.881882",
     "exception": false,
     "start_time": "2023-03-22T05:52:01.849164",
     "status": "completed"
    },
    "tags": []
   },
   "source": [
    "##### 2. What is/are the insight(s) found from the chart?"
   ]
  },
  {
   "cell_type": "markdown",
   "id": "2901fdf2",
   "metadata": {
    "id": "4jstXR6OYoAp",
    "papermill": {
     "duration": 0.032782,
     "end_time": "2023-03-22T05:52:01.950742",
     "exception": false,
     "start_time": "2023-03-22T05:52:01.917960",
     "status": "completed"
    },
    "tags": []
   },
   "source": [
    "Answer Here"
   ]
  },
  {
   "cell_type": "markdown",
   "id": "4ed8ef7f",
   "metadata": {
    "id": "RoGjAbkUYoAp",
    "papermill": {
     "duration": 0.041132,
     "end_time": "2023-03-22T05:52:02.030943",
     "exception": false,
     "start_time": "2023-03-22T05:52:01.989811",
     "status": "completed"
    },
    "tags": []
   },
   "source": [
    "##### 3. Will the gained insights help creating a positive business impact? \n",
    "Are there any insights that lead to negative growth? Justify with specific reason."
   ]
  },
  {
   "cell_type": "markdown",
   "id": "3778ee66",
   "metadata": {
    "id": "zfJ8IqMcYoAp",
    "papermill": {
     "duration": 0.038629,
     "end_time": "2023-03-22T05:52:02.114431",
     "exception": false,
     "start_time": "2023-03-22T05:52:02.075802",
     "status": "completed"
    },
    "tags": []
   },
   "source": [
    "Answer Here"
   ]
  },
  {
   "cell_type": "markdown",
   "id": "5991391e",
   "metadata": {
    "id": "4Of9eVA-YrdM",
    "papermill": {
     "duration": 0.037622,
     "end_time": "2023-03-22T05:52:02.185213",
     "exception": false,
     "start_time": "2023-03-22T05:52:02.147591",
     "status": "completed"
    },
    "tags": []
   },
   "source": [
    "#### Chart - 4"
   ]
  },
  {
   "cell_type": "code",
   "execution_count": 20,
   "id": "018f618c",
   "metadata": {
    "execution": {
     "iopub.execute_input": "2023-03-22T05:52:02.256895Z",
     "iopub.status.busy": "2023-03-22T05:52:02.255776Z",
     "iopub.status.idle": "2023-03-22T05:52:02.261200Z",
     "shell.execute_reply": "2023-03-22T05:52:02.259868Z"
    },
    "id": "irlUoxc8YrdO",
    "papermill": {
     "duration": 0.044648,
     "end_time": "2023-03-22T05:52:02.264740",
     "exception": false,
     "start_time": "2023-03-22T05:52:02.220092",
     "status": "completed"
    },
    "tags": []
   },
   "outputs": [],
   "source": [
    "# Chart - 4 visualization code"
   ]
  },
  {
   "cell_type": "markdown",
   "id": "df431c8b",
   "metadata": {
    "id": "iky9q4vBYrdO",
    "papermill": {
     "duration": 0.047372,
     "end_time": "2023-03-22T05:52:02.360225",
     "exception": false,
     "start_time": "2023-03-22T05:52:02.312853",
     "status": "completed"
    },
    "tags": []
   },
   "source": [
    "##### 1. Why did you pick the specific chart?"
   ]
  },
  {
   "cell_type": "markdown",
   "id": "9430ef13",
   "metadata": {
    "id": "aJRCwT6DYrdO",
    "papermill": {
     "duration": 0.042438,
     "end_time": "2023-03-22T05:52:02.437719",
     "exception": false,
     "start_time": "2023-03-22T05:52:02.395281",
     "status": "completed"
    },
    "tags": []
   },
   "source": [
    "Answer Here."
   ]
  },
  {
   "cell_type": "markdown",
   "id": "5b364b86",
   "metadata": {
    "id": "F6T5p64dYrdO",
    "papermill": {
     "duration": 0.032469,
     "end_time": "2023-03-22T05:52:02.505423",
     "exception": false,
     "start_time": "2023-03-22T05:52:02.472954",
     "status": "completed"
    },
    "tags": []
   },
   "source": [
    "##### 2. What is/are the insight(s) found from the chart?"
   ]
  },
  {
   "cell_type": "markdown",
   "id": "76490dc9",
   "metadata": {
    "id": "Xx8WAJvtYrdO",
    "papermill": {
     "duration": 0.034644,
     "end_time": "2023-03-22T05:52:02.577569",
     "exception": false,
     "start_time": "2023-03-22T05:52:02.542925",
     "status": "completed"
    },
    "tags": []
   },
   "source": [
    "Answer Here"
   ]
  },
  {
   "cell_type": "markdown",
   "id": "336b8988",
   "metadata": {
    "id": "y-Ehk30pYrdP",
    "papermill": {
     "duration": 0.033189,
     "end_time": "2023-03-22T05:52:02.644251",
     "exception": false,
     "start_time": "2023-03-22T05:52:02.611062",
     "status": "completed"
    },
    "tags": []
   },
   "source": [
    "##### 3. Will the gained insights help creating a positive business impact? \n",
    "Are there any insights that lead to negative growth? Justify with specific reason."
   ]
  },
  {
   "cell_type": "markdown",
   "id": "3779ac55",
   "metadata": {
    "id": "jLNxxz7MYrdP",
    "papermill": {
     "duration": 0.033407,
     "end_time": "2023-03-22T05:52:02.710905",
     "exception": false,
     "start_time": "2023-03-22T05:52:02.677498",
     "status": "completed"
    },
    "tags": []
   },
   "source": [
    "Answer Here"
   ]
  },
  {
   "cell_type": "markdown",
   "id": "1bec1e21",
   "metadata": {
    "id": "bamQiAODYuh1",
    "papermill": {
     "duration": 0.032976,
     "end_time": "2023-03-22T05:52:02.777435",
     "exception": false,
     "start_time": "2023-03-22T05:52:02.744459",
     "status": "completed"
    },
    "tags": []
   },
   "source": [
    "#### Chart - 5"
   ]
  },
  {
   "cell_type": "code",
   "execution_count": 21,
   "id": "5129a270",
   "metadata": {
    "execution": {
     "iopub.execute_input": "2023-03-22T05:52:02.848231Z",
     "iopub.status.busy": "2023-03-22T05:52:02.847732Z",
     "iopub.status.idle": "2023-03-22T05:52:02.853865Z",
     "shell.execute_reply": "2023-03-22T05:52:02.852356Z"
    },
    "id": "TIJwrbroYuh3",
    "papermill": {
     "duration": 0.045331,
     "end_time": "2023-03-22T05:52:02.856602",
     "exception": false,
     "start_time": "2023-03-22T05:52:02.811271",
     "status": "completed"
    },
    "tags": []
   },
   "outputs": [],
   "source": [
    "# Chart - 5 visualization code"
   ]
  },
  {
   "cell_type": "markdown",
   "id": "d19722cf",
   "metadata": {
    "id": "QHF8YVU7Yuh3",
    "papermill": {
     "duration": 0.033649,
     "end_time": "2023-03-22T05:52:02.923435",
     "exception": false,
     "start_time": "2023-03-22T05:52:02.889786",
     "status": "completed"
    },
    "tags": []
   },
   "source": [
    "##### 1. Why did you pick the specific chart?"
   ]
  },
  {
   "cell_type": "markdown",
   "id": "8a2cf372",
   "metadata": {
    "id": "dcxuIMRPYuh3",
    "papermill": {
     "duration": 0.033049,
     "end_time": "2023-03-22T05:52:02.993229",
     "exception": false,
     "start_time": "2023-03-22T05:52:02.960180",
     "status": "completed"
    },
    "tags": []
   },
   "source": [
    "Answer Here."
   ]
  },
  {
   "cell_type": "markdown",
   "id": "280f0d17",
   "metadata": {
    "id": "GwzvFGzlYuh3",
    "papermill": {
     "duration": 0.032255,
     "end_time": "2023-03-22T05:52:03.060858",
     "exception": false,
     "start_time": "2023-03-22T05:52:03.028603",
     "status": "completed"
    },
    "tags": []
   },
   "source": [
    "##### 2. What is/are the insight(s) found from the chart?"
   ]
  },
  {
   "cell_type": "markdown",
   "id": "7736e169",
   "metadata": {
    "id": "uyqkiB8YYuh3",
    "papermill": {
     "duration": 0.032477,
     "end_time": "2023-03-22T05:52:03.126060",
     "exception": false,
     "start_time": "2023-03-22T05:52:03.093583",
     "status": "completed"
    },
    "tags": []
   },
   "source": [
    "Answer Here"
   ]
  },
  {
   "cell_type": "markdown",
   "id": "75fb1dcd",
   "metadata": {
    "id": "qYpmQ266Yuh3",
    "papermill": {
     "duration": 0.03203,
     "end_time": "2023-03-22T05:52:03.190964",
     "exception": false,
     "start_time": "2023-03-22T05:52:03.158934",
     "status": "completed"
    },
    "tags": []
   },
   "source": [
    "##### 3. Will the gained insights help creating a positive business impact? \n",
    "Are there any insights that lead to negative growth? Justify with specific reason."
   ]
  },
  {
   "cell_type": "markdown",
   "id": "349219bf",
   "metadata": {
    "id": "_WtzZ_hCYuh4",
    "papermill": {
     "duration": 0.03268,
     "end_time": "2023-03-22T05:52:03.256259",
     "exception": false,
     "start_time": "2023-03-22T05:52:03.223579",
     "status": "completed"
    },
    "tags": []
   },
   "source": [
    "Answer Here"
   ]
  },
  {
   "cell_type": "markdown",
   "id": "ba5259c2",
   "metadata": {
    "id": "OH-pJp9IphqM",
    "papermill": {
     "duration": 0.032352,
     "end_time": "2023-03-22T05:52:03.321445",
     "exception": false,
     "start_time": "2023-03-22T05:52:03.289093",
     "status": "completed"
    },
    "tags": []
   },
   "source": [
    "#### Chart - 6"
   ]
  },
  {
   "cell_type": "code",
   "execution_count": 22,
   "id": "2a124b5f",
   "metadata": {
    "execution": {
     "iopub.execute_input": "2023-03-22T05:52:03.390349Z",
     "iopub.status.busy": "2023-03-22T05:52:03.389880Z",
     "iopub.status.idle": "2023-03-22T05:52:03.395571Z",
     "shell.execute_reply": "2023-03-22T05:52:03.394123Z"
    },
    "id": "kuRf4wtuphqN",
    "papermill": {
     "duration": 0.043096,
     "end_time": "2023-03-22T05:52:03.398041",
     "exception": false,
     "start_time": "2023-03-22T05:52:03.354945",
     "status": "completed"
    },
    "tags": []
   },
   "outputs": [],
   "source": [
    "# Chart - 6 visualization code"
   ]
  },
  {
   "cell_type": "markdown",
   "id": "7965b9a8",
   "metadata": {
    "id": "bbFf2-_FphqN",
    "papermill": {
     "duration": 0.032446,
     "end_time": "2023-03-22T05:52:03.465613",
     "exception": false,
     "start_time": "2023-03-22T05:52:03.433167",
     "status": "completed"
    },
    "tags": []
   },
   "source": [
    "##### 1. Why did you pick the specific chart?"
   ]
  },
  {
   "cell_type": "markdown",
   "id": "e59a591c",
   "metadata": {
    "id": "loh7H2nzphqN",
    "papermill": {
     "duration": 0.03287,
     "end_time": "2023-03-22T05:52:03.531141",
     "exception": false,
     "start_time": "2023-03-22T05:52:03.498271",
     "status": "completed"
    },
    "tags": []
   },
   "source": [
    "Answer Here."
   ]
  },
  {
   "cell_type": "markdown",
   "id": "d567deb1",
   "metadata": {
    "id": "_ouA3fa0phqN",
    "papermill": {
     "duration": 0.032433,
     "end_time": "2023-03-22T05:52:03.609871",
     "exception": false,
     "start_time": "2023-03-22T05:52:03.577438",
     "status": "completed"
    },
    "tags": []
   },
   "source": [
    "##### 2. What is/are the insight(s) found from the chart?"
   ]
  },
  {
   "cell_type": "markdown",
   "id": "28e06a53",
   "metadata": {
    "id": "VECbqPI7phqN",
    "papermill": {
     "duration": 0.032447,
     "end_time": "2023-03-22T05:52:03.675344",
     "exception": false,
     "start_time": "2023-03-22T05:52:03.642897",
     "status": "completed"
    },
    "tags": []
   },
   "source": [
    "Answer Here"
   ]
  },
  {
   "cell_type": "markdown",
   "id": "35236b19",
   "metadata": {
    "id": "Seke61FWphqN",
    "papermill": {
     "duration": 0.032306,
     "end_time": "2023-03-22T05:52:03.742059",
     "exception": false,
     "start_time": "2023-03-22T05:52:03.709753",
     "status": "completed"
    },
    "tags": []
   },
   "source": [
    "##### 3. Will the gained insights help creating a positive business impact? \n",
    "Are there any insights that lead to negative growth? Justify with specific reason."
   ]
  },
  {
   "cell_type": "markdown",
   "id": "89ad3ba4",
   "metadata": {
    "id": "DW4_bGpfphqN",
    "papermill": {
     "duration": 0.03254,
     "end_time": "2023-03-22T05:52:03.808190",
     "exception": false,
     "start_time": "2023-03-22T05:52:03.775650",
     "status": "completed"
    },
    "tags": []
   },
   "source": [
    "Answer Here"
   ]
  },
  {
   "cell_type": "markdown",
   "id": "d1a249b7",
   "metadata": {
    "id": "PIIx-8_IphqN",
    "papermill": {
     "duration": 0.032467,
     "end_time": "2023-03-22T05:52:03.873255",
     "exception": false,
     "start_time": "2023-03-22T05:52:03.840788",
     "status": "completed"
    },
    "tags": []
   },
   "source": [
    "#### Chart - 7"
   ]
  },
  {
   "cell_type": "code",
   "execution_count": 23,
   "id": "69070ee7",
   "metadata": {
    "execution": {
     "iopub.execute_input": "2023-03-22T05:52:03.941750Z",
     "iopub.status.busy": "2023-03-22T05:52:03.940355Z",
     "iopub.status.idle": "2023-03-22T05:52:03.945511Z",
     "shell.execute_reply": "2023-03-22T05:52:03.944529Z"
    },
    "id": "lqAIGUfyphqO",
    "papermill": {
     "duration": 0.041855,
     "end_time": "2023-03-22T05:52:03.947752",
     "exception": false,
     "start_time": "2023-03-22T05:52:03.905897",
     "status": "completed"
    },
    "tags": []
   },
   "outputs": [],
   "source": [
    "# Chart - 7 visualization code"
   ]
  },
  {
   "cell_type": "markdown",
   "id": "22b31af9",
   "metadata": {
    "id": "t27r6nlMphqO",
    "papermill": {
     "duration": 0.034396,
     "end_time": "2023-03-22T05:52:04.015593",
     "exception": false,
     "start_time": "2023-03-22T05:52:03.981197",
     "status": "completed"
    },
    "tags": []
   },
   "source": [
    "##### 1. Why did you pick the specific chart?"
   ]
  },
  {
   "cell_type": "markdown",
   "id": "33636e9d",
   "metadata": {
    "id": "iv6ro40sphqO",
    "papermill": {
     "duration": 0.032454,
     "end_time": "2023-03-22T05:52:04.083893",
     "exception": false,
     "start_time": "2023-03-22T05:52:04.051439",
     "status": "completed"
    },
    "tags": []
   },
   "source": [
    "Answer Here."
   ]
  },
  {
   "cell_type": "markdown",
   "id": "d484499a",
   "metadata": {
    "id": "r2jJGEOYphqO",
    "papermill": {
     "duration": 0.032248,
     "end_time": "2023-03-22T05:52:04.149124",
     "exception": false,
     "start_time": "2023-03-22T05:52:04.116876",
     "status": "completed"
    },
    "tags": []
   },
   "source": [
    "##### 2. What is/are the insight(s) found from the chart?"
   ]
  },
  {
   "cell_type": "markdown",
   "id": "0d778035",
   "metadata": {
    "id": "Po6ZPi4hphqO",
    "papermill": {
     "duration": 0.032011,
     "end_time": "2023-03-22T05:52:04.213798",
     "exception": false,
     "start_time": "2023-03-22T05:52:04.181787",
     "status": "completed"
    },
    "tags": []
   },
   "source": [
    "Answer Here"
   ]
  },
  {
   "cell_type": "markdown",
   "id": "1b004eb5",
   "metadata": {
    "id": "b0JNsNcRphqO",
    "papermill": {
     "duration": 0.032673,
     "end_time": "2023-03-22T05:52:04.279818",
     "exception": false,
     "start_time": "2023-03-22T05:52:04.247145",
     "status": "completed"
    },
    "tags": []
   },
   "source": [
    "##### 3. Will the gained insights help creating a positive business impact? \n",
    "Are there any insights that lead to negative growth? Justify with specific reason."
   ]
  },
  {
   "cell_type": "markdown",
   "id": "fa7ffd0c",
   "metadata": {
    "id": "xvSq8iUTphqO",
    "papermill": {
     "duration": 0.032732,
     "end_time": "2023-03-22T05:52:04.345255",
     "exception": false,
     "start_time": "2023-03-22T05:52:04.312523",
     "status": "completed"
    },
    "tags": []
   },
   "source": [
    "Answer Here"
   ]
  },
  {
   "cell_type": "markdown",
   "id": "4eb9f8c9",
   "metadata": {
    "id": "BZR9WyysphqO",
    "papermill": {
     "duration": 0.033056,
     "end_time": "2023-03-22T05:52:04.411321",
     "exception": false,
     "start_time": "2023-03-22T05:52:04.378265",
     "status": "completed"
    },
    "tags": []
   },
   "source": [
    "#### Chart - 8"
   ]
  },
  {
   "cell_type": "code",
   "execution_count": 24,
   "id": "b3baf297",
   "metadata": {
    "execution": {
     "iopub.execute_input": "2023-03-22T05:52:04.480464Z",
     "iopub.status.busy": "2023-03-22T05:52:04.479997Z",
     "iopub.status.idle": "2023-03-22T05:52:04.485094Z",
     "shell.execute_reply": "2023-03-22T05:52:04.483842Z"
    },
    "id": "TdPTWpAVphqO",
    "papermill": {
     "duration": 0.042817,
     "end_time": "2023-03-22T05:52:04.487685",
     "exception": false,
     "start_time": "2023-03-22T05:52:04.444868",
     "status": "completed"
    },
    "tags": []
   },
   "outputs": [],
   "source": [
    "# Chart - 8 visualization code"
   ]
  },
  {
   "cell_type": "markdown",
   "id": "787b4d97",
   "metadata": {
    "id": "jj7wYXLtphqO",
    "papermill": {
     "duration": 0.033005,
     "end_time": "2023-03-22T05:52:04.556425",
     "exception": false,
     "start_time": "2023-03-22T05:52:04.523420",
     "status": "completed"
    },
    "tags": []
   },
   "source": [
    "##### 1. Why did you pick the specific chart?"
   ]
  },
  {
   "cell_type": "markdown",
   "id": "36af1174",
   "metadata": {
    "id": "Ob8u6rCTphqO",
    "papermill": {
     "duration": 0.032638,
     "end_time": "2023-03-22T05:52:04.622424",
     "exception": false,
     "start_time": "2023-03-22T05:52:04.589786",
     "status": "completed"
    },
    "tags": []
   },
   "source": [
    "Answer Here."
   ]
  },
  {
   "cell_type": "markdown",
   "id": "134289ed",
   "metadata": {
    "id": "eZrbJ2SmphqO",
    "papermill": {
     "duration": 0.032692,
     "end_time": "2023-03-22T05:52:04.687638",
     "exception": false,
     "start_time": "2023-03-22T05:52:04.654946",
     "status": "completed"
    },
    "tags": []
   },
   "source": [
    "##### 2. What is/are the insight(s) found from the chart?"
   ]
  },
  {
   "cell_type": "markdown",
   "id": "85493f7b",
   "metadata": {
    "id": "mZtgC_hjphqO",
    "papermill": {
     "duration": 0.032742,
     "end_time": "2023-03-22T05:52:04.752878",
     "exception": false,
     "start_time": "2023-03-22T05:52:04.720136",
     "status": "completed"
    },
    "tags": []
   },
   "source": [
    "Answer Here"
   ]
  },
  {
   "cell_type": "markdown",
   "id": "e46c1366",
   "metadata": {
    "id": "rFu4xreNphqO",
    "papermill": {
     "duration": 0.032313,
     "end_time": "2023-03-22T05:52:04.817955",
     "exception": false,
     "start_time": "2023-03-22T05:52:04.785642",
     "status": "completed"
    },
    "tags": []
   },
   "source": [
    "##### 3. Will the gained insights help creating a positive business impact? \n",
    "Are there any insights that lead to negative growth? Justify with specific reason."
   ]
  },
  {
   "cell_type": "markdown",
   "id": "85ca8b49",
   "metadata": {
    "id": "ey_0qi68phqO",
    "papermill": {
     "duration": 0.03225,
     "end_time": "2023-03-22T05:52:04.882849",
     "exception": false,
     "start_time": "2023-03-22T05:52:04.850599",
     "status": "completed"
    },
    "tags": []
   },
   "source": [
    "Answer Here"
   ]
  },
  {
   "cell_type": "markdown",
   "id": "e47dbd5c",
   "metadata": {
    "id": "YJ55k-q6phqO",
    "papermill": {
     "duration": 0.032093,
     "end_time": "2023-03-22T05:52:04.947478",
     "exception": false,
     "start_time": "2023-03-22T05:52:04.915385",
     "status": "completed"
    },
    "tags": []
   },
   "source": [
    "#### Chart - 9"
   ]
  },
  {
   "cell_type": "code",
   "execution_count": 25,
   "id": "77175e96",
   "metadata": {
    "execution": {
     "iopub.execute_input": "2023-03-22T05:52:05.015188Z",
     "iopub.status.busy": "2023-03-22T05:52:05.014703Z",
     "iopub.status.idle": "2023-03-22T05:52:05.019803Z",
     "shell.execute_reply": "2023-03-22T05:52:05.018813Z"
    },
    "id": "B2aS4O1ophqO",
    "papermill": {
     "duration": 0.042162,
     "end_time": "2023-03-22T05:52:05.022155",
     "exception": false,
     "start_time": "2023-03-22T05:52:04.979993",
     "status": "completed"
    },
    "tags": []
   },
   "outputs": [],
   "source": [
    "# Chart - 9 visualization code"
   ]
  },
  {
   "cell_type": "markdown",
   "id": "c740ac17",
   "metadata": {
    "id": "gCFgpxoyphqP",
    "papermill": {
     "duration": 0.032497,
     "end_time": "2023-03-22T05:52:05.088928",
     "exception": false,
     "start_time": "2023-03-22T05:52:05.056431",
     "status": "completed"
    },
    "tags": []
   },
   "source": [
    "##### 1. Why did you pick the specific chart?"
   ]
  },
  {
   "cell_type": "markdown",
   "id": "b1b30552",
   "metadata": {
    "id": "TVxDimi2phqP",
    "papermill": {
     "duration": 0.037455,
     "end_time": "2023-03-22T05:52:05.159063",
     "exception": false,
     "start_time": "2023-03-22T05:52:05.121608",
     "status": "completed"
    },
    "tags": []
   },
   "source": [
    "Answer Here."
   ]
  },
  {
   "cell_type": "markdown",
   "id": "62d8b680",
   "metadata": {
    "id": "OVtJsKN_phqQ",
    "papermill": {
     "duration": 0.032183,
     "end_time": "2023-03-22T05:52:05.228000",
     "exception": false,
     "start_time": "2023-03-22T05:52:05.195817",
     "status": "completed"
    },
    "tags": []
   },
   "source": [
    "##### 2. What is/are the insight(s) found from the chart?"
   ]
  },
  {
   "cell_type": "markdown",
   "id": "84f6cf2e",
   "metadata": {
    "id": "ngGi97qjphqQ",
    "papermill": {
     "duration": 0.032548,
     "end_time": "2023-03-22T05:52:05.293160",
     "exception": false,
     "start_time": "2023-03-22T05:52:05.260612",
     "status": "completed"
    },
    "tags": []
   },
   "source": [
    "Answer Here"
   ]
  },
  {
   "cell_type": "markdown",
   "id": "ad77dce6",
   "metadata": {
    "id": "lssrdh5qphqQ",
    "papermill": {
     "duration": 0.032765,
     "end_time": "2023-03-22T05:52:05.358764",
     "exception": false,
     "start_time": "2023-03-22T05:52:05.325999",
     "status": "completed"
    },
    "tags": []
   },
   "source": [
    "##### 3. Will the gained insights help creating a positive business impact? \n",
    "Are there any insights that lead to negative growth? Justify with specific reason."
   ]
  },
  {
   "cell_type": "markdown",
   "id": "de9a3286",
   "metadata": {
    "id": "tBpY5ekJphqQ",
    "papermill": {
     "duration": 0.03243,
     "end_time": "2023-03-22T05:52:05.424639",
     "exception": false,
     "start_time": "2023-03-22T05:52:05.392209",
     "status": "completed"
    },
    "tags": []
   },
   "source": [
    "Answer Here"
   ]
  },
  {
   "cell_type": "markdown",
   "id": "8db93a97",
   "metadata": {
    "id": "U2RJ9gkRphqQ",
    "papermill": {
     "duration": 0.032483,
     "end_time": "2023-03-22T05:52:05.490054",
     "exception": false,
     "start_time": "2023-03-22T05:52:05.457571",
     "status": "completed"
    },
    "tags": []
   },
   "source": [
    "#### Chart - 10"
   ]
  },
  {
   "cell_type": "code",
   "execution_count": 26,
   "id": "fa6b66c9",
   "metadata": {
    "execution": {
     "iopub.execute_input": "2023-03-22T05:52:05.557812Z",
     "iopub.status.busy": "2023-03-22T05:52:05.556891Z",
     "iopub.status.idle": "2023-03-22T05:52:05.561381Z",
     "shell.execute_reply": "2023-03-22T05:52:05.560552Z"
    },
    "id": "GM7a4YP4phqQ",
    "papermill": {
     "duration": 0.041137,
     "end_time": "2023-03-22T05:52:05.563704",
     "exception": false,
     "start_time": "2023-03-22T05:52:05.522567",
     "status": "completed"
    },
    "tags": []
   },
   "outputs": [],
   "source": [
    "# Chart - 10 visualization code"
   ]
  },
  {
   "cell_type": "markdown",
   "id": "73a5e195",
   "metadata": {
    "id": "1M8mcRywphqQ",
    "papermill": {
     "duration": 0.032405,
     "end_time": "2023-03-22T05:52:05.629073",
     "exception": false,
     "start_time": "2023-03-22T05:52:05.596668",
     "status": "completed"
    },
    "tags": []
   },
   "source": [
    "##### 1. Why did you pick the specific chart?"
   ]
  },
  {
   "cell_type": "markdown",
   "id": "7ce6c299",
   "metadata": {
    "id": "8agQvks0phqQ",
    "papermill": {
     "duration": 0.032833,
     "end_time": "2023-03-22T05:52:05.695884",
     "exception": false,
     "start_time": "2023-03-22T05:52:05.663051",
     "status": "completed"
    },
    "tags": []
   },
   "source": [
    "Answer Here."
   ]
  },
  {
   "cell_type": "markdown",
   "id": "db722498",
   "metadata": {
    "id": "tgIPom80phqQ",
    "papermill": {
     "duration": 0.032261,
     "end_time": "2023-03-22T05:52:05.760578",
     "exception": false,
     "start_time": "2023-03-22T05:52:05.728317",
     "status": "completed"
    },
    "tags": []
   },
   "source": [
    "##### 2. What is/are the insight(s) found from the chart?"
   ]
  },
  {
   "cell_type": "markdown",
   "id": "b26b1d6d",
   "metadata": {
    "id": "Qp13pnNzphqQ",
    "papermill": {
     "duration": 0.032139,
     "end_time": "2023-03-22T05:52:05.825305",
     "exception": false,
     "start_time": "2023-03-22T05:52:05.793166",
     "status": "completed"
    },
    "tags": []
   },
   "source": [
    "Answer Here"
   ]
  },
  {
   "cell_type": "markdown",
   "id": "6d8acd4b",
   "metadata": {
    "id": "JMzcOPDDphqR",
    "papermill": {
     "duration": 0.032514,
     "end_time": "2023-03-22T05:52:05.890465",
     "exception": false,
     "start_time": "2023-03-22T05:52:05.857951",
     "status": "completed"
    },
    "tags": []
   },
   "source": [
    "##### 3. Will the gained insights help creating a positive business impact? \n",
    "Are there any insights that lead to negative growth? Justify with specific reason."
   ]
  },
  {
   "cell_type": "markdown",
   "id": "25ea33d9",
   "metadata": {
    "id": "R4Ka1PC2phqR",
    "papermill": {
     "duration": 0.032333,
     "end_time": "2023-03-22T05:52:05.955376",
     "exception": false,
     "start_time": "2023-03-22T05:52:05.923043",
     "status": "completed"
    },
    "tags": []
   },
   "source": [
    "Answer Here"
   ]
  },
  {
   "cell_type": "markdown",
   "id": "121614b0",
   "metadata": {
    "id": "x-EpHcCOp1ci",
    "papermill": {
     "duration": 0.033527,
     "end_time": "2023-03-22T05:52:06.021318",
     "exception": false,
     "start_time": "2023-03-22T05:52:05.987791",
     "status": "completed"
    },
    "tags": []
   },
   "source": [
    "#### Chart - 11"
   ]
  },
  {
   "cell_type": "code",
   "execution_count": 27,
   "id": "4220039b",
   "metadata": {
    "execution": {
     "iopub.execute_input": "2023-03-22T05:52:06.091986Z",
     "iopub.status.busy": "2023-03-22T05:52:06.091021Z",
     "iopub.status.idle": "2023-03-22T05:52:06.095606Z",
     "shell.execute_reply": "2023-03-22T05:52:06.094726Z"
    },
    "id": "mAQTIvtqp1cj",
    "papermill": {
     "duration": 0.043192,
     "end_time": "2023-03-22T05:52:06.097943",
     "exception": false,
     "start_time": "2023-03-22T05:52:06.054751",
     "status": "completed"
    },
    "tags": []
   },
   "outputs": [],
   "source": [
    "# Chart - 11 visualization code"
   ]
  },
  {
   "cell_type": "markdown",
   "id": "539aa81a",
   "metadata": {
    "id": "X_VqEhTip1ck",
    "papermill": {
     "duration": 0.032148,
     "end_time": "2023-03-22T05:52:06.163102",
     "exception": false,
     "start_time": "2023-03-22T05:52:06.130954",
     "status": "completed"
    },
    "tags": []
   },
   "source": [
    "##### 1. Why did you pick the specific chart?"
   ]
  },
  {
   "cell_type": "markdown",
   "id": "5755f3a4",
   "metadata": {
    "id": "-vsMzt_np1ck",
    "papermill": {
     "duration": 0.032199,
     "end_time": "2023-03-22T05:52:06.227838",
     "exception": false,
     "start_time": "2023-03-22T05:52:06.195639",
     "status": "completed"
    },
    "tags": []
   },
   "source": [
    "Answer Here."
   ]
  },
  {
   "cell_type": "markdown",
   "id": "5f2e43f5",
   "metadata": {
    "id": "8zGJKyg5p1ck",
    "papermill": {
     "duration": 0.032022,
     "end_time": "2023-03-22T05:52:06.292278",
     "exception": false,
     "start_time": "2023-03-22T05:52:06.260256",
     "status": "completed"
    },
    "tags": []
   },
   "source": [
    "##### 2. What is/are the insight(s) found from the chart?"
   ]
  },
  {
   "cell_type": "markdown",
   "id": "a5332834",
   "metadata": {
    "id": "ZYdMsrqVp1ck",
    "papermill": {
     "duration": 0.03206,
     "end_time": "2023-03-22T05:52:06.356620",
     "exception": false,
     "start_time": "2023-03-22T05:52:06.324560",
     "status": "completed"
    },
    "tags": []
   },
   "source": [
    "Answer Here"
   ]
  },
  {
   "cell_type": "markdown",
   "id": "56d3b73d",
   "metadata": {
    "id": "PVzmfK_Ep1ck",
    "papermill": {
     "duration": 0.032168,
     "end_time": "2023-03-22T05:52:06.421350",
     "exception": false,
     "start_time": "2023-03-22T05:52:06.389182",
     "status": "completed"
    },
    "tags": []
   },
   "source": [
    "##### 3. Will the gained insights help creating a positive business impact? \n",
    "Are there any insights that lead to negative growth? Justify with specific reason."
   ]
  },
  {
   "cell_type": "markdown",
   "id": "28a3ad41",
   "metadata": {
    "id": "druuKYZpp1ck",
    "papermill": {
     "duration": 0.032221,
     "end_time": "2023-03-22T05:52:06.486311",
     "exception": false,
     "start_time": "2023-03-22T05:52:06.454090",
     "status": "completed"
    },
    "tags": []
   },
   "source": [
    "Answer Here"
   ]
  },
  {
   "cell_type": "markdown",
   "id": "af4fd1b3",
   "metadata": {
    "id": "n3dbpmDWp1ck",
    "papermill": {
     "duration": 0.032071,
     "end_time": "2023-03-22T05:52:06.550798",
     "exception": false,
     "start_time": "2023-03-22T05:52:06.518727",
     "status": "completed"
    },
    "tags": []
   },
   "source": [
    "#### Chart - 12"
   ]
  },
  {
   "cell_type": "code",
   "execution_count": 28,
   "id": "6a5bb9d2",
   "metadata": {
    "execution": {
     "iopub.execute_input": "2023-03-22T05:52:06.618743Z",
     "iopub.status.busy": "2023-03-22T05:52:06.617812Z",
     "iopub.status.idle": "2023-03-22T05:52:06.622758Z",
     "shell.execute_reply": "2023-03-22T05:52:06.621752Z"
    },
    "id": "bwevp1tKp1ck",
    "papermill": {
     "duration": 0.042218,
     "end_time": "2023-03-22T05:52:06.625347",
     "exception": false,
     "start_time": "2023-03-22T05:52:06.583129",
     "status": "completed"
    },
    "tags": []
   },
   "outputs": [],
   "source": [
    "# Chart - 12 visualization code"
   ]
  },
  {
   "cell_type": "markdown",
   "id": "56fe51b5",
   "metadata": {
    "id": "ylSl6qgtp1ck",
    "papermill": {
     "duration": 0.032152,
     "end_time": "2023-03-22T05:52:06.775843",
     "exception": false,
     "start_time": "2023-03-22T05:52:06.743691",
     "status": "completed"
    },
    "tags": []
   },
   "source": [
    "##### 1. Why did you pick the specific chart?"
   ]
  },
  {
   "cell_type": "markdown",
   "id": "4938c1ba",
   "metadata": {
    "id": "m2xqNkiQp1ck",
    "papermill": {
     "duration": 0.031867,
     "end_time": "2023-03-22T05:52:06.839913",
     "exception": false,
     "start_time": "2023-03-22T05:52:06.808046",
     "status": "completed"
    },
    "tags": []
   },
   "source": [
    "Answer Here."
   ]
  },
  {
   "cell_type": "markdown",
   "id": "6eb45849",
   "metadata": {
    "id": "ZWILFDl5p1ck",
    "papermill": {
     "duration": 0.032436,
     "end_time": "2023-03-22T05:52:06.904822",
     "exception": false,
     "start_time": "2023-03-22T05:52:06.872386",
     "status": "completed"
    },
    "tags": []
   },
   "source": [
    "##### 2. What is/are the insight(s) found from the chart?"
   ]
  },
  {
   "cell_type": "markdown",
   "id": "9cdb0fee",
   "metadata": {
    "id": "x-lUsV2mp1ck",
    "papermill": {
     "duration": 0.034011,
     "end_time": "2023-03-22T05:52:06.971460",
     "exception": false,
     "start_time": "2023-03-22T05:52:06.937449",
     "status": "completed"
    },
    "tags": []
   },
   "source": [
    "Answer Here"
   ]
  },
  {
   "cell_type": "markdown",
   "id": "d9ce5fc5",
   "metadata": {
    "id": "M7G43BXep1ck",
    "papermill": {
     "duration": 0.034297,
     "end_time": "2023-03-22T05:52:07.038405",
     "exception": false,
     "start_time": "2023-03-22T05:52:07.004108",
     "status": "completed"
    },
    "tags": []
   },
   "source": [
    "##### 3. Will the gained insights help creating a positive business impact? \n",
    "Are there any insights that lead to negative growth? Justify with specific reason."
   ]
  },
  {
   "cell_type": "markdown",
   "id": "88194511",
   "metadata": {
    "id": "5wwDJXsLp1cl",
    "papermill": {
     "duration": 0.032765,
     "end_time": "2023-03-22T05:52:07.105262",
     "exception": false,
     "start_time": "2023-03-22T05:52:07.072497",
     "status": "completed"
    },
    "tags": []
   },
   "source": [
    "Answer Here"
   ]
  },
  {
   "cell_type": "markdown",
   "id": "56ac2089",
   "metadata": {
    "id": "Ag9LCva-p1cl",
    "papermill": {
     "duration": 0.032061,
     "end_time": "2023-03-22T05:52:07.170070",
     "exception": false,
     "start_time": "2023-03-22T05:52:07.138009",
     "status": "completed"
    },
    "tags": []
   },
   "source": [
    "#### Chart - 13"
   ]
  },
  {
   "cell_type": "code",
   "execution_count": 29,
   "id": "7b6b92d7",
   "metadata": {
    "execution": {
     "iopub.execute_input": "2023-03-22T05:52:07.237808Z",
     "iopub.status.busy": "2023-03-22T05:52:07.236890Z",
     "iopub.status.idle": "2023-03-22T05:52:07.242440Z",
     "shell.execute_reply": "2023-03-22T05:52:07.240900Z"
    },
    "id": "EUfxeq9-p1cl",
    "papermill": {
     "duration": 0.042481,
     "end_time": "2023-03-22T05:52:07.245131",
     "exception": false,
     "start_time": "2023-03-22T05:52:07.202650",
     "status": "completed"
    },
    "tags": []
   },
   "outputs": [],
   "source": [
    "# Chart - 13 visualization code"
   ]
  },
  {
   "cell_type": "markdown",
   "id": "22f9328f",
   "metadata": {
    "id": "E6MkPsBcp1cl",
    "papermill": {
     "duration": 0.032133,
     "end_time": "2023-03-22T05:52:07.310800",
     "exception": false,
     "start_time": "2023-03-22T05:52:07.278667",
     "status": "completed"
    },
    "tags": []
   },
   "source": [
    "##### 1. Why did you pick the specific chart?"
   ]
  },
  {
   "cell_type": "markdown",
   "id": "994f26f7",
   "metadata": {
    "id": "V22bRsFWp1cl",
    "papermill": {
     "duration": 0.032793,
     "end_time": "2023-03-22T05:52:07.376454",
     "exception": false,
     "start_time": "2023-03-22T05:52:07.343661",
     "status": "completed"
    },
    "tags": []
   },
   "source": [
    "Answer Here."
   ]
  },
  {
   "cell_type": "markdown",
   "id": "3e030067",
   "metadata": {
    "id": "2cELzS2fp1cl",
    "papermill": {
     "duration": 0.032246,
     "end_time": "2023-03-22T05:52:07.441712",
     "exception": false,
     "start_time": "2023-03-22T05:52:07.409466",
     "status": "completed"
    },
    "tags": []
   },
   "source": [
    "##### 2. What is/are the insight(s) found from the chart?"
   ]
  },
  {
   "cell_type": "markdown",
   "id": "28f6b79c",
   "metadata": {
    "id": "ozQPc2_Ip1cl",
    "papermill": {
     "duration": 0.033847,
     "end_time": "2023-03-22T05:52:07.508195",
     "exception": false,
     "start_time": "2023-03-22T05:52:07.474348",
     "status": "completed"
    },
    "tags": []
   },
   "source": [
    "Answer Here"
   ]
  },
  {
   "cell_type": "markdown",
   "id": "3ec73b92",
   "metadata": {
    "id": "3MPXvC8up1cl",
    "papermill": {
     "duration": 0.03222,
     "end_time": "2023-03-22T05:52:07.572915",
     "exception": false,
     "start_time": "2023-03-22T05:52:07.540695",
     "status": "completed"
    },
    "tags": []
   },
   "source": [
    "##### 3. Will the gained insights help creating a positive business impact? \n",
    "Are there any insights that lead to negative growth? Justify with specific reason."
   ]
  },
  {
   "cell_type": "markdown",
   "id": "324c559b",
   "metadata": {
    "id": "GL8l1tdLp1cl",
    "papermill": {
     "duration": 0.032081,
     "end_time": "2023-03-22T05:52:07.638057",
     "exception": false,
     "start_time": "2023-03-22T05:52:07.605976",
     "status": "completed"
    },
    "tags": []
   },
   "source": [
    "Answer Here"
   ]
  },
  {
   "cell_type": "markdown",
   "id": "d2125c25",
   "metadata": {
    "id": "NC_X3p0fY2L0",
    "papermill": {
     "duration": 0.033121,
     "end_time": "2023-03-22T05:52:07.703588",
     "exception": false,
     "start_time": "2023-03-22T05:52:07.670467",
     "status": "completed"
    },
    "tags": []
   },
   "source": [
    "#### Chart - 14 - Correlation Heatmap"
   ]
  },
  {
   "cell_type": "code",
   "execution_count": 30,
   "id": "65024a32",
   "metadata": {
    "execution": {
     "iopub.execute_input": "2023-03-22T05:52:07.775280Z",
     "iopub.status.busy": "2023-03-22T05:52:07.774396Z",
     "iopub.status.idle": "2023-03-22T05:52:07.779439Z",
     "shell.execute_reply": "2023-03-22T05:52:07.778046Z"
    },
    "id": "xyC9zolEZNRQ",
    "papermill": {
     "duration": 0.045337,
     "end_time": "2023-03-22T05:52:07.782632",
     "exception": false,
     "start_time": "2023-03-22T05:52:07.737295",
     "status": "completed"
    },
    "tags": []
   },
   "outputs": [],
   "source": [
    "# Correlation Heatmap visualization code"
   ]
  },
  {
   "cell_type": "markdown",
   "id": "c9e6ca39",
   "metadata": {
    "id": "UV0SzAkaZNRQ",
    "papermill": {
     "duration": 0.03142,
     "end_time": "2023-03-22T05:52:07.847031",
     "exception": false,
     "start_time": "2023-03-22T05:52:07.815611",
     "status": "completed"
    },
    "tags": []
   },
   "source": [
    "##### 1. Why did you pick the specific chart?"
   ]
  },
  {
   "cell_type": "markdown",
   "id": "8cc71cb5",
   "metadata": {
    "id": "DVPuT8LYZNRQ",
    "papermill": {
     "duration": 0.035138,
     "end_time": "2023-03-22T05:52:07.915905",
     "exception": false,
     "start_time": "2023-03-22T05:52:07.880767",
     "status": "completed"
    },
    "tags": []
   },
   "source": [
    "Answer Here."
   ]
  },
  {
   "cell_type": "markdown",
   "id": "00911913",
   "metadata": {
    "id": "YPEH6qLeZNRQ",
    "papermill": {
     "duration": 0.033957,
     "end_time": "2023-03-22T05:52:07.983130",
     "exception": false,
     "start_time": "2023-03-22T05:52:07.949173",
     "status": "completed"
    },
    "tags": []
   },
   "source": [
    "##### 2. What is/are the insight(s) found from the chart?"
   ]
  },
  {
   "cell_type": "markdown",
   "id": "2d5574fc",
   "metadata": {
    "id": "bfSqtnDqZNRR",
    "papermill": {
     "duration": 0.033886,
     "end_time": "2023-03-22T05:52:08.050171",
     "exception": false,
     "start_time": "2023-03-22T05:52:08.016285",
     "status": "completed"
    },
    "tags": []
   },
   "source": [
    "Answer Here"
   ]
  },
  {
   "cell_type": "markdown",
   "id": "fdc64751",
   "metadata": {
    "id": "q29F0dvdveiT",
    "papermill": {
     "duration": 0.034353,
     "end_time": "2023-03-22T05:52:08.118467",
     "exception": false,
     "start_time": "2023-03-22T05:52:08.084114",
     "status": "completed"
    },
    "tags": []
   },
   "source": [
    "#### Chart - 15 - Pair Plot "
   ]
  },
  {
   "cell_type": "code",
   "execution_count": 31,
   "id": "141e3c93",
   "metadata": {
    "execution": {
     "iopub.execute_input": "2023-03-22T05:52:08.187839Z",
     "iopub.status.busy": "2023-03-22T05:52:08.187099Z",
     "iopub.status.idle": "2023-03-22T05:52:08.191948Z",
     "shell.execute_reply": "2023-03-22T05:52:08.190868Z"
    },
    "id": "o58-TEIhveiU",
    "papermill": {
     "duration": 0.0415,
     "end_time": "2023-03-22T05:52:08.194307",
     "exception": false,
     "start_time": "2023-03-22T05:52:08.152807",
     "status": "completed"
    },
    "tags": []
   },
   "outputs": [],
   "source": [
    "# Pair Plot visualization code"
   ]
  },
  {
   "cell_type": "markdown",
   "id": "819250b3",
   "metadata": {
    "id": "EXh0U9oCveiU",
    "papermill": {
     "duration": 0.034199,
     "end_time": "2023-03-22T05:52:08.262371",
     "exception": false,
     "start_time": "2023-03-22T05:52:08.228172",
     "status": "completed"
    },
    "tags": []
   },
   "source": [
    "##### 1. Why did you pick the specific chart?"
   ]
  },
  {
   "cell_type": "markdown",
   "id": "832cfbd4",
   "metadata": {
    "id": "eMmPjTByveiU",
    "papermill": {
     "duration": 0.034053,
     "end_time": "2023-03-22T05:52:08.329778",
     "exception": false,
     "start_time": "2023-03-22T05:52:08.295725",
     "status": "completed"
    },
    "tags": []
   },
   "source": [
    "Answer Here."
   ]
  },
  {
   "cell_type": "markdown",
   "id": "017fd7a5",
   "metadata": {
    "id": "22aHeOlLveiV",
    "papermill": {
     "duration": 0.032717,
     "end_time": "2023-03-22T05:52:08.394403",
     "exception": false,
     "start_time": "2023-03-22T05:52:08.361686",
     "status": "completed"
    },
    "tags": []
   },
   "source": [
    "##### 2. What is/are the insight(s) found from the chart?"
   ]
  },
  {
   "cell_type": "markdown",
   "id": "8cb7cb5e",
   "metadata": {
    "id": "uPQ8RGwHveiV",
    "papermill": {
     "duration": 0.03131,
     "end_time": "2023-03-22T05:52:08.459714",
     "exception": false,
     "start_time": "2023-03-22T05:52:08.428404",
     "status": "completed"
    },
    "tags": []
   },
   "source": [
    "Answer Here"
   ]
  },
  {
   "cell_type": "markdown",
   "id": "f00a4b98",
   "metadata": {
    "id": "JcMwzZxoAimU",
    "papermill": {
     "duration": 0.039467,
     "end_time": "2023-03-22T05:52:08.533370",
     "exception": false,
     "start_time": "2023-03-22T05:52:08.493903",
     "status": "completed"
    },
    "tags": []
   },
   "source": [
    "## **5. Solution to Business Objective**"
   ]
  },
  {
   "cell_type": "markdown",
   "id": "004ff37f",
   "metadata": {
    "id": "8G2x9gOozGDZ",
    "papermill": {
     "duration": 0.042535,
     "end_time": "2023-03-22T05:52:08.618664",
     "exception": false,
     "start_time": "2023-03-22T05:52:08.576129",
     "status": "completed"
    },
    "tags": []
   },
   "source": [
    "#### What do you suggest the client to achieve Business Objective ? \n",
    "Explain Briefly."
   ]
  },
  {
   "cell_type": "markdown",
   "id": "1db84fd1",
   "metadata": {
    "id": "pASKb0qOza21",
    "papermill": {
     "duration": 0.033229,
     "end_time": "2023-03-22T05:52:08.684068",
     "exception": false,
     "start_time": "2023-03-22T05:52:08.650839",
     "status": "completed"
    },
    "tags": []
   },
   "source": [
    "Answer Here."
   ]
  },
  {
   "cell_type": "markdown",
   "id": "4f965271",
   "metadata": {
    "id": "gCX9965dhzqZ",
    "papermill": {
     "duration": 0.032662,
     "end_time": "2023-03-22T05:52:08.750909",
     "exception": false,
     "start_time": "2023-03-22T05:52:08.718247",
     "status": "completed"
    },
    "tags": []
   },
   "source": [
    "# **Conclusion**"
   ]
  },
  {
   "cell_type": "markdown",
   "id": "3acf1a61",
   "metadata": {
    "id": "Fjb1IsQkh3yE",
    "papermill": {
     "duration": 0.033981,
     "end_time": "2023-03-22T05:52:08.817983",
     "exception": false,
     "start_time": "2023-03-22T05:52:08.784002",
     "status": "completed"
    },
    "tags": []
   },
   "source": [
    "Write the conclusion here."
   ]
  },
  {
   "cell_type": "markdown",
   "id": "0a536fc3",
   "metadata": {
    "id": "gIfDvo9L0UH2",
    "papermill": {
     "duration": 0.034253,
     "end_time": "2023-03-22T05:52:08.886031",
     "exception": false,
     "start_time": "2023-03-22T05:52:08.851778",
     "status": "completed"
    },
    "tags": []
   },
   "source": [
    "### ***Hurrah! You have successfully completed your EDA Capstone Project !!!***"
   ]
  }
 ],
 "metadata": {
  "kernelspec": {
   "display_name": "Python 3",
   "language": "python",
   "name": "python3"
  },
  "language_info": {
   "codemirror_mode": {
    "name": "ipython",
    "version": 3
   },
   "file_extension": ".py",
   "mimetype": "text/x-python",
   "name": "python",
   "nbconvert_exporter": "python",
   "pygments_lexer": "ipython3",
   "version": "3.7.12"
  },
  "papermill": {
   "default_parameters": {},
   "duration": 33.232542,
   "end_time": "2023-03-22T05:52:10.249432",
   "environment_variables": {},
   "exception": null,
   "input_path": "__notebook__.ipynb",
   "output_path": "__notebook__.ipynb",
   "parameters": {},
   "start_time": "2023-03-22T05:51:37.016890",
   "version": "2.4.0"
  }
 },
 "nbformat": 4,
 "nbformat_minor": 5
}
