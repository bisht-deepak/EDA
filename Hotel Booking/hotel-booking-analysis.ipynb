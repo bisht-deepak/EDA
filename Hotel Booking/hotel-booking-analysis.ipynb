{
 "cells": [
  {
   "cell_type": "markdown",
   "id": "f5925cd2",
   "metadata": {
    "id": "vncDsAP0Gaoa",
    "papermill": {
     "duration": 0.034664,
     "end_time": "2023-03-22T07:51:29.397625",
     "exception": false,
     "start_time": "2023-03-22T07:51:29.362961",
     "status": "completed"
    },
    "tags": []
   },
   "source": [
    "# **Project Name**    - Hotel Booking Analysis\n",
    "\n"
   ]
  },
  {
   "cell_type": "markdown",
   "id": "b8768970",
   "metadata": {
    "id": "beRrZCGUAJYm",
    "papermill": {
     "duration": 0.029746,
     "end_time": "2023-03-22T07:51:29.457300",
     "exception": false,
     "start_time": "2023-03-22T07:51:29.427554",
     "status": "completed"
    },
    "tags": []
   },
   "source": [
    "##### **Project Type**    - EDA\n",
    "##### **Contribution**    - Individual\n",
    "##### **Team Member 1** - Deepak Singh Bisht\n",
    "##### **Team Member 2** -\n",
    "##### **Team Member 3** - "
   ]
  },
  {
   "cell_type": "markdown",
   "id": "bcf59084",
   "metadata": {
    "id": "FJNUwmbgGyua",
    "papermill": {
     "duration": 0.030716,
     "end_time": "2023-03-22T07:51:29.518415",
     "exception": false,
     "start_time": "2023-03-22T07:51:29.487699",
     "status": "completed"
    },
    "tags": []
   },
   "source": [
    "# **Project Summary -**"
   ]
  },
  {
   "cell_type": "markdown",
   "id": "17297cc9",
   "metadata": {
    "id": "F6v_1wHtG2nS",
    "papermill": {
     "duration": 0.029987,
     "end_time": "2023-03-22T07:51:29.579241",
     "exception": false,
     "start_time": "2023-03-22T07:51:29.549254",
     "status": "completed"
    },
    "tags": []
   },
   "source": [
    "Write the summary here within 500-600 words."
   ]
  },
  {
   "cell_type": "markdown",
   "id": "77db6292",
   "metadata": {
    "id": "w6K7xa23Elo4",
    "papermill": {
     "duration": 0.030326,
     "end_time": "2023-03-22T07:51:29.639764",
     "exception": false,
     "start_time": "2023-03-22T07:51:29.609438",
     "status": "completed"
    },
    "tags": []
   },
   "source": [
    "# **GitHub Link -**"
   ]
  },
  {
   "cell_type": "markdown",
   "id": "20e5c3a5",
   "metadata": {
    "id": "h1o69JH3Eqqn",
    "papermill": {
     "duration": 0.030337,
     "end_time": "2023-03-22T07:51:29.700251",
     "exception": false,
     "start_time": "2023-03-22T07:51:29.669914",
     "status": "completed"
    },
    "tags": []
   },
   "source": [
    "Provide your GitHub Link here."
   ]
  },
  {
   "cell_type": "markdown",
   "id": "4421901f",
   "metadata": {
    "id": "yQaldy8SH6Dl",
    "papermill": {
     "duration": 0.030286,
     "end_time": "2023-03-22T07:51:29.761152",
     "exception": false,
     "start_time": "2023-03-22T07:51:29.730866",
     "status": "completed"
    },
    "tags": []
   },
   "source": [
    "# **Problem Statement**\n"
   ]
  },
  {
   "cell_type": "markdown",
   "id": "9f4e693d",
   "metadata": {
    "id": "DpeJGUA3kjGy",
    "papermill": {
     "duration": 0.030879,
     "end_time": "2023-03-22T07:51:29.822726",
     "exception": false,
     "start_time": "2023-03-22T07:51:29.791847",
     "status": "completed"
    },
    "tags": []
   },
   "source": [
    "**Write Problem Statement Here.**"
   ]
  },
  {
   "cell_type": "markdown",
   "id": "c70796d9",
   "metadata": {
    "id": "PH-0ReGfmX4f",
    "papermill": {
     "duration": 0.030064,
     "end_time": "2023-03-22T07:51:29.883101",
     "exception": false,
     "start_time": "2023-03-22T07:51:29.853037",
     "status": "completed"
    },
    "tags": []
   },
   "source": [
    "#### **Define Your Business Objective?**"
   ]
  },
  {
   "cell_type": "markdown",
   "id": "77bc822e",
   "metadata": {
    "id": "PhDvGCAqmjP1",
    "papermill": {
     "duration": 0.029462,
     "end_time": "2023-03-22T07:51:29.942528",
     "exception": false,
     "start_time": "2023-03-22T07:51:29.913066",
     "status": "completed"
    },
    "tags": []
   },
   "source": [
    "Answer Here."
   ]
  },
  {
   "cell_type": "markdown",
   "id": "70b84733",
   "metadata": {
    "id": "mDgbUHAGgjLW",
    "papermill": {
     "duration": 0.029553,
     "end_time": "2023-03-22T07:51:30.002089",
     "exception": false,
     "start_time": "2023-03-22T07:51:29.972536",
     "status": "completed"
    },
    "tags": []
   },
   "source": [
    "# **General Guidelines** : -  "
   ]
  },
  {
   "cell_type": "markdown",
   "id": "2bb2e3b2",
   "metadata": {
    "id": "ZrxVaUj-hHfC",
    "papermill": {
     "duration": 0.030813,
     "end_time": "2023-03-22T07:51:30.062908",
     "exception": false,
     "start_time": "2023-03-22T07:51:30.032095",
     "status": "completed"
    },
    "tags": []
   },
   "source": [
    "1.   Well-structured, formatted, and commented code is required. \n",
    "2.   Exception Handling, Production Grade Code & Deployment Ready Code will be a plus. Those students will be awarded some additional credits. \n",
    "     \n",
    "     The additional credits will have advantages over other students during Star Student selection.\n",
    "       \n",
    "             [ Note: - Deployment Ready Code is defined as, the whole .ipynb notebook should be executable in one go\n",
    "                       without a single error logged. ]\n",
    "\n",
    "3.   Each and every logic should have proper comments.\n",
    "4. You may add as many number of charts you want. Make Sure for each and every chart the following format should be answered.\n",
    "        \n",
    "\n",
    "```\n",
    "# Chart visualization code\n",
    "```\n",
    "            \n",
    "\n",
    "*   Why did you pick the specific chart?\n",
    "*   What is/are the insight(s) found from the chart?\n",
    "* Will the gained insights help creating a positive business impact? \n",
    "Are there any insights that lead to negative growth? Justify with specific reason.\n",
    "\n",
    "5. You have to create at least 20 logical & meaningful charts having important insights.\n",
    "\n",
    "\n",
    "[ Hints : - Do the Vizualization in  a structured way while following \"UBM\" Rule. \n",
    "\n",
    "U - Univariate Analysis,\n",
    "\n",
    "B - Bivariate Analysis (Numerical - Categorical, Numerical - Numerical, Categorical - Categorical)\n",
    "\n",
    "M - Multivariate Analysis\n",
    " ]\n",
    "\n",
    "\n",
    "\n"
   ]
  },
  {
   "cell_type": "markdown",
   "id": "8a53bf4f",
   "metadata": {
    "id": "O_i_v8NEhb9l",
    "papermill": {
     "duration": 0.029502,
     "end_time": "2023-03-22T07:51:30.122514",
     "exception": false,
     "start_time": "2023-03-22T07:51:30.093012",
     "status": "completed"
    },
    "tags": []
   },
   "source": [
    "# ***Let's Begin !***"
   ]
  },
  {
   "cell_type": "markdown",
   "id": "03fe42e3",
   "metadata": {
    "id": "HhfV-JJviCcP",
    "papermill": {
     "duration": 0.029884,
     "end_time": "2023-03-22T07:51:30.182720",
     "exception": false,
     "start_time": "2023-03-22T07:51:30.152836",
     "status": "completed"
    },
    "tags": []
   },
   "source": [
    "## ***1. Know Your Data***"
   ]
  },
  {
   "cell_type": "markdown",
   "id": "7d57f41c",
   "metadata": {
    "id": "Y3lxredqlCYt",
    "papermill": {
     "duration": 0.029497,
     "end_time": "2023-03-22T07:51:30.242060",
     "exception": false,
     "start_time": "2023-03-22T07:51:30.212563",
     "status": "completed"
    },
    "tags": []
   },
   "source": [
    "### Import Libraries"
   ]
  },
  {
   "cell_type": "code",
   "execution_count": 1,
   "id": "8ee5cd4f",
   "metadata": {
    "execution": {
     "iopub.execute_input": "2023-03-22T07:51:30.304282Z",
     "iopub.status.busy": "2023-03-22T07:51:30.303524Z",
     "iopub.status.idle": "2023-03-22T07:51:33.424559Z",
     "shell.execute_reply": "2023-03-22T07:51:33.423630Z"
    },
    "id": "M8Vqi-pPk-HR",
    "papermill": {
     "duration": 3.155151,
     "end_time": "2023-03-22T07:51:33.427362",
     "exception": false,
     "start_time": "2023-03-22T07:51:30.272211",
     "status": "completed"
    },
    "tags": []
   },
   "outputs": [
    {
     "name": "stderr",
     "output_type": "stream",
     "text": [
      "/opt/conda/lib/python3.7/site-packages/geopandas/_compat.py:115: UserWarning: The Shapely GEOS version (3.9.1-CAPI-1.14.2) is incompatible with the GEOS version PyGEOS was compiled with (3.10.4-CAPI-1.16.2). Conversions between both will be slow.\n",
      "  shapely_geos_version, geos_capi_version_string\n"
     ]
    }
   ],
   "source": [
    "# Import Libraries\n",
    "import numpy as np\n",
    "\n",
    "import pandas as pd\n",
    "from pandas.api.types import CategoricalDtype\n",
    "pd.set_option('display.max_columns', None)\n",
    "\n",
    "from datetime import datetime\n",
    "\n",
    "import matplotlib.pyplot as plt\n",
    "from matplotlib.ticker import PercentFormatter\n",
    "%matplotlib inline\n",
    "\n",
    "import seaborn as sns\n",
    "sns.set_style(\"white\")\n",
    "sns.set_palette(\"pastel\")\n",
    "\n",
    "import plotly.express as px\n",
    "\n",
    "import geopandas as gpd"
   ]
  },
  {
   "cell_type": "markdown",
   "id": "3b7f7a78",
   "metadata": {
    "id": "3RnN4peoiCZX",
    "papermill": {
     "duration": 0.029963,
     "end_time": "2023-03-22T07:51:33.488186",
     "exception": false,
     "start_time": "2023-03-22T07:51:33.458223",
     "status": "completed"
    },
    "tags": []
   },
   "source": [
    "### Dataset Loading"
   ]
  },
  {
   "cell_type": "code",
   "execution_count": 2,
   "id": "1cfd255c",
   "metadata": {
    "execution": {
     "iopub.execute_input": "2023-03-22T07:51:33.550846Z",
     "iopub.status.busy": "2023-03-22T07:51:33.550090Z",
     "iopub.status.idle": "2023-03-22T07:51:34.687338Z",
     "shell.execute_reply": "2023-03-22T07:51:34.686029Z"
    },
    "id": "4CkvbW_SlZ_R",
    "papermill": {
     "duration": 1.171727,
     "end_time": "2023-03-22T07:51:34.690175",
     "exception": false,
     "start_time": "2023-03-22T07:51:33.518448",
     "status": "completed"
    },
    "tags": []
   },
   "outputs": [],
   "source": [
    "# Load Dataset\n",
    "hotels_df= pd.read_csv(\"/kaggle/input/hotel-booking/hotel_booking.csv\")"
   ]
  },
  {
   "cell_type": "markdown",
   "id": "fc870919",
   "metadata": {
    "id": "x71ZqKXriCWQ",
    "papermill": {
     "duration": 0.030387,
     "end_time": "2023-03-22T07:51:34.751478",
     "exception": false,
     "start_time": "2023-03-22T07:51:34.721091",
     "status": "completed"
    },
    "tags": []
   },
   "source": [
    "### Dataset First View"
   ]
  },
  {
   "cell_type": "code",
   "execution_count": 3,
   "id": "29f3ac75",
   "metadata": {
    "execution": {
     "iopub.execute_input": "2023-03-22T07:51:34.814546Z",
     "iopub.status.busy": "2023-03-22T07:51:34.813799Z",
     "iopub.status.idle": "2023-03-22T07:51:34.858268Z",
     "shell.execute_reply": "2023-03-22T07:51:34.857083Z"
    },
    "id": "LWNFOSvLl09H",
    "papermill": {
     "duration": 0.078717,
     "end_time": "2023-03-22T07:51:34.860689",
     "exception": false,
     "start_time": "2023-03-22T07:51:34.781972",
     "status": "completed"
    },
    "tags": []
   },
   "outputs": [
    {
     "data": {
      "text/html": [
       "<div>\n",
       "<style scoped>\n",
       "    .dataframe tbody tr th:only-of-type {\n",
       "        vertical-align: middle;\n",
       "    }\n",
       "\n",
       "    .dataframe tbody tr th {\n",
       "        vertical-align: top;\n",
       "    }\n",
       "\n",
       "    .dataframe thead th {\n",
       "        text-align: right;\n",
       "    }\n",
       "</style>\n",
       "<table border=\"1\" class=\"dataframe\">\n",
       "  <thead>\n",
       "    <tr style=\"text-align: right;\">\n",
       "      <th></th>\n",
       "      <th>hotel</th>\n",
       "      <th>is_canceled</th>\n",
       "      <th>lead_time</th>\n",
       "      <th>arrival_date_year</th>\n",
       "      <th>arrival_date_month</th>\n",
       "      <th>arrival_date_week_number</th>\n",
       "      <th>arrival_date_day_of_month</th>\n",
       "      <th>stays_in_weekend_nights</th>\n",
       "      <th>stays_in_week_nights</th>\n",
       "      <th>adults</th>\n",
       "      <th>children</th>\n",
       "      <th>babies</th>\n",
       "      <th>meal</th>\n",
       "      <th>country</th>\n",
       "      <th>market_segment</th>\n",
       "      <th>distribution_channel</th>\n",
       "      <th>is_repeated_guest</th>\n",
       "      <th>previous_cancellations</th>\n",
       "      <th>previous_bookings_not_canceled</th>\n",
       "      <th>reserved_room_type</th>\n",
       "      <th>assigned_room_type</th>\n",
       "      <th>booking_changes</th>\n",
       "      <th>deposit_type</th>\n",
       "      <th>agent</th>\n",
       "      <th>company</th>\n",
       "      <th>days_in_waiting_list</th>\n",
       "      <th>customer_type</th>\n",
       "      <th>adr</th>\n",
       "      <th>required_car_parking_spaces</th>\n",
       "      <th>total_of_special_requests</th>\n",
       "      <th>reservation_status</th>\n",
       "      <th>reservation_status_date</th>\n",
       "      <th>name</th>\n",
       "      <th>email</th>\n",
       "      <th>phone-number</th>\n",
       "      <th>credit_card</th>\n",
       "    </tr>\n",
       "  </thead>\n",
       "  <tbody>\n",
       "    <tr>\n",
       "      <th>0</th>\n",
       "      <td>Resort Hotel</td>\n",
       "      <td>0</td>\n",
       "      <td>342</td>\n",
       "      <td>2015</td>\n",
       "      <td>July</td>\n",
       "      <td>27</td>\n",
       "      <td>1</td>\n",
       "      <td>0</td>\n",
       "      <td>0</td>\n",
       "      <td>2</td>\n",
       "      <td>0.0</td>\n",
       "      <td>0</td>\n",
       "      <td>BB</td>\n",
       "      <td>PRT</td>\n",
       "      <td>Direct</td>\n",
       "      <td>Direct</td>\n",
       "      <td>0</td>\n",
       "      <td>0</td>\n",
       "      <td>0</td>\n",
       "      <td>C</td>\n",
       "      <td>C</td>\n",
       "      <td>3</td>\n",
       "      <td>No Deposit</td>\n",
       "      <td>NaN</td>\n",
       "      <td>NaN</td>\n",
       "      <td>0</td>\n",
       "      <td>Transient</td>\n",
       "      <td>0.0</td>\n",
       "      <td>0</td>\n",
       "      <td>0</td>\n",
       "      <td>Check-Out</td>\n",
       "      <td>2015-07-01</td>\n",
       "      <td>Ernest Barnes</td>\n",
       "      <td>Ernest.Barnes31@outlook.com</td>\n",
       "      <td>669-792-1661</td>\n",
       "      <td>************4322</td>\n",
       "    </tr>\n",
       "    <tr>\n",
       "      <th>1</th>\n",
       "      <td>Resort Hotel</td>\n",
       "      <td>0</td>\n",
       "      <td>737</td>\n",
       "      <td>2015</td>\n",
       "      <td>July</td>\n",
       "      <td>27</td>\n",
       "      <td>1</td>\n",
       "      <td>0</td>\n",
       "      <td>0</td>\n",
       "      <td>2</td>\n",
       "      <td>0.0</td>\n",
       "      <td>0</td>\n",
       "      <td>BB</td>\n",
       "      <td>PRT</td>\n",
       "      <td>Direct</td>\n",
       "      <td>Direct</td>\n",
       "      <td>0</td>\n",
       "      <td>0</td>\n",
       "      <td>0</td>\n",
       "      <td>C</td>\n",
       "      <td>C</td>\n",
       "      <td>4</td>\n",
       "      <td>No Deposit</td>\n",
       "      <td>NaN</td>\n",
       "      <td>NaN</td>\n",
       "      <td>0</td>\n",
       "      <td>Transient</td>\n",
       "      <td>0.0</td>\n",
       "      <td>0</td>\n",
       "      <td>0</td>\n",
       "      <td>Check-Out</td>\n",
       "      <td>2015-07-01</td>\n",
       "      <td>Andrea Baker</td>\n",
       "      <td>Andrea_Baker94@aol.com</td>\n",
       "      <td>858-637-6955</td>\n",
       "      <td>************9157</td>\n",
       "    </tr>\n",
       "    <tr>\n",
       "      <th>2</th>\n",
       "      <td>Resort Hotel</td>\n",
       "      <td>0</td>\n",
       "      <td>7</td>\n",
       "      <td>2015</td>\n",
       "      <td>July</td>\n",
       "      <td>27</td>\n",
       "      <td>1</td>\n",
       "      <td>0</td>\n",
       "      <td>1</td>\n",
       "      <td>1</td>\n",
       "      <td>0.0</td>\n",
       "      <td>0</td>\n",
       "      <td>BB</td>\n",
       "      <td>GBR</td>\n",
       "      <td>Direct</td>\n",
       "      <td>Direct</td>\n",
       "      <td>0</td>\n",
       "      <td>0</td>\n",
       "      <td>0</td>\n",
       "      <td>A</td>\n",
       "      <td>C</td>\n",
       "      <td>0</td>\n",
       "      <td>No Deposit</td>\n",
       "      <td>NaN</td>\n",
       "      <td>NaN</td>\n",
       "      <td>0</td>\n",
       "      <td>Transient</td>\n",
       "      <td>75.0</td>\n",
       "      <td>0</td>\n",
       "      <td>0</td>\n",
       "      <td>Check-Out</td>\n",
       "      <td>2015-07-02</td>\n",
       "      <td>Rebecca Parker</td>\n",
       "      <td>Rebecca_Parker@comcast.net</td>\n",
       "      <td>652-885-2745</td>\n",
       "      <td>************3734</td>\n",
       "    </tr>\n",
       "    <tr>\n",
       "      <th>3</th>\n",
       "      <td>Resort Hotel</td>\n",
       "      <td>0</td>\n",
       "      <td>13</td>\n",
       "      <td>2015</td>\n",
       "      <td>July</td>\n",
       "      <td>27</td>\n",
       "      <td>1</td>\n",
       "      <td>0</td>\n",
       "      <td>1</td>\n",
       "      <td>1</td>\n",
       "      <td>0.0</td>\n",
       "      <td>0</td>\n",
       "      <td>BB</td>\n",
       "      <td>GBR</td>\n",
       "      <td>Corporate</td>\n",
       "      <td>Corporate</td>\n",
       "      <td>0</td>\n",
       "      <td>0</td>\n",
       "      <td>0</td>\n",
       "      <td>A</td>\n",
       "      <td>A</td>\n",
       "      <td>0</td>\n",
       "      <td>No Deposit</td>\n",
       "      <td>304.0</td>\n",
       "      <td>NaN</td>\n",
       "      <td>0</td>\n",
       "      <td>Transient</td>\n",
       "      <td>75.0</td>\n",
       "      <td>0</td>\n",
       "      <td>0</td>\n",
       "      <td>Check-Out</td>\n",
       "      <td>2015-07-02</td>\n",
       "      <td>Laura Murray</td>\n",
       "      <td>Laura_M@gmail.com</td>\n",
       "      <td>364-656-8427</td>\n",
       "      <td>************5677</td>\n",
       "    </tr>\n",
       "    <tr>\n",
       "      <th>4</th>\n",
       "      <td>Resort Hotel</td>\n",
       "      <td>0</td>\n",
       "      <td>14</td>\n",
       "      <td>2015</td>\n",
       "      <td>July</td>\n",
       "      <td>27</td>\n",
       "      <td>1</td>\n",
       "      <td>0</td>\n",
       "      <td>2</td>\n",
       "      <td>2</td>\n",
       "      <td>0.0</td>\n",
       "      <td>0</td>\n",
       "      <td>BB</td>\n",
       "      <td>GBR</td>\n",
       "      <td>Online TA</td>\n",
       "      <td>TA/TO</td>\n",
       "      <td>0</td>\n",
       "      <td>0</td>\n",
       "      <td>0</td>\n",
       "      <td>A</td>\n",
       "      <td>A</td>\n",
       "      <td>0</td>\n",
       "      <td>No Deposit</td>\n",
       "      <td>240.0</td>\n",
       "      <td>NaN</td>\n",
       "      <td>0</td>\n",
       "      <td>Transient</td>\n",
       "      <td>98.0</td>\n",
       "      <td>0</td>\n",
       "      <td>1</td>\n",
       "      <td>Check-Out</td>\n",
       "      <td>2015-07-03</td>\n",
       "      <td>Linda Hines</td>\n",
       "      <td>LHines@verizon.com</td>\n",
       "      <td>713-226-5883</td>\n",
       "      <td>************5498</td>\n",
       "    </tr>\n",
       "  </tbody>\n",
       "</table>\n",
       "</div>"
      ],
      "text/plain": [
       "          hotel  is_canceled  lead_time  arrival_date_year arrival_date_month  \\\n",
       "0  Resort Hotel            0        342               2015               July   \n",
       "1  Resort Hotel            0        737               2015               July   \n",
       "2  Resort Hotel            0          7               2015               July   \n",
       "3  Resort Hotel            0         13               2015               July   \n",
       "4  Resort Hotel            0         14               2015               July   \n",
       "\n",
       "   arrival_date_week_number  arrival_date_day_of_month  \\\n",
       "0                        27                          1   \n",
       "1                        27                          1   \n",
       "2                        27                          1   \n",
       "3                        27                          1   \n",
       "4                        27                          1   \n",
       "\n",
       "   stays_in_weekend_nights  stays_in_week_nights  adults  children  babies  \\\n",
       "0                        0                     0       2       0.0       0   \n",
       "1                        0                     0       2       0.0       0   \n",
       "2                        0                     1       1       0.0       0   \n",
       "3                        0                     1       1       0.0       0   \n",
       "4                        0                     2       2       0.0       0   \n",
       "\n",
       "  meal country market_segment distribution_channel  is_repeated_guest  \\\n",
       "0   BB     PRT         Direct               Direct                  0   \n",
       "1   BB     PRT         Direct               Direct                  0   \n",
       "2   BB     GBR         Direct               Direct                  0   \n",
       "3   BB     GBR      Corporate            Corporate                  0   \n",
       "4   BB     GBR      Online TA                TA/TO                  0   \n",
       "\n",
       "   previous_cancellations  previous_bookings_not_canceled reserved_room_type  \\\n",
       "0                       0                               0                  C   \n",
       "1                       0                               0                  C   \n",
       "2                       0                               0                  A   \n",
       "3                       0                               0                  A   \n",
       "4                       0                               0                  A   \n",
       "\n",
       "  assigned_room_type  booking_changes deposit_type  agent  company  \\\n",
       "0                  C                3   No Deposit    NaN      NaN   \n",
       "1                  C                4   No Deposit    NaN      NaN   \n",
       "2                  C                0   No Deposit    NaN      NaN   \n",
       "3                  A                0   No Deposit  304.0      NaN   \n",
       "4                  A                0   No Deposit  240.0      NaN   \n",
       "\n",
       "   days_in_waiting_list customer_type   adr  required_car_parking_spaces  \\\n",
       "0                     0     Transient   0.0                            0   \n",
       "1                     0     Transient   0.0                            0   \n",
       "2                     0     Transient  75.0                            0   \n",
       "3                     0     Transient  75.0                            0   \n",
       "4                     0     Transient  98.0                            0   \n",
       "\n",
       "   total_of_special_requests reservation_status reservation_status_date  \\\n",
       "0                          0          Check-Out              2015-07-01   \n",
       "1                          0          Check-Out              2015-07-01   \n",
       "2                          0          Check-Out              2015-07-02   \n",
       "3                          0          Check-Out              2015-07-02   \n",
       "4                          1          Check-Out              2015-07-03   \n",
       "\n",
       "             name                        email  phone-number       credit_card  \n",
       "0   Ernest Barnes  Ernest.Barnes31@outlook.com  669-792-1661  ************4322  \n",
       "1    Andrea Baker       Andrea_Baker94@aol.com  858-637-6955  ************9157  \n",
       "2  Rebecca Parker   Rebecca_Parker@comcast.net  652-885-2745  ************3734  \n",
       "3    Laura Murray            Laura_M@gmail.com  364-656-8427  ************5677  \n",
       "4     Linda Hines           LHines@verizon.com  713-226-5883  ************5498  "
      ]
     },
     "execution_count": 3,
     "metadata": {},
     "output_type": "execute_result"
    }
   ],
   "source": [
    "# Dataset First Look\n",
    "hotels_df.head()"
   ]
  },
  {
   "cell_type": "markdown",
   "id": "acdce877",
   "metadata": {
    "id": "7hBIi_osiCS2",
    "papermill": {
     "duration": 0.030553,
     "end_time": "2023-03-22T07:51:34.922512",
     "exception": false,
     "start_time": "2023-03-22T07:51:34.891959",
     "status": "completed"
    },
    "tags": []
   },
   "source": [
    "### Dataset Rows & Columns count"
   ]
  },
  {
   "cell_type": "code",
   "execution_count": 4,
   "id": "5f76daa4",
   "metadata": {
    "execution": {
     "iopub.execute_input": "2023-03-22T07:51:34.986903Z",
     "iopub.status.busy": "2023-03-22T07:51:34.986464Z",
     "iopub.status.idle": "2023-03-22T07:51:34.994401Z",
     "shell.execute_reply": "2023-03-22T07:51:34.993311Z"
    },
    "id": "Kllu7SJgmLij",
    "papermill": {
     "duration": 0.04217,
     "end_time": "2023-03-22T07:51:34.996778",
     "exception": false,
     "start_time": "2023-03-22T07:51:34.954608",
     "status": "completed"
    },
    "tags": []
   },
   "outputs": [
    {
     "data": {
      "text/plain": [
       "(119390, 36)"
      ]
     },
     "execution_count": 4,
     "metadata": {},
     "output_type": "execute_result"
    }
   ],
   "source": [
    "# Dataset Rows & Columns count\n",
    "hotels_df.shape"
   ]
  },
  {
   "cell_type": "markdown",
   "id": "d8ab811c",
   "metadata": {
    "id": "JlHwYmJAmNHm",
    "papermill": {
     "duration": 0.030854,
     "end_time": "2023-03-22T07:51:35.058741",
     "exception": false,
     "start_time": "2023-03-22T07:51:35.027887",
     "status": "completed"
    },
    "tags": []
   },
   "source": [
    "### Dataset Information"
   ]
  },
  {
   "cell_type": "code",
   "execution_count": 5,
   "id": "87c60f96",
   "metadata": {
    "execution": {
     "iopub.execute_input": "2023-03-22T07:51:35.123224Z",
     "iopub.status.busy": "2023-03-22T07:51:35.122013Z",
     "iopub.status.idle": "2023-03-22T07:51:35.254567Z",
     "shell.execute_reply": "2023-03-22T07:51:35.252703Z"
    },
    "id": "e9hRXRi6meOf",
    "papermill": {
     "duration": 0.167642,
     "end_time": "2023-03-22T07:51:35.257256",
     "exception": false,
     "start_time": "2023-03-22T07:51:35.089614",
     "status": "completed"
    },
    "tags": []
   },
   "outputs": [
    {
     "name": "stdout",
     "output_type": "stream",
     "text": [
      "<class 'pandas.core.frame.DataFrame'>\n",
      "RangeIndex: 119390 entries, 0 to 119389\n",
      "Data columns (total 36 columns):\n",
      " #   Column                          Non-Null Count   Dtype  \n",
      "---  ------                          --------------   -----  \n",
      " 0   hotel                           119390 non-null  object \n",
      " 1   is_canceled                     119390 non-null  int64  \n",
      " 2   lead_time                       119390 non-null  int64  \n",
      " 3   arrival_date_year               119390 non-null  int64  \n",
      " 4   arrival_date_month              119390 non-null  object \n",
      " 5   arrival_date_week_number        119390 non-null  int64  \n",
      " 6   arrival_date_day_of_month       119390 non-null  int64  \n",
      " 7   stays_in_weekend_nights         119390 non-null  int64  \n",
      " 8   stays_in_week_nights            119390 non-null  int64  \n",
      " 9   adults                          119390 non-null  int64  \n",
      " 10  children                        119386 non-null  float64\n",
      " 11  babies                          119390 non-null  int64  \n",
      " 12  meal                            119390 non-null  object \n",
      " 13  country                         118902 non-null  object \n",
      " 14  market_segment                  119390 non-null  object \n",
      " 15  distribution_channel            119390 non-null  object \n",
      " 16  is_repeated_guest               119390 non-null  int64  \n",
      " 17  previous_cancellations          119390 non-null  int64  \n",
      " 18  previous_bookings_not_canceled  119390 non-null  int64  \n",
      " 19  reserved_room_type              119390 non-null  object \n",
      " 20  assigned_room_type              119390 non-null  object \n",
      " 21  booking_changes                 119390 non-null  int64  \n",
      " 22  deposit_type                    119390 non-null  object \n",
      " 23  agent                           103050 non-null  float64\n",
      " 24  company                         6797 non-null    float64\n",
      " 25  days_in_waiting_list            119390 non-null  int64  \n",
      " 26  customer_type                   119390 non-null  object \n",
      " 27  adr                             119390 non-null  float64\n",
      " 28  required_car_parking_spaces     119390 non-null  int64  \n",
      " 29  total_of_special_requests       119390 non-null  int64  \n",
      " 30  reservation_status              119390 non-null  object \n",
      " 31  reservation_status_date         119390 non-null  object \n",
      " 32  name                            119390 non-null  object \n",
      " 33  email                           119390 non-null  object \n",
      " 34  phone-number                    119390 non-null  object \n",
      " 35  credit_card                     119390 non-null  object \n",
      "dtypes: float64(4), int64(16), object(16)\n",
      "memory usage: 32.8+ MB\n"
     ]
    }
   ],
   "source": [
    "# Dataset Info\n",
    "hotels_df.info()"
   ]
  },
  {
   "cell_type": "markdown",
   "id": "952d5a73",
   "metadata": {
    "id": "35m5QtbWiB9F",
    "papermill": {
     "duration": 0.030906,
     "end_time": "2023-03-22T07:51:35.319715",
     "exception": false,
     "start_time": "2023-03-22T07:51:35.288809",
     "status": "completed"
    },
    "tags": []
   },
   "source": [
    "#### Duplicate Values"
   ]
  },
  {
   "cell_type": "code",
   "execution_count": 6,
   "id": "fad96289",
   "metadata": {
    "execution": {
     "iopub.execute_input": "2023-03-22T07:51:35.384155Z",
     "iopub.status.busy": "2023-03-22T07:51:35.383739Z",
     "iopub.status.idle": "2023-03-22T07:51:35.669966Z",
     "shell.execute_reply": "2023-03-22T07:51:35.668761Z"
    },
    "id": "1sLdpKYkmox0",
    "papermill": {
     "duration": 0.321552,
     "end_time": "2023-03-22T07:51:35.672763",
     "exception": false,
     "start_time": "2023-03-22T07:51:35.351211",
     "status": "completed"
    },
    "tags": []
   },
   "outputs": [
    {
     "data": {
      "text/plain": [
       "0"
      ]
     },
     "execution_count": 6,
     "metadata": {},
     "output_type": "execute_result"
    }
   ],
   "source": [
    "# Dataset Duplicate Value Count\n",
    "len(hotels_df[hotels_df.duplicated()])"
   ]
  },
  {
   "cell_type": "markdown",
   "id": "54f5c145",
   "metadata": {
    "id": "PoPl-ycgm1ru",
    "papermill": {
     "duration": 0.031668,
     "end_time": "2023-03-22T07:51:35.737128",
     "exception": false,
     "start_time": "2023-03-22T07:51:35.705460",
     "status": "completed"
    },
    "tags": []
   },
   "source": [
    "#### Missing Values/Null Values"
   ]
  },
  {
   "cell_type": "code",
   "execution_count": 7,
   "id": "7bf14bcb",
   "metadata": {
    "execution": {
     "iopub.execute_input": "2023-03-22T07:51:35.802086Z",
     "iopub.status.busy": "2023-03-22T07:51:35.801673Z",
     "iopub.status.idle": "2023-03-22T07:51:35.910153Z",
     "shell.execute_reply": "2023-03-22T07:51:35.908996Z"
    },
    "id": "GgHWkxvamxVg",
    "papermill": {
     "duration": 0.143971,
     "end_time": "2023-03-22T07:51:35.912801",
     "exception": false,
     "start_time": "2023-03-22T07:51:35.768830",
     "status": "completed"
    },
    "tags": []
   },
   "outputs": [
    {
     "data": {
      "text/plain": [
       "hotel                                  0\n",
       "is_canceled                            0\n",
       "lead_time                              0\n",
       "arrival_date_year                      0\n",
       "arrival_date_month                     0\n",
       "arrival_date_week_number               0\n",
       "arrival_date_day_of_month              0\n",
       "stays_in_weekend_nights                0\n",
       "stays_in_week_nights                   0\n",
       "adults                                 0\n",
       "children                               4\n",
       "babies                                 0\n",
       "meal                                   0\n",
       "country                              488\n",
       "market_segment                         0\n",
       "distribution_channel                   0\n",
       "is_repeated_guest                      0\n",
       "previous_cancellations                 0\n",
       "previous_bookings_not_canceled         0\n",
       "reserved_room_type                     0\n",
       "assigned_room_type                     0\n",
       "booking_changes                        0\n",
       "deposit_type                           0\n",
       "agent                              16340\n",
       "company                           112593\n",
       "days_in_waiting_list                   0\n",
       "customer_type                          0\n",
       "adr                                    0\n",
       "required_car_parking_spaces            0\n",
       "total_of_special_requests              0\n",
       "reservation_status                     0\n",
       "reservation_status_date                0\n",
       "name                                   0\n",
       "email                                  0\n",
       "phone-number                           0\n",
       "credit_card                            0\n",
       "dtype: int64"
      ]
     },
     "execution_count": 7,
     "metadata": {},
     "output_type": "execute_result"
    }
   ],
   "source": [
    "# Missing Values/Null Values Count\n",
    "hotels_df.isnull().sum()"
   ]
  },
  {
   "cell_type": "code",
   "execution_count": 8,
   "id": "ab64aeae",
   "metadata": {
    "execution": {
     "iopub.execute_input": "2023-03-22T07:51:35.977879Z",
     "iopub.status.busy": "2023-03-22T07:51:35.977471Z",
     "iopub.status.idle": "2023-03-22T07:51:36.951471Z",
     "shell.execute_reply": "2023-03-22T07:51:36.950196Z"
    },
    "id": "3q5wnI3om9sJ",
    "papermill": {
     "duration": 1.009853,
     "end_time": "2023-03-22T07:51:36.954223",
     "exception": false,
     "start_time": "2023-03-22T07:51:35.944370",
     "status": "completed"
    },
    "tags": []
   },
   "outputs": [
    {
     "data": {
      "image/png": "[encoded data removed]",
      "text/plain": [
       "<Figure size 640x480 with 1 Axes>"
      ]
     },
     "metadata": {},
     "output_type": "display_data"
    }
   ],
   "source": [
    "# Visualizing the missing values\n",
    "cols_with_null_values= [col for col in hotels_df.columns if hotels_df[col].isna().sum()>0]\n",
    "\n",
    "sns.heatmap(hotels_df[cols_with_null_values].isnull(), cbar=False)\n",
    "plt.show()"
   ]
  },
  {
   "cell_type": "markdown",
   "id": "78af025a",
   "metadata": {
    "id": "H0kj-8xxnORC",
    "papermill": {
     "duration": 0.031386,
     "end_time": "2023-03-22T07:51:37.021455",
     "exception": false,
     "start_time": "2023-03-22T07:51:36.990069",
     "status": "completed"
    },
    "tags": []
   },
   "source": [
    "### What did you know about your dataset?"
   ]
  },
  {
   "cell_type": "markdown",
   "id": "54c4e36b",
   "metadata": {
    "id": "gfoNAAC-nUe_",
    "papermill": {
     "duration": 0.031219,
     "end_time": "2023-03-22T07:51:37.084357",
     "exception": false,
     "start_time": "2023-03-22T07:51:37.053138",
     "status": "completed"
    },
    "tags": []
   },
   "source": [
    "Answer Here"
   ]
  },
  {
   "cell_type": "markdown",
   "id": "bc797518",
   "metadata": {
    "id": "nA9Y7ga8ng1Z",
    "papermill": {
     "duration": 0.031205,
     "end_time": "2023-03-22T07:51:37.147174",
     "exception": false,
     "start_time": "2023-03-22T07:51:37.115969",
     "status": "completed"
    },
    "tags": []
   },
   "source": [
    "## ***2. Understanding Your Variables***"
   ]
  },
  {
   "cell_type": "code",
   "execution_count": 9,
   "id": "b7088fb7",
   "metadata": {
    "execution": {
     "iopub.execute_input": "2023-03-22T07:51:37.213556Z",
     "iopub.status.busy": "2023-03-22T07:51:37.213167Z",
     "iopub.status.idle": "2023-03-22T07:51:37.219747Z",
     "shell.execute_reply": "2023-03-22T07:51:37.218907Z"
    },
    "id": "j7xfkqrt5Ag5",
    "papermill": {
     "duration": 0.04183,
     "end_time": "2023-03-22T07:51:37.221819",
     "exception": false,
     "start_time": "2023-03-22T07:51:37.179989",
     "status": "completed"
    },
    "tags": []
   },
   "outputs": [
    {
     "data": {
      "text/plain": [
       "Index(['hotel', 'is_canceled', 'lead_time', 'arrival_date_year',\n",
       "       'arrival_date_month', 'arrival_date_week_number',\n",
       "       'arrival_date_day_of_month', 'stays_in_weekend_nights',\n",
       "       'stays_in_week_nights', 'adults', 'children', 'babies', 'meal',\n",
       "       'country', 'market_segment', 'distribution_channel',\n",
       "       'is_repeated_guest', 'previous_cancellations',\n",
       "       'previous_bookings_not_canceled', 'reserved_room_type',\n",
       "       'assigned_room_type', 'booking_changes', 'deposit_type', 'agent',\n",
       "       'company', 'days_in_waiting_list', 'customer_type', 'adr',\n",
       "       'required_car_parking_spaces', 'total_of_special_requests',\n",
       "       'reservation_status', 'reservation_status_date', 'name', 'email',\n",
       "       'phone-number', 'credit_card'],\n",
       "      dtype='object')"
      ]
     },
     "execution_count": 9,
     "metadata": {},
     "output_type": "execute_result"
    }
   ],
   "source": [
    "# Dataset Columns\n",
    "hotels_df.columns"
   ]
  },
  {
   "cell_type": "code",
   "execution_count": 10,
   "id": "9c322fc7",
   "metadata": {
    "execution": {
     "iopub.execute_input": "2023-03-22T07:51:37.288431Z",
     "iopub.status.busy": "2023-03-22T07:51:37.287795Z",
     "iopub.status.idle": "2023-03-22T07:51:37.800336Z",
     "shell.execute_reply": "2023-03-22T07:51:37.799075Z"
    },
    "id": "DnOaZdaE5Q5t",
    "papermill": {
     "duration": 0.548979,
     "end_time": "2023-03-22T07:51:37.803179",
     "exception": false,
     "start_time": "2023-03-22T07:51:37.254200",
     "status": "completed"
    },
    "tags": []
   },
   "outputs": [
    {
     "data": {
      "text/html": [
       "<div>\n",
       "<style scoped>\n",
       "    .dataframe tbody tr th:only-of-type {\n",
       "        vertical-align: middle;\n",
       "    }\n",
       "\n",
       "    .dataframe tbody tr th {\n",
       "        vertical-align: top;\n",
       "    }\n",
       "\n",
       "    .dataframe thead th {\n",
       "        text-align: right;\n",
       "    }\n",
       "</style>\n",
       "<table border=\"1\" class=\"dataframe\">\n",
       "  <thead>\n",
       "    <tr style=\"text-align: right;\">\n",
       "      <th></th>\n",
       "      <th>hotel</th>\n",
       "      <th>is_canceled</th>\n",
       "      <th>lead_time</th>\n",
       "      <th>arrival_date_year</th>\n",
       "      <th>arrival_date_month</th>\n",
       "      <th>arrival_date_week_number</th>\n",
       "      <th>arrival_date_day_of_month</th>\n",
       "      <th>stays_in_weekend_nights</th>\n",
       "      <th>stays_in_week_nights</th>\n",
       "      <th>adults</th>\n",
       "      <th>children</th>\n",
       "      <th>babies</th>\n",
       "      <th>meal</th>\n",
       "      <th>country</th>\n",
       "      <th>market_segment</th>\n",
       "      <th>distribution_channel</th>\n",
       "      <th>is_repeated_guest</th>\n",
       "      <th>previous_cancellations</th>\n",
       "      <th>previous_bookings_not_canceled</th>\n",
       "      <th>reserved_room_type</th>\n",
       "      <th>assigned_room_type</th>\n",
       "      <th>booking_changes</th>\n",
       "      <th>deposit_type</th>\n",
       "      <th>agent</th>\n",
       "      <th>company</th>\n",
       "      <th>days_in_waiting_list</th>\n",
       "      <th>customer_type</th>\n",
       "      <th>adr</th>\n",
       "      <th>required_car_parking_spaces</th>\n",
       "      <th>total_of_special_requests</th>\n",
       "      <th>reservation_status</th>\n",
       "      <th>reservation_status_date</th>\n",
       "      <th>name</th>\n",
       "      <th>email</th>\n",
       "      <th>phone-number</th>\n",
       "      <th>credit_card</th>\n",
       "    </tr>\n",
       "  </thead>\n",
       "  <tbody>\n",
       "    <tr>\n",
       "      <th>count</th>\n",
       "      <td>119390</td>\n",
       "      <td>119390.000000</td>\n",
       "      <td>119390.000000</td>\n",
       "      <td>119390.000000</td>\n",
       "      <td>119390</td>\n",
       "      <td>119390.000000</td>\n",
       "      <td>119390.000000</td>\n",
       "      <td>119390.000000</td>\n",
       "      <td>119390.000000</td>\n",
       "      <td>119390.000000</td>\n",
       "      <td>119386.000000</td>\n",
       "      <td>119390.000000</td>\n",
       "      <td>119390</td>\n",
       "      <td>118902</td>\n",
       "      <td>119390</td>\n",
       "      <td>119390</td>\n",
       "      <td>119390.000000</td>\n",
       "      <td>119390.000000</td>\n",
       "      <td>119390.000000</td>\n",
       "      <td>119390</td>\n",
       "      <td>119390</td>\n",
       "      <td>119390.000000</td>\n",
       "      <td>119390</td>\n",
       "      <td>103050.000000</td>\n",
       "      <td>6797.000000</td>\n",
       "      <td>119390.000000</td>\n",
       "      <td>119390</td>\n",
       "      <td>119390.000000</td>\n",
       "      <td>119390.000000</td>\n",
       "      <td>119390.000000</td>\n",
       "      <td>119390</td>\n",
       "      <td>119390</td>\n",
       "      <td>119390</td>\n",
       "      <td>119390</td>\n",
       "      <td>119390</td>\n",
       "      <td>119390</td>\n",
       "    </tr>\n",
       "    <tr>\n",
       "      <th>unique</th>\n",
       "      <td>2</td>\n",
       "      <td>NaN</td>\n",
       "      <td>NaN</td>\n",
       "      <td>NaN</td>\n",
       "      <td>12</td>\n",
       "      <td>NaN</td>\n",
       "      <td>NaN</td>\n",
       "      <td>NaN</td>\n",
       "      <td>NaN</td>\n",
       "      <td>NaN</td>\n",
       "      <td>NaN</td>\n",
       "      <td>NaN</td>\n",
       "      <td>5</td>\n",
       "      <td>177</td>\n",
       "      <td>8</td>\n",
       "      <td>5</td>\n",
       "      <td>NaN</td>\n",
       "      <td>NaN</td>\n",
       "      <td>NaN</td>\n",
       "      <td>10</td>\n",
       "      <td>12</td>\n",
       "      <td>NaN</td>\n",
       "      <td>3</td>\n",
       "      <td>NaN</td>\n",
       "      <td>NaN</td>\n",
       "      <td>NaN</td>\n",
       "      <td>4</td>\n",
       "      <td>NaN</td>\n",
       "      <td>NaN</td>\n",
       "      <td>NaN</td>\n",
       "      <td>3</td>\n",
       "      <td>926</td>\n",
       "      <td>81503</td>\n",
       "      <td>115889</td>\n",
       "      <td>119390</td>\n",
       "      <td>9000</td>\n",
       "    </tr>\n",
       "    <tr>\n",
       "      <th>top</th>\n",
       "      <td>City Hotel</td>\n",
       "      <td>NaN</td>\n",
       "      <td>NaN</td>\n",
       "      <td>NaN</td>\n",
       "      <td>August</td>\n",
       "      <td>NaN</td>\n",
       "      <td>NaN</td>\n",
       "      <td>NaN</td>\n",
       "      <td>NaN</td>\n",
       "      <td>NaN</td>\n",
       "      <td>NaN</td>\n",
       "      <td>NaN</td>\n",
       "      <td>BB</td>\n",
       "      <td>PRT</td>\n",
       "      <td>Online TA</td>\n",
       "      <td>TA/TO</td>\n",
       "      <td>NaN</td>\n",
       "      <td>NaN</td>\n",
       "      <td>NaN</td>\n",
       "      <td>A</td>\n",
       "      <td>A</td>\n",
       "      <td>NaN</td>\n",
       "      <td>No Deposit</td>\n",
       "      <td>NaN</td>\n",
       "      <td>NaN</td>\n",
       "      <td>NaN</td>\n",
       "      <td>Transient</td>\n",
       "      <td>NaN</td>\n",
       "      <td>NaN</td>\n",
       "      <td>NaN</td>\n",
       "      <td>Check-Out</td>\n",
       "      <td>2015-10-21</td>\n",
       "      <td>Michael Johnson</td>\n",
       "      <td>Michael.C@gmail.com</td>\n",
       "      <td>669-792-1661</td>\n",
       "      <td>************4923</td>\n",
       "    </tr>\n",
       "    <tr>\n",
       "      <th>freq</th>\n",
       "      <td>79330</td>\n",
       "      <td>NaN</td>\n",
       "      <td>NaN</td>\n",
       "      <td>NaN</td>\n",
       "      <td>13877</td>\n",
       "      <td>NaN</td>\n",
       "      <td>NaN</td>\n",
       "      <td>NaN</td>\n",
       "      <td>NaN</td>\n",
       "      <td>NaN</td>\n",
       "      <td>NaN</td>\n",
       "      <td>NaN</td>\n",
       "      <td>92310</td>\n",
       "      <td>48590</td>\n",
       "      <td>56477</td>\n",
       "      <td>97870</td>\n",
       "      <td>NaN</td>\n",
       "      <td>NaN</td>\n",
       "      <td>NaN</td>\n",
       "      <td>85994</td>\n",
       "      <td>74053</td>\n",
       "      <td>NaN</td>\n",
       "      <td>104641</td>\n",
       "      <td>NaN</td>\n",
       "      <td>NaN</td>\n",
       "      <td>NaN</td>\n",
       "      <td>89613</td>\n",
       "      <td>NaN</td>\n",
       "      <td>NaN</td>\n",
       "      <td>NaN</td>\n",
       "      <td>75166</td>\n",
       "      <td>1461</td>\n",
       "      <td>48</td>\n",
       "      <td>6</td>\n",
       "      <td>1</td>\n",
       "      <td>28</td>\n",
       "    </tr>\n",
       "    <tr>\n",
       "      <th>mean</th>\n",
       "      <td>NaN</td>\n",
       "      <td>0.370416</td>\n",
       "      <td>104.011416</td>\n",
       "      <td>2016.156554</td>\n",
       "      <td>NaN</td>\n",
       "      <td>27.165173</td>\n",
       "      <td>15.798241</td>\n",
       "      <td>0.927599</td>\n",
       "      <td>2.500302</td>\n",
       "      <td>1.856403</td>\n",
       "      <td>0.103890</td>\n",
       "      <td>0.007949</td>\n",
       "      <td>NaN</td>\n",
       "      <td>NaN</td>\n",
       "      <td>NaN</td>\n",
       "      <td>NaN</td>\n",
       "      <td>0.031912</td>\n",
       "      <td>0.087118</td>\n",
       "      <td>0.137097</td>\n",
       "      <td>NaN</td>\n",
       "      <td>NaN</td>\n",
       "      <td>0.221124</td>\n",
       "      <td>NaN</td>\n",
       "      <td>86.693382</td>\n",
       "      <td>189.266735</td>\n",
       "      <td>2.321149</td>\n",
       "      <td>NaN</td>\n",
       "      <td>101.831122</td>\n",
       "      <td>0.062518</td>\n",
       "      <td>0.571363</td>\n",
       "      <td>NaN</td>\n",
       "      <td>NaN</td>\n",
       "      <td>NaN</td>\n",
       "      <td>NaN</td>\n",
       "      <td>NaN</td>\n",
       "      <td>NaN</td>\n",
       "    </tr>\n",
       "    <tr>\n",
       "      <th>std</th>\n",
       "      <td>NaN</td>\n",
       "      <td>0.482918</td>\n",
       "      <td>106.863097</td>\n",
       "      <td>0.707476</td>\n",
       "      <td>NaN</td>\n",
       "      <td>13.605138</td>\n",
       "      <td>8.780829</td>\n",
       "      <td>0.998613</td>\n",
       "      <td>1.908286</td>\n",
       "      <td>0.579261</td>\n",
       "      <td>0.398561</td>\n",
       "      <td>0.097436</td>\n",
       "      <td>NaN</td>\n",
       "      <td>NaN</td>\n",
       "      <td>NaN</td>\n",
       "      <td>NaN</td>\n",
       "      <td>0.175767</td>\n",
       "      <td>0.844336</td>\n",
       "      <td>1.497437</td>\n",
       "      <td>NaN</td>\n",
       "      <td>NaN</td>\n",
       "      <td>0.652306</td>\n",
       "      <td>NaN</td>\n",
       "      <td>110.774548</td>\n",
       "      <td>131.655015</td>\n",
       "      <td>17.594721</td>\n",
       "      <td>NaN</td>\n",
       "      <td>50.535790</td>\n",
       "      <td>0.245291</td>\n",
       "      <td>0.792798</td>\n",
       "      <td>NaN</td>\n",
       "      <td>NaN</td>\n",
       "      <td>NaN</td>\n",
       "      <td>NaN</td>\n",
       "      <td>NaN</td>\n",
       "      <td>NaN</td>\n",
       "    </tr>\n",
       "    <tr>\n",
       "      <th>min</th>\n",
       "      <td>NaN</td>\n",
       "      <td>0.000000</td>\n",
       "      <td>0.000000</td>\n",
       "      <td>2015.000000</td>\n",
       "      <td>NaN</td>\n",
       "      <td>1.000000</td>\n",
       "      <td>1.000000</td>\n",
       "      <td>0.000000</td>\n",
       "      <td>0.000000</td>\n",
       "      <td>0.000000</td>\n",
       "      <td>0.000000</td>\n",
       "      <td>0.000000</td>\n",
       "      <td>NaN</td>\n",
       "      <td>NaN</td>\n",
       "      <td>NaN</td>\n",
       "      <td>NaN</td>\n",
       "      <td>0.000000</td>\n",
       "      <td>0.000000</td>\n",
       "      <td>0.000000</td>\n",
       "      <td>NaN</td>\n",
       "      <td>NaN</td>\n",
       "      <td>0.000000</td>\n",
       "      <td>NaN</td>\n",
       "      <td>1.000000</td>\n",
       "      <td>6.000000</td>\n",
       "      <td>0.000000</td>\n",
       "      <td>NaN</td>\n",
       "      <td>-6.380000</td>\n",
       "      <td>0.000000</td>\n",
       "      <td>0.000000</td>\n",
       "      <td>NaN</td>\n",
       "      <td>NaN</td>\n",
       "      <td>NaN</td>\n",
       "      <td>NaN</td>\n",
       "      <td>NaN</td>\n",
       "      <td>NaN</td>\n",
       "    </tr>\n",
       "    <tr>\n",
       "      <th>25%</th>\n",
       "      <td>NaN</td>\n",
       "      <td>0.000000</td>\n",
       "      <td>18.000000</td>\n",
       "      <td>2016.000000</td>\n",
       "      <td>NaN</td>\n",
       "      <td>16.000000</td>\n",
       "      <td>8.000000</td>\n",
       "      <td>0.000000</td>\n",
       "      <td>1.000000</td>\n",
       "      <td>2.000000</td>\n",
       "      <td>0.000000</td>\n",
       "      <td>0.000000</td>\n",
       "      <td>NaN</td>\n",
       "      <td>NaN</td>\n",
       "      <td>NaN</td>\n",
       "      <td>NaN</td>\n",
       "      <td>0.000000</td>\n",
       "      <td>0.000000</td>\n",
       "      <td>0.000000</td>\n",
       "      <td>NaN</td>\n",
       "      <td>NaN</td>\n",
       "      <td>0.000000</td>\n",
       "      <td>NaN</td>\n",
       "      <td>9.000000</td>\n",
       "      <td>62.000000</td>\n",
       "      <td>0.000000</td>\n",
       "      <td>NaN</td>\n",
       "      <td>69.290000</td>\n",
       "      <td>0.000000</td>\n",
       "      <td>0.000000</td>\n",
       "      <td>NaN</td>\n",
       "      <td>NaN</td>\n",
       "      <td>NaN</td>\n",
       "      <td>NaN</td>\n",
       "      <td>NaN</td>\n",
       "      <td>NaN</td>\n",
       "    </tr>\n",
       "    <tr>\n",
       "      <th>50%</th>\n",
       "      <td>NaN</td>\n",
       "      <td>0.000000</td>\n",
       "      <td>69.000000</td>\n",
       "      <td>2016.000000</td>\n",
       "      <td>NaN</td>\n",
       "      <td>28.000000</td>\n",
       "      <td>16.000000</td>\n",
       "      <td>1.000000</td>\n",
       "      <td>2.000000</td>\n",
       "      <td>2.000000</td>\n",
       "      <td>0.000000</td>\n",
       "      <td>0.000000</td>\n",
       "      <td>NaN</td>\n",
       "      <td>NaN</td>\n",
       "      <td>NaN</td>\n",
       "      <td>NaN</td>\n",
       "      <td>0.000000</td>\n",
       "      <td>0.000000</td>\n",
       "      <td>0.000000</td>\n",
       "      <td>NaN</td>\n",
       "      <td>NaN</td>\n",
       "      <td>0.000000</td>\n",
       "      <td>NaN</td>\n",
       "      <td>14.000000</td>\n",
       "      <td>179.000000</td>\n",
       "      <td>0.000000</td>\n",
       "      <td>NaN</td>\n",
       "      <td>94.575000</td>\n",
       "      <td>0.000000</td>\n",
       "      <td>0.000000</td>\n",
       "      <td>NaN</td>\n",
       "      <td>NaN</td>\n",
       "      <td>NaN</td>\n",
       "      <td>NaN</td>\n",
       "      <td>NaN</td>\n",
       "      <td>NaN</td>\n",
       "    </tr>\n",
       "    <tr>\n",
       "      <th>75%</th>\n",
       "      <td>NaN</td>\n",
       "      <td>1.000000</td>\n",
       "      <td>160.000000</td>\n",
       "      <td>2017.000000</td>\n",
       "      <td>NaN</td>\n",
       "      <td>38.000000</td>\n",
       "      <td>23.000000</td>\n",
       "      <td>2.000000</td>\n",
       "      <td>3.000000</td>\n",
       "      <td>2.000000</td>\n",
       "      <td>0.000000</td>\n",
       "      <td>0.000000</td>\n",
       "      <td>NaN</td>\n",
       "      <td>NaN</td>\n",
       "      <td>NaN</td>\n",
       "      <td>NaN</td>\n",
       "      <td>0.000000</td>\n",
       "      <td>0.000000</td>\n",
       "      <td>0.000000</td>\n",
       "      <td>NaN</td>\n",
       "      <td>NaN</td>\n",
       "      <td>0.000000</td>\n",
       "      <td>NaN</td>\n",
       "      <td>229.000000</td>\n",
       "      <td>270.000000</td>\n",
       "      <td>0.000000</td>\n",
       "      <td>NaN</td>\n",
       "      <td>126.000000</td>\n",
       "      <td>0.000000</td>\n",
       "      <td>1.000000</td>\n",
       "      <td>NaN</td>\n",
       "      <td>NaN</td>\n",
       "      <td>NaN</td>\n",
       "      <td>NaN</td>\n",
       "      <td>NaN</td>\n",
       "      <td>NaN</td>\n",
       "    </tr>\n",
       "    <tr>\n",
       "      <th>max</th>\n",
       "      <td>NaN</td>\n",
       "      <td>1.000000</td>\n",
       "      <td>737.000000</td>\n",
       "      <td>2017.000000</td>\n",
       "      <td>NaN</td>\n",
       "      <td>53.000000</td>\n",
       "      <td>31.000000</td>\n",
       "      <td>19.000000</td>\n",
       "      <td>50.000000</td>\n",
       "      <td>55.000000</td>\n",
       "      <td>10.000000</td>\n",
       "      <td>10.000000</td>\n",
       "      <td>NaN</td>\n",
       "      <td>NaN</td>\n",
       "      <td>NaN</td>\n",
       "      <td>NaN</td>\n",
       "      <td>1.000000</td>\n",
       "      <td>26.000000</td>\n",
       "      <td>72.000000</td>\n",
       "      <td>NaN</td>\n",
       "      <td>NaN</td>\n",
       "      <td>21.000000</td>\n",
       "      <td>NaN</td>\n",
       "      <td>535.000000</td>\n",
       "      <td>543.000000</td>\n",
       "      <td>391.000000</td>\n",
       "      <td>NaN</td>\n",
       "      <td>5400.000000</td>\n",
       "      <td>8.000000</td>\n",
       "      <td>5.000000</td>\n",
       "      <td>NaN</td>\n",
       "      <td>NaN</td>\n",
       "      <td>NaN</td>\n",
       "      <td>NaN</td>\n",
       "      <td>NaN</td>\n",
       "      <td>NaN</td>\n",
       "    </tr>\n",
       "  </tbody>\n",
       "</table>\n",
       "</div>"
      ],
      "text/plain": [
       "             hotel    is_canceled      lead_time  arrival_date_year  \\\n",
       "count       119390  119390.000000  119390.000000      119390.000000   \n",
       "unique           2            NaN            NaN                NaN   \n",
       "top     City Hotel            NaN            NaN                NaN   \n",
       "freq         79330            NaN            NaN                NaN   \n",
       "mean           NaN       0.370416     104.011416        2016.156554   \n",
       "std            NaN       0.482918     106.863097           0.707476   \n",
       "min            NaN       0.000000       0.000000        2015.000000   \n",
       "25%            NaN       0.000000      18.000000        2016.000000   \n",
       "50%            NaN       0.000000      69.000000        2016.000000   \n",
       "75%            NaN       1.000000     160.000000        2017.000000   \n",
       "max            NaN       1.000000     737.000000        2017.000000   \n",
       "\n",
       "       arrival_date_month  arrival_date_week_number  \\\n",
       "count              119390             119390.000000   \n",
       "unique                 12                       NaN   \n",
       "top                August                       NaN   \n",
       "freq                13877                       NaN   \n",
       "mean                  NaN                 27.165173   \n",
       "std                   NaN                 13.605138   \n",
       "min                   NaN                  1.000000   \n",
       "25%                   NaN                 16.000000   \n",
       "50%                   NaN                 28.000000   \n",
       "75%                   NaN                 38.000000   \n",
       "max                   NaN                 53.000000   \n",
       "\n",
       "        arrival_date_day_of_month  stays_in_weekend_nights  \\\n",
       "count               119390.000000            119390.000000   \n",
       "unique                        NaN                      NaN   \n",
       "top                           NaN                      NaN   \n",
       "freq                          NaN                      NaN   \n",
       "mean                    15.798241                 0.927599   \n",
       "std                      8.780829                 0.998613   \n",
       "min                      1.000000                 0.000000   \n",
       "25%                      8.000000                 0.000000   \n",
       "50%                     16.000000                 1.000000   \n",
       "75%                     23.000000                 2.000000   \n",
       "max                     31.000000                19.000000   \n",
       "\n",
       "        stays_in_week_nights         adults       children         babies  \\\n",
       "count          119390.000000  119390.000000  119386.000000  119390.000000   \n",
       "unique                   NaN            NaN            NaN            NaN   \n",
       "top                      NaN            NaN            NaN            NaN   \n",
       "freq                     NaN            NaN            NaN            NaN   \n",
       "mean                2.500302       1.856403       0.103890       0.007949   \n",
       "std                 1.908286       0.579261       0.398561       0.097436   \n",
       "min                 0.000000       0.000000       0.000000       0.000000   \n",
       "25%                 1.000000       2.000000       0.000000       0.000000   \n",
       "50%                 2.000000       2.000000       0.000000       0.000000   \n",
       "75%                 3.000000       2.000000       0.000000       0.000000   \n",
       "max                50.000000      55.000000      10.000000      10.000000   \n",
       "\n",
       "          meal country market_segment distribution_channel  is_repeated_guest  \\\n",
       "count   119390  118902         119390               119390      119390.000000   \n",
       "unique       5     177              8                    5                NaN   \n",
       "top         BB     PRT      Online TA                TA/TO                NaN   \n",
       "freq     92310   48590          56477                97870                NaN   \n",
       "mean       NaN     NaN            NaN                  NaN           0.031912   \n",
       "std        NaN     NaN            NaN                  NaN           0.175767   \n",
       "min        NaN     NaN            NaN                  NaN           0.000000   \n",
       "25%        NaN     NaN            NaN                  NaN           0.000000   \n",
       "50%        NaN     NaN            NaN                  NaN           0.000000   \n",
       "75%        NaN     NaN            NaN                  NaN           0.000000   \n",
       "max        NaN     NaN            NaN                  NaN           1.000000   \n",
       "\n",
       "        previous_cancellations  previous_bookings_not_canceled  \\\n",
       "count            119390.000000                   119390.000000   \n",
       "unique                     NaN                             NaN   \n",
       "top                        NaN                             NaN   \n",
       "freq                       NaN                             NaN   \n",
       "mean                  0.087118                        0.137097   \n",
       "std                   0.844336                        1.497437   \n",
       "min                   0.000000                        0.000000   \n",
       "25%                   0.000000                        0.000000   \n",
       "50%                   0.000000                        0.000000   \n",
       "75%                   0.000000                        0.000000   \n",
       "max                  26.000000                       72.000000   \n",
       "\n",
       "       reserved_room_type assigned_room_type  booking_changes deposit_type  \\\n",
       "count              119390             119390    119390.000000       119390   \n",
       "unique                 10                 12              NaN            3   \n",
       "top                     A                  A              NaN   No Deposit   \n",
       "freq                85994              74053              NaN       104641   \n",
       "mean                  NaN                NaN         0.221124          NaN   \n",
       "std                   NaN                NaN         0.652306          NaN   \n",
       "min                   NaN                NaN         0.000000          NaN   \n",
       "25%                   NaN                NaN         0.000000          NaN   \n",
       "50%                   NaN                NaN         0.000000          NaN   \n",
       "75%                   NaN                NaN         0.000000          NaN   \n",
       "max                   NaN                NaN        21.000000          NaN   \n",
       "\n",
       "                agent      company  days_in_waiting_list customer_type  \\\n",
       "count   103050.000000  6797.000000         119390.000000        119390   \n",
       "unique            NaN          NaN                   NaN             4   \n",
       "top               NaN          NaN                   NaN     Transient   \n",
       "freq              NaN          NaN                   NaN         89613   \n",
       "mean        86.693382   189.266735              2.321149           NaN   \n",
       "std        110.774548   131.655015             17.594721           NaN   \n",
       "min          1.000000     6.000000              0.000000           NaN   \n",
       "25%          9.000000    62.000000              0.000000           NaN   \n",
       "50%         14.000000   179.000000              0.000000           NaN   \n",
       "75%        229.000000   270.000000              0.000000           NaN   \n",
       "max        535.000000   543.000000            391.000000           NaN   \n",
       "\n",
       "                  adr  required_car_parking_spaces  total_of_special_requests  \\\n",
       "count   119390.000000                119390.000000              119390.000000   \n",
       "unique            NaN                          NaN                        NaN   \n",
       "top               NaN                          NaN                        NaN   \n",
       "freq              NaN                          NaN                        NaN   \n",
       "mean       101.831122                     0.062518                   0.571363   \n",
       "std         50.535790                     0.245291                   0.792798   \n",
       "min         -6.380000                     0.000000                   0.000000   \n",
       "25%         69.290000                     0.000000                   0.000000   \n",
       "50%         94.575000                     0.000000                   0.000000   \n",
       "75%        126.000000                     0.000000                   1.000000   \n",
       "max       5400.000000                     8.000000                   5.000000   \n",
       "\n",
       "       reservation_status reservation_status_date             name  \\\n",
       "count              119390                  119390           119390   \n",
       "unique                  3                     926            81503   \n",
       "top             Check-Out              2015-10-21  Michael Johnson   \n",
       "freq                75166                    1461               48   \n",
       "mean                  NaN                     NaN              NaN   \n",
       "std                   NaN                     NaN              NaN   \n",
       "min                   NaN                     NaN              NaN   \n",
       "25%                   NaN                     NaN              NaN   \n",
       "50%                   NaN                     NaN              NaN   \n",
       "75%                   NaN                     NaN              NaN   \n",
       "max                   NaN                     NaN              NaN   \n",
       "\n",
       "                      email  phone-number       credit_card  \n",
       "count                119390        119390            119390  \n",
       "unique               115889        119390              9000  \n",
       "top     Michael.C@gmail.com  669-792-1661  ************4923  \n",
       "freq                      6             1                28  \n",
       "mean                    NaN           NaN               NaN  \n",
       "std                     NaN           NaN               NaN  \n",
       "min                     NaN           NaN               NaN  \n",
       "25%                     NaN           NaN               NaN  \n",
       "50%                     NaN           NaN               NaN  \n",
       "75%                     NaN           NaN               NaN  \n",
       "max                     NaN           NaN               NaN  "
      ]
     },
     "execution_count": 10,
     "metadata": {},
     "output_type": "execute_result"
    }
   ],
   "source": [
    "# Dataset Describe\n",
    "hotels_df.describe(include= \"all\")"
   ]
  },
  {
   "cell_type": "markdown",
   "id": "2b0080d3",
   "metadata": {
    "id": "PBTbrJXOngz2",
    "papermill": {
     "duration": 0.032791,
     "end_time": "2023-03-22T07:51:37.869357",
     "exception": false,
     "start_time": "2023-03-22T07:51:37.836566",
     "status": "completed"
    },
    "tags": []
   },
   "source": [
    "### Variables Description "
   ]
  },
  {
   "cell_type": "markdown",
   "id": "602b2547",
   "metadata": {
    "id": "aJV4KIxSnxay",
    "papermill": {
     "duration": 0.032199,
     "end_time": "2023-03-22T07:51:37.934368",
     "exception": false,
     "start_time": "2023-03-22T07:51:37.902169",
     "status": "completed"
    },
    "tags": []
   },
   "source": [
    "Answer Here"
   ]
  },
  {
   "cell_type": "markdown",
   "id": "bb9b17a3",
   "metadata": {
    "id": "u3PMJOP6ngxN",
    "papermill": {
     "duration": 0.032134,
     "end_time": "2023-03-22T07:51:37.999160",
     "exception": false,
     "start_time": "2023-03-22T07:51:37.967026",
     "status": "completed"
    },
    "tags": []
   },
   "source": [
    "### Check Unique Values for each variable."
   ]
  },
  {
   "cell_type": "code",
   "execution_count": 11,
   "id": "55ff8052",
   "metadata": {
    "execution": {
     "iopub.execute_input": "2023-03-22T07:51:38.066215Z",
     "iopub.status.busy": "2023-03-22T07:51:38.065832Z",
     "iopub.status.idle": "2023-03-22T07:51:38.296002Z",
     "shell.execute_reply": "2023-03-22T07:51:38.294729Z"
    },
    "id": "zms12Yq5n-jE",
    "papermill": {
     "duration": 0.266583,
     "end_time": "2023-03-22T07:51:38.298525",
     "exception": false,
     "start_time": "2023-03-22T07:51:38.031942",
     "status": "completed"
    },
    "tags": []
   },
   "outputs": [
    {
     "name": "stdout",
     "output_type": "stream",
     "text": [
      "No. of unique values in  hotel is 2 .\n",
      "No. of unique values in  is_canceled is 2 .\n",
      "No. of unique values in  lead_time is 479 .\n",
      "No. of unique values in  arrival_date_year is 3 .\n",
      "No. of unique values in  arrival_date_month is 12 .\n",
      "No. of unique values in  arrival_date_week_number is 53 .\n",
      "No. of unique values in  arrival_date_day_of_month is 31 .\n",
      "No. of unique values in  stays_in_weekend_nights is 17 .\n",
      "No. of unique values in  stays_in_week_nights is 35 .\n",
      "No. of unique values in  adults is 14 .\n",
      "No. of unique values in  children is 5 .\n",
      "No. of unique values in  babies is 5 .\n",
      "No. of unique values in  meal is 5 .\n",
      "No. of unique values in  country is 177 .\n",
      "No. of unique values in  market_segment is 8 .\n",
      "No. of unique values in  distribution_channel is 5 .\n",
      "No. of unique values in  is_repeated_guest is 2 .\n",
      "No. of unique values in  previous_cancellations is 15 .\n",
      "No. of unique values in  previous_bookings_not_canceled is 73 .\n",
      "No. of unique values in  reserved_room_type is 10 .\n",
      "No. of unique values in  assigned_room_type is 12 .\n",
      "No. of unique values in  booking_changes is 21 .\n",
      "No. of unique values in  deposit_type is 3 .\n",
      "No. of unique values in  agent is 333 .\n",
      "No. of unique values in  company is 352 .\n",
      "No. of unique values in  days_in_waiting_list is 128 .\n",
      "No. of unique values in  customer_type is 4 .\n",
      "No. of unique values in  adr is 8879 .\n",
      "No. of unique values in  required_car_parking_spaces is 5 .\n",
      "No. of unique values in  total_of_special_requests is 6 .\n",
      "No. of unique values in  reservation_status is 3 .\n",
      "No. of unique values in  reservation_status_date is 926 .\n",
      "No. of unique values in  name is 81503 .\n",
      "No. of unique values in  email is 115889 .\n",
      "No. of unique values in  phone-number is 119390 .\n",
      "No. of unique values in  credit_card is 9000 .\n"
     ]
    }
   ],
   "source": [
    "# Check Unique Values for each variable.\n",
    "for col in hotels_df.columns:\n",
    "  print(\"No. of unique values in \", col,\"is\",hotels_df[col].nunique(),\".\")"
   ]
  },
  {
   "cell_type": "markdown",
   "id": "5ece906a",
   "metadata": {
    "id": "dauF4eBmngu3",
    "papermill": {
     "duration": 0.032423,
     "end_time": "2023-03-22T07:51:38.364306",
     "exception": false,
     "start_time": "2023-03-22T07:51:38.331883",
     "status": "completed"
    },
    "tags": []
   },
   "source": [
    "## 3. ***Data Wrangling***"
   ]
  },
  {
   "cell_type": "markdown",
   "id": "fedca8e5",
   "metadata": {
    "id": "bKJF3rekwFvQ",
    "papermill": {
     "duration": 0.032609,
     "end_time": "2023-03-22T07:51:38.429520",
     "exception": false,
     "start_time": "2023-03-22T07:51:38.396911",
     "status": "completed"
    },
    "tags": []
   },
   "source": [
    "### Data Wrangling Code"
   ]
  },
  {
   "cell_type": "code",
   "execution_count": 12,
   "id": "64a8e376",
   "metadata": {
    "execution": {
     "iopub.execute_input": "2023-03-22T07:51:38.497375Z",
     "iopub.status.busy": "2023-03-22T07:51:38.496568Z",
     "iopub.status.idle": "2023-03-22T07:51:38.504002Z",
     "shell.execute_reply": "2023-03-22T07:51:38.503004Z"
    },
    "papermill": {
     "duration": 0.044225,
     "end_time": "2023-03-22T07:51:38.506343",
     "exception": false,
     "start_time": "2023-03-22T07:51:38.462118",
     "status": "completed"
    },
    "tags": []
   },
   "outputs": [],
   "source": [
    "class months_days:\n",
    "    \n",
    "    def months():\n",
    "        return [\"January\", \"February\", \"March\", \"April\", \"May\", \"June\", \"July\", \"August\", \"September\", \"October\", \"November\", \"December\"]\n",
    "    \n",
    "    def days():\n",
    "        return [\"Monday\", \"Tuesday\", \"Wednesday\", \"Thursday\", \"Friday\", \"Saturday\", \"Sunday\"]\n",
    "    \n",
    "    def months_reordered():\n",
    "        \n",
    "        month_order= [months_days.months()[-1]]\n",
    "        month_order.extend(months_days.months()[:-1])\n",
    "        return month_order"
   ]
  },
  {
   "cell_type": "code",
   "execution_count": 13,
   "id": "f8327369",
   "metadata": {
    "execution": {
     "iopub.execute_input": "2023-03-22T07:51:38.575213Z",
     "iopub.status.busy": "2023-03-22T07:51:38.573967Z",
     "iopub.status.idle": "2023-03-22T07:51:38.587920Z",
     "shell.execute_reply": "2023-03-22T07:51:38.586923Z"
    },
    "id": "wk-9a2fpoLcV",
    "papermill": {
     "duration": 0.050728,
     "end_time": "2023-03-22T07:51:38.590234",
     "exception": false,
     "start_time": "2023-03-22T07:51:38.539506",
     "status": "completed"
    },
    "tags": []
   },
   "outputs": [],
   "source": [
    "# Write your code to make your dataset analysis ready.\n",
    "\n",
    "def tweak_hotels_df(hotels_df):\n",
    "    \n",
    "    \"\"\"\n",
    "    cleans and applies optimal datatypes to the dataframe to optimize memory usage\n",
    "    \"\"\"\n",
    "    \n",
    "    \n",
    "    #creating a dict containing the most optimal datatypes pertaining to each column\n",
    "    col_type_dict= {\"lead_time\": \"int32\", \"arrival_date_month\": \"category\", \"stays_in_weekend_nights\": \"int8\", \n",
    "                    \"stays_in_week_nights\": \"int8\", \"adults\": \"int8\", \"babies\": \"int8\", \"meal\": \"category\",\n",
    "                    \"market_segment\": \"category\", \"distribution_channel\": \"category\", \"is_repeated_guest\": \"category\", \n",
    "                    \"previous_cancellations\": \"int8\", \"previous_bookings_not_canceled\": \"int8\",\n",
    "                    \"reserved_room_type\": \"category\", \"assigned_room_type\": \"category\", \"booking_changes\": \"int8\", \n",
    "                    \"deposit_type\": \"category\", \"days_in_waiting_list\": \"int32\", \"customer_type\": \"category\",\n",
    "                    \"required_car_parking_spaces\": \"int8\", \"total_of_special_requests\": \"int8\", \"reservation_status\": \"category\", \n",
    "                    \"reservation_status_date\": \"datetime64[ns]\"}\n",
    "    \n",
    "    #creating a dict containing new and old names of columns\n",
    "    old_new_cols_dict= {\"arrival_date_year\": \"year\", \"arrival_date_month\": \"month\", \"arrival_date_day_of_month\": \"day\"}\n",
    "    #creating a dict containing the month names and the corresponding month number\n",
    "    month_dict= {month: index+1 for index, month in \n",
    "                 enumerate(months_days.months())}\n",
    "    \n",
    "    #creating a list of names of columns that need to be dropped\n",
    "    cols_to_drop= [\"is_canceled\", \"month\", \"year\", \"day\", \"arrival_date_week_number\", \"email\", \"phone-number\", \"credit_card\"]\n",
    "    \n",
    "    return (hotels_df\n",
    "            .loc[hotels_df[\"is_canceled\"]==0] #removing bookings that were cancelled\n",
    "            .astype(col_type_dict) #assigning optimal dtypes            \n",
    "            .rename(columns= old_new_cols_dict) #changing the names of cols with date attributes\n",
    "            .assign(\n",
    "                    #dealing with null values in children, agent, company and country columns\n",
    "                    children= hotels_df[\"children\"].fillna(round(hotels_df[\"children\"].mean(), 0)).astype(\"int8\"),\n",
    "                    agent= hotels_df[\"agent\"].fillna(0).astype(\"int32\").astype(\"category\"),\n",
    "                    company= hotels_df[\"company\"].fillna(0).astype(\"int32\").astype(\"category\"),\n",
    "                    country= hotels_df[\"country\"].fillna(hotels_df[\"country\"].mode()[0]).astype(\"category\"),\n",
    "                    #adding arrival_date column\n",
    "                    month= lambda df_: df_[\"month\"].map(month_dict),\n",
    "                    arrival_date= lambda df_: pd.to_datetime(df_[[\"year\", \"month\",\"day\"]])\n",
    "                   )\n",
    "#             .astype({\"arrival_date\":\"datetime64[ns]\"})\n",
    "            .drop(columns= cols_to_drop) #dropping unnecessary columns\n",
    "            .reset_index(drop= True)\n",
    "           )\n"
   ]
  },
  {
   "cell_type": "code",
   "execution_count": 14,
   "id": "a59334b8",
   "metadata": {
    "execution": {
     "iopub.execute_input": "2023-03-22T07:51:38.659597Z",
     "iopub.status.busy": "2023-03-22T07:51:38.658434Z",
     "iopub.status.idle": "2023-03-22T07:51:38.904753Z",
     "shell.execute_reply": "2023-03-22T07:51:38.903458Z"
    },
    "papermill": {
     "duration": 0.283046,
     "end_time": "2023-03-22T07:51:38.907144",
     "exception": false,
     "start_time": "2023-03-22T07:51:38.624098",
     "status": "completed"
    },
    "tags": []
   },
   "outputs": [
    {
     "data": {
      "text/html": [
       "<div>\n",
       "<style scoped>\n",
       "    .dataframe tbody tr th:only-of-type {\n",
       "        vertical-align: middle;\n",
       "    }\n",
       "\n",
       "    .dataframe tbody tr th {\n",
       "        vertical-align: top;\n",
       "    }\n",
       "\n",
       "    .dataframe thead th {\n",
       "        text-align: right;\n",
       "    }\n",
       "</style>\n",
       "<table border=\"1\" class=\"dataframe\">\n",
       "  <thead>\n",
       "    <tr style=\"text-align: right;\">\n",
       "      <th></th>\n",
       "      <th>hotel</th>\n",
       "      <th>lead_time</th>\n",
       "      <th>stays_in_weekend_nights</th>\n",
       "      <th>stays_in_week_nights</th>\n",
       "      <th>adults</th>\n",
       "      <th>children</th>\n",
       "      <th>babies</th>\n",
       "      <th>meal</th>\n",
       "      <th>country</th>\n",
       "      <th>market_segment</th>\n",
       "      <th>distribution_channel</th>\n",
       "      <th>is_repeated_guest</th>\n",
       "      <th>previous_cancellations</th>\n",
       "      <th>previous_bookings_not_canceled</th>\n",
       "      <th>reserved_room_type</th>\n",
       "      <th>assigned_room_type</th>\n",
       "      <th>booking_changes</th>\n",
       "      <th>deposit_type</th>\n",
       "      <th>agent</th>\n",
       "      <th>company</th>\n",
       "      <th>days_in_waiting_list</th>\n",
       "      <th>customer_type</th>\n",
       "      <th>adr</th>\n",
       "      <th>required_car_parking_spaces</th>\n",
       "      <th>total_of_special_requests</th>\n",
       "      <th>reservation_status</th>\n",
       "      <th>reservation_status_date</th>\n",
       "      <th>name</th>\n",
       "      <th>arrival_date</th>\n",
       "    </tr>\n",
       "  </thead>\n",
       "  <tbody>\n",
       "    <tr>\n",
       "      <th>0</th>\n",
       "      <td>Resort Hotel</td>\n",
       "      <td>342</td>\n",
       "      <td>0</td>\n",
       "      <td>0</td>\n",
       "      <td>2</td>\n",
       "      <td>0</td>\n",
       "      <td>0</td>\n",
       "      <td>BB</td>\n",
       "      <td>PRT</td>\n",
       "      <td>Direct</td>\n",
       "      <td>Direct</td>\n",
       "      <td>0</td>\n",
       "      <td>0</td>\n",
       "      <td>0</td>\n",
       "      <td>C</td>\n",
       "      <td>C</td>\n",
       "      <td>3</td>\n",
       "      <td>No Deposit</td>\n",
       "      <td>0</td>\n",
       "      <td>0</td>\n",
       "      <td>0</td>\n",
       "      <td>Transient</td>\n",
       "      <td>0.0</td>\n",
       "      <td>0</td>\n",
       "      <td>0</td>\n",
       "      <td>Check-Out</td>\n",
       "      <td>2015-07-01</td>\n",
       "      <td>Ernest Barnes</td>\n",
       "      <td>2015-07-01</td>\n",
       "    </tr>\n",
       "    <tr>\n",
       "      <th>1</th>\n",
       "      <td>Resort Hotel</td>\n",
       "      <td>737</td>\n",
       "      <td>0</td>\n",
       "      <td>0</td>\n",
       "      <td>2</td>\n",
       "      <td>0</td>\n",
       "      <td>0</td>\n",
       "      <td>BB</td>\n",
       "      <td>PRT</td>\n",
       "      <td>Direct</td>\n",
       "      <td>Direct</td>\n",
       "      <td>0</td>\n",
       "      <td>0</td>\n",
       "      <td>0</td>\n",
       "      <td>C</td>\n",
       "      <td>C</td>\n",
       "      <td>4</td>\n",
       "      <td>No Deposit</td>\n",
       "      <td>0</td>\n",
       "      <td>0</td>\n",
       "      <td>0</td>\n",
       "      <td>Transient</td>\n",
       "      <td>0.0</td>\n",
       "      <td>0</td>\n",
       "      <td>0</td>\n",
       "      <td>Check-Out</td>\n",
       "      <td>2015-07-01</td>\n",
       "      <td>Andrea Baker</td>\n",
       "      <td>2015-07-01</td>\n",
       "    </tr>\n",
       "    <tr>\n",
       "      <th>2</th>\n",
       "      <td>Resort Hotel</td>\n",
       "      <td>7</td>\n",
       "      <td>0</td>\n",
       "      <td>1</td>\n",
       "      <td>1</td>\n",
       "      <td>0</td>\n",
       "      <td>0</td>\n",
       "      <td>BB</td>\n",
       "      <td>GBR</td>\n",
       "      <td>Direct</td>\n",
       "      <td>Direct</td>\n",
       "      <td>0</td>\n",
       "      <td>0</td>\n",
       "      <td>0</td>\n",
       "      <td>A</td>\n",
       "      <td>C</td>\n",
       "      <td>0</td>\n",
       "      <td>No Deposit</td>\n",
       "      <td>0</td>\n",
       "      <td>0</td>\n",
       "      <td>0</td>\n",
       "      <td>Transient</td>\n",
       "      <td>75.0</td>\n",
       "      <td>0</td>\n",
       "      <td>0</td>\n",
       "      <td>Check-Out</td>\n",
       "      <td>2015-07-02</td>\n",
       "      <td>Rebecca Parker</td>\n",
       "      <td>2015-07-01</td>\n",
       "    </tr>\n",
       "    <tr>\n",
       "      <th>3</th>\n",
       "      <td>Resort Hotel</td>\n",
       "      <td>13</td>\n",
       "      <td>0</td>\n",
       "      <td>1</td>\n",
       "      <td>1</td>\n",
       "      <td>0</td>\n",
       "      <td>0</td>\n",
       "      <td>BB</td>\n",
       "      <td>GBR</td>\n",
       "      <td>Corporate</td>\n",
       "      <td>Corporate</td>\n",
       "      <td>0</td>\n",
       "      <td>0</td>\n",
       "      <td>0</td>\n",
       "      <td>A</td>\n",
       "      <td>A</td>\n",
       "      <td>0</td>\n",
       "      <td>No Deposit</td>\n",
       "      <td>304</td>\n",
       "      <td>0</td>\n",
       "      <td>0</td>\n",
       "      <td>Transient</td>\n",
       "      <td>75.0</td>\n",
       "      <td>0</td>\n",
       "      <td>0</td>\n",
       "      <td>Check-Out</td>\n",
       "      <td>2015-07-02</td>\n",
       "      <td>Laura Murray</td>\n",
       "      <td>2015-07-01</td>\n",
       "    </tr>\n",
       "    <tr>\n",
       "      <th>4</th>\n",
       "      <td>Resort Hotel</td>\n",
       "      <td>14</td>\n",
       "      <td>0</td>\n",
       "      <td>2</td>\n",
       "      <td>2</td>\n",
       "      <td>0</td>\n",
       "      <td>0</td>\n",
       "      <td>BB</td>\n",
       "      <td>GBR</td>\n",
       "      <td>Online TA</td>\n",
       "      <td>TA/TO</td>\n",
       "      <td>0</td>\n",
       "      <td>0</td>\n",
       "      <td>0</td>\n",
       "      <td>A</td>\n",
       "      <td>A</td>\n",
       "      <td>0</td>\n",
       "      <td>No Deposit</td>\n",
       "      <td>240</td>\n",
       "      <td>0</td>\n",
       "      <td>0</td>\n",
       "      <td>Transient</td>\n",
       "      <td>98.0</td>\n",
       "      <td>0</td>\n",
       "      <td>1</td>\n",
       "      <td>Check-Out</td>\n",
       "      <td>2015-07-03</td>\n",
       "      <td>Linda Hines</td>\n",
       "      <td>2015-07-01</td>\n",
       "    </tr>\n",
       "  </tbody>\n",
       "</table>\n",
       "</div>"
      ],
      "text/plain": [
       "          hotel  lead_time  stays_in_weekend_nights  stays_in_week_nights  \\\n",
       "0  Resort Hotel        342                        0                     0   \n",
       "1  Resort Hotel        737                        0                     0   \n",
       "2  Resort Hotel          7                        0                     1   \n",
       "3  Resort Hotel         13                        0                     1   \n",
       "4  Resort Hotel         14                        0                     2   \n",
       "\n",
       "   adults  children  babies meal country market_segment distribution_channel  \\\n",
       "0       2         0       0   BB     PRT         Direct               Direct   \n",
       "1       2         0       0   BB     PRT         Direct               Direct   \n",
       "2       1         0       0   BB     GBR         Direct               Direct   \n",
       "3       1         0       0   BB     GBR      Corporate            Corporate   \n",
       "4       2         0       0   BB     GBR      Online TA                TA/TO   \n",
       "\n",
       "  is_repeated_guest  previous_cancellations  previous_bookings_not_canceled  \\\n",
       "0                 0                       0                               0   \n",
       "1                 0                       0                               0   \n",
       "2                 0                       0                               0   \n",
       "3                 0                       0                               0   \n",
       "4                 0                       0                               0   \n",
       "\n",
       "  reserved_room_type assigned_room_type  booking_changes deposit_type agent  \\\n",
       "0                  C                  C                3   No Deposit     0   \n",
       "1                  C                  C                4   No Deposit     0   \n",
       "2                  A                  C                0   No Deposit     0   \n",
       "3                  A                  A                0   No Deposit   304   \n",
       "4                  A                  A                0   No Deposit   240   \n",
       "\n",
       "  company  days_in_waiting_list customer_type   adr  \\\n",
       "0       0                     0     Transient   0.0   \n",
       "1       0                     0     Transient   0.0   \n",
       "2       0                     0     Transient  75.0   \n",
       "3       0                     0     Transient  75.0   \n",
       "4       0                     0     Transient  98.0   \n",
       "\n",
       "   required_car_parking_spaces  total_of_special_requests reservation_status  \\\n",
       "0                            0                          0          Check-Out   \n",
       "1                            0                          0          Check-Out   \n",
       "2                            0                          0          Check-Out   \n",
       "3                            0                          0          Check-Out   \n",
       "4                            0                          1          Check-Out   \n",
       "\n",
       "  reservation_status_date            name arrival_date  \n",
       "0              2015-07-01   Ernest Barnes   2015-07-01  \n",
       "1              2015-07-01    Andrea Baker   2015-07-01  \n",
       "2              2015-07-02  Rebecca Parker   2015-07-01  \n",
       "3              2015-07-02    Laura Murray   2015-07-01  \n",
       "4              2015-07-03     Linda Hines   2015-07-01  "
      ]
     },
     "execution_count": 14,
     "metadata": {},
     "output_type": "execute_result"
    }
   ],
   "source": [
    "#clesned data\n",
    "hotels= tweak_hotels_df(hotels_df)\n",
    "hotels.head()"
   ]
  },
  {
   "cell_type": "code",
   "execution_count": 15,
   "id": "6600d74f",
   "metadata": {
    "execution": {
     "iopub.execute_input": "2023-03-22T07:51:38.975646Z",
     "iopub.status.busy": "2023-03-22T07:51:38.974484Z",
     "iopub.status.idle": "2023-03-22T07:51:38.980728Z",
     "shell.execute_reply": "2023-03-22T07:51:38.979858Z"
    },
    "papermill": {
     "duration": 0.042666,
     "end_time": "2023-03-22T07:51:38.982896",
     "exception": false,
     "start_time": "2023-03-22T07:51:38.940230",
     "status": "completed"
    },
    "tags": []
   },
   "outputs": [],
   "source": [
    "def get_total_row(df_):\n",
    "    return df_.append({\"index\": \"Total\", \n",
    "                      \"original\": df_[\"original\"].sum(),\n",
    "                      \"tweaked\": df_[\"tweaked\"].sum()}, ignore_index= True)"
   ]
  },
  {
   "cell_type": "code",
   "execution_count": 16,
   "id": "403cec5b",
   "metadata": {
    "execution": {
     "iopub.execute_input": "2023-03-22T07:51:39.051261Z",
     "iopub.status.busy": "2023-03-22T07:51:39.050534Z",
     "iopub.status.idle": "2023-03-22T07:51:39.295084Z",
     "shell.execute_reply": "2023-03-22T07:51:39.293532Z"
    },
    "papermill": {
     "duration": 0.281795,
     "end_time": "2023-03-22T07:51:39.297816",
     "exception": false,
     "start_time": "2023-03-22T07:51:39.016021",
     "status": "completed"
    },
    "tags": []
   },
   "outputs": [
    {
     "name": "stdout",
     "output_type": "stream",
     "text": [
      "%age reduction in memory usage: 89.84\n",
      "other comparisons\n"
     ]
    },
    {
     "data": {
      "text/html": [
       "<div>\n",
       "<style scoped>\n",
       "    .dataframe tbody tr th:only-of-type {\n",
       "        vertical-align: middle;\n",
       "    }\n",
       "\n",
       "    .dataframe tbody tr th {\n",
       "        vertical-align: top;\n",
       "    }\n",
       "\n",
       "    .dataframe thead th {\n",
       "        text-align: right;\n",
       "    }\n",
       "</style>\n",
       "<table border=\"1\" class=\"dataframe\">\n",
       "  <thead>\n",
       "    <tr style=\"text-align: right;\">\n",
       "      <th></th>\n",
       "      <th>original</th>\n",
       "      <th>tweaked</th>\n",
       "      <th>percentage_reduced</th>\n",
       "    </tr>\n",
       "    <tr>\n",
       "      <th>index</th>\n",
       "      <th></th>\n",
       "      <th></th>\n",
       "      <th></th>\n",
       "    </tr>\n",
       "  </thead>\n",
       "  <tbody>\n",
       "    <tr>\n",
       "      <th>Index</th>\n",
       "      <td>128.0</td>\n",
       "      <td>128.0</td>\n",
       "      <td>0.00</td>\n",
       "    </tr>\n",
       "    <tr>\n",
       "      <th>adr</th>\n",
       "      <td>955120.0</td>\n",
       "      <td>601328.0</td>\n",
       "      <td>37.04</td>\n",
       "    </tr>\n",
       "    <tr>\n",
       "      <th>adults</th>\n",
       "      <td>955120.0</td>\n",
       "      <td>75166.0</td>\n",
       "      <td>92.13</td>\n",
       "    </tr>\n",
       "    <tr>\n",
       "      <th>agent</th>\n",
       "      <td>955120.0</td>\n",
       "      <td>161300.0</td>\n",
       "      <td>83.11</td>\n",
       "    </tr>\n",
       "    <tr>\n",
       "      <th>arrival_date</th>\n",
       "      <td>NaN</td>\n",
       "      <td>601328.0</td>\n",
       "      <td>NaN</td>\n",
       "    </tr>\n",
       "    <tr>\n",
       "      <th>arrival_date_day_of_month</th>\n",
       "      <td>955120.0</td>\n",
       "      <td>NaN</td>\n",
       "      <td>NaN</td>\n",
       "    </tr>\n",
       "    <tr>\n",
       "      <th>arrival_date_month</th>\n",
       "      <td>7510011.0</td>\n",
       "      <td>NaN</td>\n",
       "      <td>NaN</td>\n",
       "    </tr>\n",
       "    <tr>\n",
       "      <th>arrival_date_week_number</th>\n",
       "      <td>955120.0</td>\n",
       "      <td>NaN</td>\n",
       "      <td>NaN</td>\n",
       "    </tr>\n",
       "    <tr>\n",
       "      <th>arrival_date_year</th>\n",
       "      <td>955120.0</td>\n",
       "      <td>NaN</td>\n",
       "      <td>NaN</td>\n",
       "    </tr>\n",
       "    <tr>\n",
       "      <th>assigned_room_type</th>\n",
       "      <td>6924620.0</td>\n",
       "      <td>76046.0</td>\n",
       "      <td>98.90</td>\n",
       "    </tr>\n",
       "    <tr>\n",
       "      <th>babies</th>\n",
       "      <td>955120.0</td>\n",
       "      <td>75166.0</td>\n",
       "      <td>92.13</td>\n",
       "    </tr>\n",
       "    <tr>\n",
       "      <th>booking_changes</th>\n",
       "      <td>955120.0</td>\n",
       "      <td>75166.0</td>\n",
       "      <td>92.13</td>\n",
       "    </tr>\n",
       "    <tr>\n",
       "      <th>children</th>\n",
       "      <td>955120.0</td>\n",
       "      <td>75166.0</td>\n",
       "      <td>92.13</td>\n",
       "    </tr>\n",
       "    <tr>\n",
       "      <th>company</th>\n",
       "      <td>955120.0</td>\n",
       "      <td>161452.0</td>\n",
       "      <td>83.10</td>\n",
       "    </tr>\n",
       "    <tr>\n",
       "      <th>country</th>\n",
       "      <td>7148457.0</td>\n",
       "      <td>165119.0</td>\n",
       "      <td>97.69</td>\n",
       "    </tr>\n",
       "    <tr>\n",
       "      <th>credit_card</th>\n",
       "      <td>8715470.0</td>\n",
       "      <td>NaN</td>\n",
       "      <td>NaN</td>\n",
       "    </tr>\n",
       "    <tr>\n",
       "      <th>customer_type</th>\n",
       "      <td>8024100.0</td>\n",
       "      <td>75603.0</td>\n",
       "      <td>99.06</td>\n",
       "    </tr>\n",
       "    <tr>\n",
       "      <th>days_in_waiting_list</th>\n",
       "      <td>955120.0</td>\n",
       "      <td>300664.0</td>\n",
       "      <td>68.52</td>\n",
       "    </tr>\n",
       "    <tr>\n",
       "      <th>deposit_type</th>\n",
       "      <td>7999130.0</td>\n",
       "      <td>75475.0</td>\n",
       "      <td>99.06</td>\n",
       "    </tr>\n",
       "    <tr>\n",
       "      <th>distribution_channel</th>\n",
       "      <td>7443167.0</td>\n",
       "      <td>75655.0</td>\n",
       "      <td>98.98</td>\n",
       "    </tr>\n",
       "    <tr>\n",
       "      <th>email</th>\n",
       "      <td>9457637.0</td>\n",
       "      <td>NaN</td>\n",
       "      <td>NaN</td>\n",
       "    </tr>\n",
       "    <tr>\n",
       "      <th>hotel</th>\n",
       "      <td>8079250.0</td>\n",
       "      <td>5093998.0</td>\n",
       "      <td>36.95</td>\n",
       "    </tr>\n",
       "    <tr>\n",
       "      <th>is_canceled</th>\n",
       "      <td>955120.0</td>\n",
       "      <td>NaN</td>\n",
       "      <td>NaN</td>\n",
       "    </tr>\n",
       "    <tr>\n",
       "      <th>is_repeated_guest</th>\n",
       "      <td>955120.0</td>\n",
       "      <td>75290.0</td>\n",
       "      <td>92.12</td>\n",
       "    </tr>\n",
       "    <tr>\n",
       "      <th>lead_time</th>\n",
       "      <td>955120.0</td>\n",
       "      <td>300664.0</td>\n",
       "      <td>68.52</td>\n",
       "    </tr>\n",
       "    <tr>\n",
       "      <th>market_segment</th>\n",
       "      <td>7882100.0</td>\n",
       "      <td>75929.0</td>\n",
       "      <td>99.04</td>\n",
       "    </tr>\n",
       "    <tr>\n",
       "      <th>meal</th>\n",
       "      <td>7052193.0</td>\n",
       "      <td>75640.0</td>\n",
       "      <td>98.93</td>\n",
       "    </tr>\n",
       "    <tr>\n",
       "      <th>name</th>\n",
       "      <td>8389112.0</td>\n",
       "      <td>5280736.0</td>\n",
       "      <td>37.05</td>\n",
       "    </tr>\n",
       "    <tr>\n",
       "      <th>phone-number</th>\n",
       "      <td>8237910.0</td>\n",
       "      <td>NaN</td>\n",
       "      <td>NaN</td>\n",
       "    </tr>\n",
       "    <tr>\n",
       "      <th>previous_bookings_not_canceled</th>\n",
       "      <td>955120.0</td>\n",
       "      <td>75166.0</td>\n",
       "      <td>92.13</td>\n",
       "    </tr>\n",
       "    <tr>\n",
       "      <th>previous_cancellations</th>\n",
       "      <td>955120.0</td>\n",
       "      <td>75166.0</td>\n",
       "      <td>92.13</td>\n",
       "    </tr>\n",
       "    <tr>\n",
       "      <th>required_car_parking_spaces</th>\n",
       "      <td>955120.0</td>\n",
       "      <td>75166.0</td>\n",
       "      <td>92.13</td>\n",
       "    </tr>\n",
       "    <tr>\n",
       "      <th>reservation_status</th>\n",
       "      <td>7834309.0</td>\n",
       "      <td>75340.0</td>\n",
       "      <td>99.04</td>\n",
       "    </tr>\n",
       "    <tr>\n",
       "      <th>reservation_status_date</th>\n",
       "      <td>7999130.0</td>\n",
       "      <td>601328.0</td>\n",
       "      <td>92.48</td>\n",
       "    </tr>\n",
       "    <tr>\n",
       "      <th>reserved_room_type</th>\n",
       "      <td>6924620.0</td>\n",
       "      <td>75988.0</td>\n",
       "      <td>98.90</td>\n",
       "    </tr>\n",
       "    <tr>\n",
       "      <th>stays_in_week_nights</th>\n",
       "      <td>955120.0</td>\n",
       "      <td>75166.0</td>\n",
       "      <td>92.13</td>\n",
       "    </tr>\n",
       "    <tr>\n",
       "      <th>stays_in_weekend_nights</th>\n",
       "      <td>955120.0</td>\n",
       "      <td>75166.0</td>\n",
       "      <td>92.13</td>\n",
       "    </tr>\n",
       "    <tr>\n",
       "      <th>total_of_special_requests</th>\n",
       "      <td>955120.0</td>\n",
       "      <td>75166.0</td>\n",
       "      <td>92.13</td>\n",
       "    </tr>\n",
       "    <tr>\n",
       "      <th>Total</th>\n",
       "      <td>144723744.0</td>\n",
       "      <td>14700671.0</td>\n",
       "      <td>89.84</td>\n",
       "    </tr>\n",
       "  </tbody>\n",
       "</table>\n",
       "</div>"
      ],
      "text/plain": [
       "                                   original     tweaked  percentage_reduced\n",
       "index                                                                      \n",
       "Index                                 128.0       128.0                0.00\n",
       "adr                                955120.0    601328.0               37.04\n",
       "adults                             955120.0     75166.0               92.13\n",
       "agent                              955120.0    161300.0               83.11\n",
       "arrival_date                            NaN    601328.0                 NaN\n",
       "arrival_date_day_of_month          955120.0         NaN                 NaN\n",
       "arrival_date_month                7510011.0         NaN                 NaN\n",
       "arrival_date_week_number           955120.0         NaN                 NaN\n",
       "arrival_date_year                  955120.0         NaN                 NaN\n",
       "assigned_room_type                6924620.0     76046.0               98.90\n",
       "babies                             955120.0     75166.0               92.13\n",
       "booking_changes                    955120.0     75166.0               92.13\n",
       "children                           955120.0     75166.0               92.13\n",
       "company                            955120.0    161452.0               83.10\n",
       "country                           7148457.0    165119.0               97.69\n",
       "credit_card                       8715470.0         NaN                 NaN\n",
       "customer_type                     8024100.0     75603.0               99.06\n",
       "days_in_waiting_list               955120.0    300664.0               68.52\n",
       "deposit_type                      7999130.0     75475.0               99.06\n",
       "distribution_channel              7443167.0     75655.0               98.98\n",
       "email                             9457637.0         NaN                 NaN\n",
       "hotel                             8079250.0   5093998.0               36.95\n",
       "is_canceled                        955120.0         NaN                 NaN\n",
       "is_repeated_guest                  955120.0     75290.0               92.12\n",
       "lead_time                          955120.0    300664.0               68.52\n",
       "market_segment                    7882100.0     75929.0               99.04\n",
       "meal                              7052193.0     75640.0               98.93\n",
       "name                              8389112.0   5280736.0               37.05\n",
       "phone-number                      8237910.0         NaN                 NaN\n",
       "previous_bookings_not_canceled     955120.0     75166.0               92.13\n",
       "previous_cancellations             955120.0     75166.0               92.13\n",
       "required_car_parking_spaces        955120.0     75166.0               92.13\n",
       "reservation_status                7834309.0     75340.0               99.04\n",
       "reservation_status_date           7999130.0    601328.0               92.48\n",
       "reserved_room_type                6924620.0     75988.0               98.90\n",
       "stays_in_week_nights               955120.0     75166.0               92.13\n",
       "stays_in_weekend_nights            955120.0     75166.0               92.13\n",
       "total_of_special_requests          955120.0     75166.0               92.13\n",
       "Total                           144723744.0  14700671.0               89.84"
      ]
     },
     "execution_count": 16,
     "metadata": {},
     "output_type": "execute_result"
    }
   ],
   "source": [
    "#to check the reduction in memory size of the dataframe\n",
    "memory_usage_original= pd.Series(hotels_df.memory_usage(deep= True), name= \"original\")#.sum()\n",
    "memory_usage_tweaked=  pd.Series(hotels.memory_usage(deep= True), name= \"tweaked\")#.sum()\n",
    "\n",
    "x= (pd\n",
    "    .merge(memory_usage_original, memory_usage_tweaked, left_index= True, right_index= True, how= \"outer\")\n",
    "    .reset_index()\n",
    "    .pipe(get_total_row)\n",
    "    .assign(percentage_reduced= lambda df_: round((df_[\"original\"]- df_[\"tweaked\"])/df_[\"original\"]*100, 2))\n",
    "    .set_index(\"index\")\n",
    "   )\n",
    "# x.loc[\"Total\"] = x.sum()\n",
    "\n",
    "# x[\"check\"]= np.where(x[\"original\"]> x[\"tweaked\"], True, False)   #np.select, np.where\n",
    "# x[\"reduced_by\"]= round((x[\"original\"]- x[\"tweaked\"])/x[\"original\"]*100, 2)\n",
    "\n",
    "\n",
    "print(f\"%age reduction in memory usage: {x.loc['Total', 'percentage_reduced']}\")\n",
    "print(\"other comparisons\")\n",
    "x"
   ]
  },
  {
   "cell_type": "markdown",
   "id": "c6afd67b",
   "metadata": {
    "id": "MSa1f5Uengrz",
    "papermill": {
     "duration": 0.033147,
     "end_time": "2023-03-22T07:51:39.364987",
     "exception": false,
     "start_time": "2023-03-22T07:51:39.331840",
     "status": "completed"
    },
    "tags": []
   },
   "source": [
    "### What all manipulations have you done and insights you found?"
   ]
  },
  {
   "cell_type": "markdown",
   "id": "1d70ded3",
   "metadata": {
    "id": "LbyXE7I1olp8",
    "papermill": {
     "duration": 0.03318,
     "end_time": "2023-03-22T07:51:39.431877",
     "exception": false,
     "start_time": "2023-03-22T07:51:39.398697",
     "status": "completed"
    },
    "tags": []
   },
   "source": [
    "Answer Here."
   ]
  },
  {
   "cell_type": "markdown",
   "id": "8b6f413c",
   "metadata": {
    "id": "GF8Ens_Soomf",
    "papermill": {
     "duration": 0.033318,
     "end_time": "2023-03-22T07:51:39.498485",
     "exception": false,
     "start_time": "2023-03-22T07:51:39.465167",
     "status": "completed"
    },
    "tags": []
   },
   "source": [
    "## ***4. Data Vizualization, Storytelling & Experimenting with charts : Understand the relationships between variables***"
   ]
  },
  {
   "cell_type": "markdown",
   "id": "b2275804",
   "metadata": {
    "papermill": {
     "duration": 0.033059,
     "end_time": "2023-03-22T07:51:39.565028",
     "exception": false,
     "start_time": "2023-03-22T07:51:39.531969",
     "status": "completed"
    },
    "tags": []
   },
   "source": [
    "### Some functions that will come handy later\n"
   ]
  },
  {
   "cell_type": "code",
   "execution_count": 17,
   "id": "867ee87a",
   "metadata": {
    "execution": {
     "iopub.execute_input": "2023-03-22T07:51:39.633679Z",
     "iopub.status.busy": "2023-03-22T07:51:39.633235Z",
     "iopub.status.idle": "2023-03-22T07:51:39.639433Z",
     "shell.execute_reply": "2023-03-22T07:51:39.638056Z"
    },
    "papermill": {
     "duration": 0.043397,
     "end_time": "2023-03-22T07:51:39.641687",
     "exception": false,
     "start_time": "2023-03-22T07:51:39.598290",
     "status": "completed"
    },
    "tags": []
   },
   "outputs": [],
   "source": [
    "def remove_small_segments_func(df_, col, val= 1):\n",
    "    total_size= df_[col].sum()\n",
    "    return df_.drop(df_[df_[col]/total_size*100<= val].index)"
   ]
  },
  {
   "cell_type": "code",
   "execution_count": 18,
   "id": "ec53097a",
   "metadata": {
    "execution": {
     "iopub.execute_input": "2023-03-22T07:51:39.711508Z",
     "iopub.status.busy": "2023-03-22T07:51:39.710802Z",
     "iopub.status.idle": "2023-03-22T07:51:39.715435Z",
     "shell.execute_reply": "2023-03-22T07:51:39.714640Z"
    },
    "papermill": {
     "duration": 0.042102,
     "end_time": "2023-03-22T07:51:39.717559",
     "exception": false,
     "start_time": "2023-03-22T07:51:39.675457",
     "status": "completed"
    },
    "tags": []
   },
   "outputs": [],
   "source": [
    "def remove_unused_categories(df, col):\n",
    "    df.loc[:, col]= df.loc[:, col].cat.remove_unused_categories()\n",
    "    return df"
   ]
  },
  {
   "cell_type": "code",
   "execution_count": 19,
   "id": "0b0d1527",
   "metadata": {
    "execution": {
     "iopub.execute_input": "2023-03-22T07:51:39.789092Z",
     "iopub.status.busy": "2023-03-22T07:51:39.788298Z",
     "iopub.status.idle": "2023-03-22T07:51:39.793694Z",
     "shell.execute_reply": "2023-03-22T07:51:39.792867Z"
    },
    "papermill": {
     "duration": 0.044375,
     "end_time": "2023-03-22T07:51:39.795679",
     "exception": false,
     "start_time": "2023-03-22T07:51:39.751304",
     "status": "completed"
    },
    "tags": []
   },
   "outputs": [],
   "source": [
    "def proportion_func(df_):\n",
    "    total_bookings= df_.loc[:, \"size\"].sum()\n",
    "    return (df_\n",
    "            .assign(proportion= round((df_[\"size\"]/total_bookings)*100, 0).astype(\"int8\"))\n",
    "           )"
   ]
  },
  {
   "cell_type": "code",
   "execution_count": 20,
   "id": "faa0afd4",
   "metadata": {
    "execution": {
     "iopub.execute_input": "2023-03-22T07:51:39.865539Z",
     "iopub.status.busy": "2023-03-22T07:51:39.865101Z",
     "iopub.status.idle": "2023-03-22T07:51:39.870643Z",
     "shell.execute_reply": "2023-03-22T07:51:39.869401Z"
    },
    "papermill": {
     "duration": 0.043197,
     "end_time": "2023-03-22T07:51:39.872962",
     "exception": false,
     "start_time": "2023-03-22T07:51:39.829765",
     "status": "completed"
    },
    "tags": []
   },
   "outputs": [],
   "source": [
    "def get_df(df, name):\n",
    "    globals()[name]= df\n",
    "    return df"
   ]
  },
  {
   "cell_type": "code",
   "execution_count": 21,
   "id": "342d815e",
   "metadata": {
    "execution": {
     "iopub.execute_input": "2023-03-22T07:51:39.942421Z",
     "iopub.status.busy": "2023-03-22T07:51:39.941957Z",
     "iopub.status.idle": "2023-03-22T07:51:39.950644Z",
     "shell.execute_reply": "2023-03-22T07:51:39.949425Z"
    },
    "papermill": {
     "duration": 0.046134,
     "end_time": "2023-03-22T07:51:39.953059",
     "exception": false,
     "start_time": "2023-03-22T07:51:39.906925",
     "status": "completed"
    },
    "tags": []
   },
   "outputs": [],
   "source": [
    "def pareto_df(df, threshold= 80):\n",
    "    \"\"\"\n",
    "    creates a df with proportion column containing all the individual elements <= the threshold value,\n",
    "    and ends with the sum of the remaining\n",
    "    \"\"\"\n",
    "    \n",
    "    total_size= df[\"size\"].sum()\n",
    "    \n",
    "    def customize_df(df_, threshold):\n",
    "        \n",
    "        df_bottom= df_.loc[df_[\"cumperc\"]> threshold]\n",
    "    \n",
    "        return (df_\n",
    "                .loc[df_[\"cumperc\"]<= threshold]\n",
    "                .append(pd.Series(\n",
    "                            [f\"Remaining {len(df_bottom)}\",\n",
    "                             df_bottom[\"size\"].sum(),\n",
    "                             100], index= df_.columns),\n",
    "                        ignore_index= True)\n",
    "        )\n",
    "    \n",
    "    #returning dataframe containing entries with cumperc less than the threshold value and the remaining as one single entry\n",
    "    return (\n",
    "        df\n",
    "        .sort_values(\"size\", ascending= False)\n",
    "        .assign(cumperc= lambda row: round(row[\"size\"].cumsum()/total_size*100, 2))\n",
    "        .reset_index(drop= True)\n",
    "        .pipe(customize_df, threshold)\n",
    "    )"
   ]
  },
  {
   "cell_type": "markdown",
   "id": "3c768c0d",
   "metadata": {
    "id": "0wOQAZs5pc--",
    "papermill": {
     "duration": 0.033588,
     "end_time": "2023-03-22T07:51:40.020564",
     "exception": false,
     "start_time": "2023-03-22T07:51:39.986976",
     "status": "completed"
    },
    "tags": []
   },
   "source": [
    "#### Chart - 1"
   ]
  },
  {
   "cell_type": "code",
   "execution_count": 22,
   "id": "50038c3e",
   "metadata": {
    "execution": {
     "iopub.execute_input": "2023-03-22T07:51:40.091064Z",
     "iopub.status.busy": "2023-03-22T07:51:40.090244Z",
     "iopub.status.idle": "2023-03-22T07:51:40.116799Z",
     "shell.execute_reply": "2023-03-22T07:51:40.115664Z"
    },
    "id": "7v_ESjsspbW7",
    "papermill": {
     "duration": 0.064907,
     "end_time": "2023-03-22T07:51:40.119368",
     "exception": false,
     "start_time": "2023-03-22T07:51:40.054461",
     "status": "completed"
    },
    "tags": []
   },
   "outputs": [
    {
     "data": {
      "text/html": [
       "<div>\n",
       "<style scoped>\n",
       "    .dataframe tbody tr th:only-of-type {\n",
       "        vertical-align: middle;\n",
       "    }\n",
       "\n",
       "    .dataframe tbody tr th {\n",
       "        vertical-align: top;\n",
       "    }\n",
       "\n",
       "    .dataframe thead th {\n",
       "        text-align: right;\n",
       "    }\n",
       "</style>\n",
       "<table border=\"1\" class=\"dataframe\">\n",
       "  <thead>\n",
       "    <tr style=\"text-align: right;\">\n",
       "      <th></th>\n",
       "      <th>agent</th>\n",
       "      <th>size</th>\n",
       "    </tr>\n",
       "  </thead>\n",
       "  <tbody>\n",
       "    <tr>\n",
       "      <th>0</th>\n",
       "      <td>9</td>\n",
       "      <td>18697</td>\n",
       "    </tr>\n",
       "    <tr>\n",
       "      <th>1</th>\n",
       "      <td>240</td>\n",
       "      <td>8438</td>\n",
       "    </tr>\n",
       "    <tr>\n",
       "      <th>2</th>\n",
       "      <td>7</td>\n",
       "      <td>3065</td>\n",
       "    </tr>\n",
       "    <tr>\n",
       "      <th>3</th>\n",
       "      <td>14</td>\n",
       "      <td>2988</td>\n",
       "    </tr>\n",
       "    <tr>\n",
       "      <th>4</th>\n",
       "      <td>250</td>\n",
       "      <td>2357</td>\n",
       "    </tr>\n",
       "    <tr>\n",
       "      <th>5</th>\n",
       "      <td>6</td>\n",
       "      <td>2265</td>\n",
       "    </tr>\n",
       "    <tr>\n",
       "      <th>6</th>\n",
       "      <td>1</td>\n",
       "      <td>1911</td>\n",
       "    </tr>\n",
       "    <tr>\n",
       "      <th>7</th>\n",
       "      <td>28</td>\n",
       "      <td>1556</td>\n",
       "    </tr>\n",
       "    <tr>\n",
       "      <th>8</th>\n",
       "      <td>241</td>\n",
       "      <td>1485</td>\n",
       "    </tr>\n",
       "    <tr>\n",
       "      <th>9</th>\n",
       "      <td>8</td>\n",
       "      <td>1087</td>\n",
       "    </tr>\n",
       "  </tbody>\n",
       "</table>\n",
       "</div>"
      ],
      "text/plain": [
       "  agent   size\n",
       "0     9  18697\n",
       "1   240   8438\n",
       "2     7   3065\n",
       "3    14   2988\n",
       "4   250   2357\n",
       "5     6   2265\n",
       "6     1   1911\n",
       "7    28   1556\n",
       "8   241   1485\n",
       "9     8   1087"
      ]
     },
     "execution_count": 22,
     "metadata": {},
     "output_type": "execute_result"
    }
   ],
   "source": [
    "# Chart - 1 visualization code\n",
    "#find the top 10 agents\n",
    "\n",
    "top_10_agents= (hotels\n",
    "            .loc[hotels[\"agent\"]!= 0]\n",
    "            .groupby(\"agent\",as_index= False, observed= True)\n",
    "            .size()\n",
    "            .sort_values(\"size\", ascending= False, ignore_index= True)\n",
    "#             .reset_index(drop= True)\n",
    "#             .pipe(df_name, \"df\")\n",
    "#             .assign(cumperc= df.apply(lambda row: row[\"size\"].cumsum()/df[\"size\"].sum()*100, axis= 1))\n",
    "#             .drop(df[df[\"size\"]== 0].index)            \n",
    "            .iloc[:10]\n",
    "            .pipe(remove_unused_categories, \"agent\")\n",
    "#             .pipe(df_name, df)\n",
    "#             .assign(agent= df.agent.cat.remove_unused_categories())\n",
    "           )\n",
    "top_10_agents"
   ]
  },
  {
   "cell_type": "code",
   "execution_count": 23,
   "id": "eda271e4",
   "metadata": {
    "execution": {
     "iopub.execute_input": "2023-03-22T07:51:40.255047Z",
     "iopub.status.busy": "2023-03-22T07:51:40.253994Z",
     "iopub.status.idle": "2023-03-22T07:51:40.555188Z",
     "shell.execute_reply": "2023-03-22T07:51:40.554009Z"
    },
    "papermill": {
     "duration": 0.404134,
     "end_time": "2023-03-22T07:51:40.557676",
     "exception": false,
     "start_time": "2023-03-22T07:51:40.153542",
     "status": "completed"
    },
    "tags": []
   },
   "outputs": [
    {
     "data": {
      "image/png": "[encoded data removed]",
      "text/plain": [
       "<Figure size 1000x1000 with 1 Axes>"
      ]
     },
     "metadata": {},
     "output_type": "display_data"
    }
   ],
   "source": [
    "#creating a bar plot to show the top 10 agents based on number of bookings made \n",
    "fig= plt.figure(figsize= (10, 10))\n",
    "\n",
    "sbar= sns.barplot(data= top_10_agents, x= \"agent\", y= \"size\", order= top_10_agents[\"agent\"])\n",
    "\n",
    "plt.title(\"Top 10 Agents(by Number of Bookings)\")\n",
    "plt.xlabel(\"Agent Code\")\n",
    "plt.ylabel(\"Number of Bookings\")\n",
    "plt.show()\n",
    "\n",
    "# agents_df\n",
    "# .loc[agents_df[\"size\"]==0]"
   ]
  },
  {
   "cell_type": "markdown",
   "id": "55b2aee2",
   "metadata": {
    "id": "K5QZ13OEpz2H",
    "papermill": {
     "duration": 0.034186,
     "end_time": "2023-03-22T07:51:40.626937",
     "exception": false,
     "start_time": "2023-03-22T07:51:40.592751",
     "status": "completed"
    },
    "tags": []
   },
   "source": [
    "##### 1. Why did you pick the specific chart?"
   ]
  },
  {
   "cell_type": "markdown",
   "id": "aaf6fe1d",
   "metadata": {
    "id": "XESiWehPqBRc",
    "papermill": {
     "duration": 0.034253,
     "end_time": "2023-03-22T07:51:40.695957",
     "exception": false,
     "start_time": "2023-03-22T07:51:40.661704",
     "status": "completed"
    },
    "tags": []
   },
   "source": [
    "Answer Here."
   ]
  },
  {
   "cell_type": "markdown",
   "id": "3a57e0d3",
   "metadata": {
    "id": "lQ7QKXXCp7Bj",
    "papermill": {
     "duration": 0.034869,
     "end_time": "2023-03-22T07:51:40.765969",
     "exception": false,
     "start_time": "2023-03-22T07:51:40.731100",
     "status": "completed"
    },
    "tags": []
   },
   "source": [
    "##### 2. What is/are the insight(s) found from the chart?"
   ]
  },
  {
   "cell_type": "markdown",
   "id": "083b938f",
   "metadata": {
    "id": "C_j1G7yiqdRP",
    "papermill": {
     "duration": 0.034977,
     "end_time": "2023-03-22T07:51:40.836009",
     "exception": false,
     "start_time": "2023-03-22T07:51:40.801032",
     "status": "completed"
    },
    "tags": []
   },
   "source": [
    "Answer Here"
   ]
  },
  {
   "cell_type": "markdown",
   "id": "1f346363",
   "metadata": {
    "id": "448CDAPjqfQr",
    "papermill": {
     "duration": 0.034913,
     "end_time": "2023-03-22T07:51:40.906029",
     "exception": false,
     "start_time": "2023-03-22T07:51:40.871116",
     "status": "completed"
    },
    "tags": []
   },
   "source": [
    "##### 3. Will the gained insights help creating a positive business impact? \n",
    "Are there any insights that lead to negative growth? Justify with specific reason."
   ]
  },
  {
   "cell_type": "markdown",
   "id": "5aa10e33",
   "metadata": {
    "id": "3cspy4FjqxJW",
    "papermill": {
     "duration": 0.03433,
     "end_time": "2023-03-22T07:51:40.975559",
     "exception": false,
     "start_time": "2023-03-22T07:51:40.941229",
     "status": "completed"
    },
    "tags": []
   },
   "source": [
    "Answer Here"
   ]
  },
  {
   "cell_type": "markdown",
   "id": "e86cbace",
   "metadata": {
    "id": "KSlN3yHqYklG",
    "papermill": {
     "duration": 0.034616,
     "end_time": "2023-03-22T07:51:41.044927",
     "exception": false,
     "start_time": "2023-03-22T07:51:41.010311",
     "status": "completed"
    },
    "tags": []
   },
   "source": [
    "#### Chart - 2"
   ]
  },
  {
   "cell_type": "code",
   "execution_count": 24,
   "id": "d9cd1db7",
   "metadata": {
    "execution": {
     "iopub.execute_input": "2023-03-22T07:51:41.116828Z",
     "iopub.status.busy": "2023-03-22T07:51:41.115610Z",
     "iopub.status.idle": "2023-03-22T07:51:41.150519Z",
     "shell.execute_reply": "2023-03-22T07:51:41.149345Z"
    },
    "id": "R4YgtaqtYklH",
    "papermill": {
     "duration": 0.07357,
     "end_time": "2023-03-22T07:51:41.153114",
     "exception": false,
     "start_time": "2023-03-22T07:51:41.079544",
     "status": "completed"
    },
    "tags": []
   },
   "outputs": [
    {
     "data": {
      "text/html": [
       "<div>\n",
       "<style scoped>\n",
       "    .dataframe tbody tr th:only-of-type {\n",
       "        vertical-align: middle;\n",
       "    }\n",
       "\n",
       "    .dataframe tbody tr th {\n",
       "        vertical-align: top;\n",
       "    }\n",
       "\n",
       "    .dataframe thead th {\n",
       "        text-align: right;\n",
       "    }\n",
       "</style>\n",
       "<table border=\"1\" class=\"dataframe\">\n",
       "  <thead>\n",
       "    <tr style=\"text-align: right;\">\n",
       "      <th></th>\n",
       "      <th>agent</th>\n",
       "      <th>size</th>\n",
       "      <th>cumperc</th>\n",
       "    </tr>\n",
       "  </thead>\n",
       "  <tbody>\n",
       "    <tr>\n",
       "      <th>0</th>\n",
       "      <td>9</td>\n",
       "      <td>18697</td>\n",
       "      <td>29.75</td>\n",
       "    </tr>\n",
       "    <tr>\n",
       "      <th>1</th>\n",
       "      <td>240</td>\n",
       "      <td>8438</td>\n",
       "      <td>43.17</td>\n",
       "    </tr>\n",
       "    <tr>\n",
       "      <th>2</th>\n",
       "      <td>7</td>\n",
       "      <td>3065</td>\n",
       "      <td>48.05</td>\n",
       "    </tr>\n",
       "    <tr>\n",
       "      <th>3</th>\n",
       "      <td>14</td>\n",
       "      <td>2988</td>\n",
       "      <td>52.80</td>\n",
       "    </tr>\n",
       "    <tr>\n",
       "      <th>4</th>\n",
       "      <td>250</td>\n",
       "      <td>2357</td>\n",
       "      <td>56.55</td>\n",
       "    </tr>\n",
       "    <tr>\n",
       "      <th>5</th>\n",
       "      <td>6</td>\n",
       "      <td>2265</td>\n",
       "      <td>60.15</td>\n",
       "    </tr>\n",
       "    <tr>\n",
       "      <th>6</th>\n",
       "      <td>1</td>\n",
       "      <td>1911</td>\n",
       "      <td>63.19</td>\n",
       "    </tr>\n",
       "    <tr>\n",
       "      <th>7</th>\n",
       "      <td>28</td>\n",
       "      <td>1556</td>\n",
       "      <td>65.67</td>\n",
       "    </tr>\n",
       "    <tr>\n",
       "      <th>8</th>\n",
       "      <td>241</td>\n",
       "      <td>1485</td>\n",
       "      <td>68.03</td>\n",
       "    </tr>\n",
       "    <tr>\n",
       "      <th>9</th>\n",
       "      <td>8</td>\n",
       "      <td>1087</td>\n",
       "      <td>69.76</td>\n",
       "    </tr>\n",
       "    <tr>\n",
       "      <th>10</th>\n",
       "      <td>40</td>\n",
       "      <td>955</td>\n",
       "      <td>71.28</td>\n",
       "    </tr>\n",
       "    <tr>\n",
       "      <th>11</th>\n",
       "      <td>314</td>\n",
       "      <td>764</td>\n",
       "      <td>72.50</td>\n",
       "    </tr>\n",
       "    <tr>\n",
       "      <th>12</th>\n",
       "      <td>3</td>\n",
       "      <td>565</td>\n",
       "      <td>73.39</td>\n",
       "    </tr>\n",
       "    <tr>\n",
       "      <th>13</th>\n",
       "      <td>242</td>\n",
       "      <td>520</td>\n",
       "      <td>74.22</td>\n",
       "    </tr>\n",
       "    <tr>\n",
       "      <th>14</th>\n",
       "      <td>37</td>\n",
       "      <td>513</td>\n",
       "      <td>75.04</td>\n",
       "    </tr>\n",
       "    <tr>\n",
       "      <th>15</th>\n",
       "      <td>83</td>\n",
       "      <td>507</td>\n",
       "      <td>75.84</td>\n",
       "    </tr>\n",
       "    <tr>\n",
       "      <th>16</th>\n",
       "      <td>243</td>\n",
       "      <td>486</td>\n",
       "      <td>76.62</td>\n",
       "    </tr>\n",
       "    <tr>\n",
       "      <th>17</th>\n",
       "      <td>85</td>\n",
       "      <td>444</td>\n",
       "      <td>77.32</td>\n",
       "    </tr>\n",
       "    <tr>\n",
       "      <th>18</th>\n",
       "      <td>171</td>\n",
       "      <td>435</td>\n",
       "      <td>78.02</td>\n",
       "    </tr>\n",
       "    <tr>\n",
       "      <th>19</th>\n",
       "      <td>27</td>\n",
       "      <td>405</td>\n",
       "      <td>78.66</td>\n",
       "    </tr>\n",
       "    <tr>\n",
       "      <th>20</th>\n",
       "      <td>21</td>\n",
       "      <td>369</td>\n",
       "      <td>79.25</td>\n",
       "    </tr>\n",
       "    <tr>\n",
       "      <th>21</th>\n",
       "      <td>22</td>\n",
       "      <td>337</td>\n",
       "      <td>79.78</td>\n",
       "    </tr>\n",
       "    <tr>\n",
       "      <th>22</th>\n",
       "      <td>Remaining 292</td>\n",
       "      <td>12707</td>\n",
       "      <td>100.00</td>\n",
       "    </tr>\n",
       "  </tbody>\n",
       "</table>\n",
       "</div>"
      ],
      "text/plain": [
       "            agent   size  cumperc\n",
       "0               9  18697    29.75\n",
       "1             240   8438    43.17\n",
       "2               7   3065    48.05\n",
       "3              14   2988    52.80\n",
       "4             250   2357    56.55\n",
       "5               6   2265    60.15\n",
       "6               1   1911    63.19\n",
       "7              28   1556    65.67\n",
       "8             241   1485    68.03\n",
       "9               8   1087    69.76\n",
       "10             40    955    71.28\n",
       "11            314    764    72.50\n",
       "12              3    565    73.39\n",
       "13            242    520    74.22\n",
       "14             37    513    75.04\n",
       "15             83    507    75.84\n",
       "16            243    486    76.62\n",
       "17             85    444    77.32\n",
       "18            171    435    78.02\n",
       "19             27    405    78.66\n",
       "20             21    369    79.25\n",
       "21             22    337    79.78\n",
       "22  Remaining 292  12707   100.00"
      ]
     },
     "execution_count": 24,
     "metadata": {},
     "output_type": "execute_result"
    }
   ],
   "source": [
    "# Chart - 2 visualization code\n",
    "\n",
    "#creating a dataframe with cumperc column for the pareto chart\n",
    "\n",
    "agents= (\n",
    "    hotels\n",
    "    .loc[hotels[\"agent\"]!= 0]#.copy()\n",
    "    .groupby(\"agent\",as_index= False, observed= True)\n",
    "    .size()\n",
    "    .sort_values(\"size\", ascending= False)\n",
    "    .reset_index(drop= True)\n",
    "#             .pipe(df_name, \"df\")\n",
    "#             .assign(cumperc= df.apply(lambda row: row[\"size\"].cumsum()/df[\"size\"].sum()*100, axis= 1))\n",
    "#             .drop(df[df[\"size\"]== 0].index)            \n",
    "    .pipe(pareto_df, threshold= 80)\n",
    "#             .pipe(df_name, df)\n",
    "#             .assign(agent= df.agent.cat.remove_unused_categories())\n",
    "#     .astype({\"agent\": \"category\"})\n",
    ")\n",
    "agents"
   ]
  },
  {
   "cell_type": "code",
   "execution_count": 25,
   "id": "a9d5cd28",
   "metadata": {
    "execution": {
     "iopub.execute_input": "2023-03-22T07:51:41.226363Z",
     "iopub.status.busy": "2023-03-22T07:51:41.225523Z",
     "iopub.status.idle": "2023-03-22T07:51:42.177067Z",
     "shell.execute_reply": "2023-03-22T07:51:42.175748Z"
    },
    "papermill": {
     "duration": 0.990975,
     "end_time": "2023-03-22T07:51:42.179652",
     "exception": false,
     "start_time": "2023-03-22T07:51:41.188677",
     "status": "completed"
    },
    "tags": []
   },
   "outputs": [
    {
     "data": {
      "image/png": "[encoded data removed]",
      "text/plain": [
       "<Figure size 3000x1000 with 2 Axes>"
      ]
     },
     "metadata": {},
     "output_type": "display_data"
    }
   ],
   "source": [
    "#pareto chart\n",
    "fig, ax= plt.subplots(figsize= (30, 10), sharex= True)\n",
    "\n",
    "#plotting the count of bookings of agents as a bar plot\n",
    "sbar= sns.barplot(data= agents, x= \"agent\", y=  \"size\", color= \"blue\", ax= ax)\n",
    "\n",
    "#customising the bar plot by adding bar labels, rotating and enlarging the xticks\n",
    "plt.bar_label(sbar.containers[0], fontsize= 15)\n",
    "plt.xticks(rotation= 45, fontsize= 15, horizontalalignment= \"right\")\n",
    "plt.xlabel(\"Agent Code\", fontsize= 20)\n",
    "\n",
    "#customising the primary y axis\n",
    "plt.yticks(fontsize= 15)\n",
    "ax.set_ylabel(\"Number of Bookings\", fontsize= 20)\n",
    "\n",
    "#aligning the first and last bars near to the edges\n",
    "ax.set_xmargin(0.005)\n",
    "\n",
    "\n",
    "#plotting the cumulative percentage of bookings for agents as a line plot\n",
    "ax2= ax.twinx()\n",
    "ax2.plot(agents[\"cumperc\"], color=\"red\", marker=\"o\")\n",
    "\n",
    "#customising the secondary y axis\n",
    "ax2.yaxis.set_major_formatter(PercentFormatter())\n",
    "ax2.tick_params(labelsize= 15)\n",
    "ax2.set_ylabel(\"Cumulative %age of Bookings\", fontsize= 20)\n",
    "\n",
    "\n",
    "\n",
    "#adding a grey area encapsulating the agents that constitute 80% of the sales\n",
    "# threshold = 80\n",
    "# agents_df_pareto[\"bar_cumperc\"] = agents_df_pareto['cumperc'] - agents_df_pareto['cumperc'][0] + agents_df_pareto['size'][0]\n",
    "# idx80 = (agents_df_pareto['cumperc'] >= threshold).idxmax()\n",
    "\n",
    "# ax2.fill_between(agents_df_pareto['agent'][:idx80+1], 0, agents_df_pareto['cumperc'][:idx80+1],\n",
    "#                  facecolor='grey', alpha=0.3)\n",
    "\n",
    "plt.show()\n",
    "\n",
    "\n",
    "####work on the aesthetics of the chart"
   ]
  },
  {
   "cell_type": "markdown",
   "id": "23aba6ae",
   "metadata": {
    "id": "t6dVpIINYklI",
    "papermill": {
     "duration": 0.037244,
     "end_time": "2023-03-22T07:51:42.254958",
     "exception": false,
     "start_time": "2023-03-22T07:51:42.217714",
     "status": "completed"
    },
    "tags": []
   },
   "source": [
    "##### 1. Why did you pick the specific chart?"
   ]
  },
  {
   "cell_type": "markdown",
   "id": "b2fc2d8c",
   "metadata": {
    "id": "5aaW0BYyYklI",
    "papermill": {
     "duration": 0.037129,
     "end_time": "2023-03-22T07:51:42.330419",
     "exception": false,
     "start_time": "2023-03-22T07:51:42.293290",
     "status": "completed"
    },
    "tags": []
   },
   "source": [
    "Answer Here."
   ]
  },
  {
   "cell_type": "markdown",
   "id": "a1c51bc7",
   "metadata": {
    "id": "ijmpgYnKYklI",
    "papermill": {
     "duration": 0.037261,
     "end_time": "2023-03-22T07:51:42.405543",
     "exception": false,
     "start_time": "2023-03-22T07:51:42.368282",
     "status": "completed"
    },
    "tags": []
   },
   "source": [
    "##### 2. What is/are the insight(s) found from the chart?"
   ]
  },
  {
   "cell_type": "markdown",
   "id": "f65d1263",
   "metadata": {
    "id": "PSx9atu2YklI",
    "papermill": {
     "duration": 0.036974,
     "end_time": "2023-03-22T07:51:42.480512",
     "exception": false,
     "start_time": "2023-03-22T07:51:42.443538",
     "status": "completed"
    },
    "tags": []
   },
   "source": [
    "Answer Here"
   ]
  },
  {
   "cell_type": "markdown",
   "id": "8bab4040",
   "metadata": {
    "id": "-JiQyfWJYklI",
    "papermill": {
     "duration": 0.037195,
     "end_time": "2023-03-22T07:51:42.555342",
     "exception": false,
     "start_time": "2023-03-22T07:51:42.518147",
     "status": "completed"
    },
    "tags": []
   },
   "source": [
    "##### 3. Will the gained insights help creating a positive business impact? \n",
    "Are there any insights that lead to negative growth? Justify with specific reason."
   ]
  },
  {
   "cell_type": "markdown",
   "id": "36aaad2d",
   "metadata": {
    "id": "BcBbebzrYklV",
    "papermill": {
     "duration": 0.036961,
     "end_time": "2023-03-22T07:51:42.630295",
     "exception": false,
     "start_time": "2023-03-22T07:51:42.593334",
     "status": "completed"
    },
    "tags": []
   },
   "source": [
    "Answer Here"
   ]
  },
  {
   "cell_type": "markdown",
   "id": "9c91d0d9",
   "metadata": {
    "id": "EM7whBJCYoAo",
    "papermill": {
     "duration": 0.038345,
     "end_time": "2023-03-22T07:51:42.706774",
     "exception": false,
     "start_time": "2023-03-22T07:51:42.668429",
     "status": "completed"
    },
    "tags": []
   },
   "source": [
    "#### Chart - 3"
   ]
  },
  {
   "cell_type": "code",
   "execution_count": 26,
   "id": "4bc248b9",
   "metadata": {
    "execution": {
     "iopub.execute_input": "2023-03-22T07:51:42.784601Z",
     "iopub.status.busy": "2023-03-22T07:51:42.784148Z",
     "iopub.status.idle": "2023-03-22T07:51:42.803051Z",
     "shell.execute_reply": "2023-03-22T07:51:42.801923Z"
    },
    "id": "t6GMdE67YoAp",
    "papermill": {
     "duration": 0.06057,
     "end_time": "2023-03-22T07:51:42.805410",
     "exception": false,
     "start_time": "2023-03-22T07:51:42.744840",
     "status": "completed"
    },
    "tags": []
   },
   "outputs": [
    {
     "data": {
      "text/html": [
       "<div>\n",
       "<style scoped>\n",
       "    .dataframe tbody tr th:only-of-type {\n",
       "        vertical-align: middle;\n",
       "    }\n",
       "\n",
       "    .dataframe tbody tr th {\n",
       "        vertical-align: top;\n",
       "    }\n",
       "\n",
       "    .dataframe thead th {\n",
       "        text-align: right;\n",
       "    }\n",
       "</style>\n",
       "<table border=\"1\" class=\"dataframe\">\n",
       "  <thead>\n",
       "    <tr style=\"text-align: right;\">\n",
       "      <th></th>\n",
       "      <th>company</th>\n",
       "      <th>size</th>\n",
       "    </tr>\n",
       "  </thead>\n",
       "  <tbody>\n",
       "    <tr>\n",
       "      <th>0</th>\n",
       "      <td>40</td>\n",
       "      <td>850</td>\n",
       "    </tr>\n",
       "    <tr>\n",
       "      <th>1</th>\n",
       "      <td>223</td>\n",
       "      <td>665</td>\n",
       "    </tr>\n",
       "    <tr>\n",
       "      <th>2</th>\n",
       "      <td>45</td>\n",
       "      <td>222</td>\n",
       "    </tr>\n",
       "    <tr>\n",
       "      <th>3</th>\n",
       "      <td>153</td>\n",
       "      <td>167</td>\n",
       "    </tr>\n",
       "    <tr>\n",
       "      <th>4</th>\n",
       "      <td>219</td>\n",
       "      <td>132</td>\n",
       "    </tr>\n",
       "    <tr>\n",
       "      <th>5</th>\n",
       "      <td>154</td>\n",
       "      <td>128</td>\n",
       "    </tr>\n",
       "    <tr>\n",
       "      <th>6</th>\n",
       "      <td>174</td>\n",
       "      <td>128</td>\n",
       "    </tr>\n",
       "    <tr>\n",
       "      <th>7</th>\n",
       "      <td>281</td>\n",
       "      <td>121</td>\n",
       "    </tr>\n",
       "    <tr>\n",
       "      <th>8</th>\n",
       "      <td>233</td>\n",
       "      <td>103</td>\n",
       "    </tr>\n",
       "    <tr>\n",
       "      <th>9</th>\n",
       "      <td>405</td>\n",
       "      <td>101</td>\n",
       "    </tr>\n",
       "  </tbody>\n",
       "</table>\n",
       "</div>"
      ],
      "text/plain": [
       "  company  size\n",
       "0      40   850\n",
       "1     223   665\n",
       "2      45   222\n",
       "3     153   167\n",
       "4     219   132\n",
       "5     154   128\n",
       "6     174   128\n",
       "7     281   121\n",
       "8     233   103\n",
       "9     405   101"
      ]
     },
     "execution_count": 26,
     "metadata": {},
     "output_type": "execute_result"
    }
   ],
   "source": [
    "# Chart - 3 visualization code\n",
    "\n",
    "#find the top 10 companies\n",
    "\n",
    "companies= (\n",
    "    hotels\n",
    "    .loc[hotels[\"company\"]!= 0]#.copy()\n",
    "    .groupby(\"company\", as_index= False, observed= True)\n",
    "    .size()\n",
    "    .sort_values(\"size\", ascending= False, ignore_index= True)\n",
    "#     .agg(total_revenue_generated= (\"adr\", np.sum), \n",
    "#          avg_revenue_generated= (\"adr\", np.mean), \n",
    "#          size= (\"hotel\", np.count))\n",
    "#     .dropna()\n",
    "    .iloc[:10]\n",
    "    .pipe(remove_unused_categories, \"company\")\n",
    ")\n",
    "\n",
    "companies"
   ]
  },
  {
   "cell_type": "code",
   "execution_count": 27,
   "id": "7a8c3091",
   "metadata": {
    "execution": {
     "iopub.execute_input": "2023-03-22T07:51:42.884775Z",
     "iopub.status.busy": "2023-03-22T07:51:42.884307Z",
     "iopub.status.idle": "2023-03-22T07:51:43.191617Z",
     "shell.execute_reply": "2023-03-22T07:51:43.190389Z"
    },
    "id": "t6GMdE67YoAp",
    "papermill": {
     "duration": 0.350244,
     "end_time": "2023-03-22T07:51:43.194477",
     "exception": false,
     "start_time": "2023-03-22T07:51:42.844233",
     "status": "completed"
    },
    "tags": []
   },
   "outputs": [
    {
     "data": {
      "image/png": "[encoded data removed]",
      "text/plain": [
       "<Figure size 1000x1000 with 1 Axes>"
      ]
     },
     "metadata": {},
     "output_type": "display_data"
    }
   ],
   "source": [
    "# color_palette= sns.color_palette(\"viridis_r\")\n",
    "\n",
    "fig= plt.figure(figsize= (10, 10))\n",
    "sns.barplot(data= companies, x= \"company\", y= \"size\", order= companies[\"company\"])\n",
    "\n",
    "#aesthetics\n",
    "plt.xlabel(\"Company\", fontsize= 15)\n",
    "plt.ylabel(\"Number of Bookings\", fontsize= 15)\n",
    "plt.title(\"Top 10 Companies( by Number of Bookings)\", fontsize= 20)\n",
    "plt.show()"
   ]
  },
  {
   "cell_type": "markdown",
   "id": "c416afbc",
   "metadata": {
    "id": "fge-S5ZAYoAp",
    "papermill": {
     "duration": 0.038357,
     "end_time": "2023-03-22T07:51:43.271911",
     "exception": false,
     "start_time": "2023-03-22T07:51:43.233554",
     "status": "completed"
    },
    "tags": []
   },
   "source": [
    "##### 1. Why did you pick the specific chart?"
   ]
  },
  {
   "cell_type": "markdown",
   "id": "00b3c8ef",
   "metadata": {
    "id": "5dBItgRVYoAp",
    "papermill": {
     "duration": 0.037503,
     "end_time": "2023-03-22T07:51:43.347347",
     "exception": false,
     "start_time": "2023-03-22T07:51:43.309844",
     "status": "completed"
    },
    "tags": []
   },
   "source": [
    "Answer Here."
   ]
  },
  {
   "cell_type": "markdown",
   "id": "d8cb948e",
   "metadata": {
    "id": "85gYPyotYoAp",
    "papermill": {
     "duration": 0.037616,
     "end_time": "2023-03-22T07:51:43.422943",
     "exception": false,
     "start_time": "2023-03-22T07:51:43.385327",
     "status": "completed"
    },
    "tags": []
   },
   "source": [
    "##### 2. What is/are the insight(s) found from the chart?"
   ]
  },
  {
   "cell_type": "markdown",
   "id": "c33f7e52",
   "metadata": {
    "id": "4jstXR6OYoAp",
    "papermill": {
     "duration": 0.038516,
     "end_time": "2023-03-22T07:51:43.499386",
     "exception": false,
     "start_time": "2023-03-22T07:51:43.460870",
     "status": "completed"
    },
    "tags": []
   },
   "source": [
    "Answer Here"
   ]
  },
  {
   "cell_type": "markdown",
   "id": "68234298",
   "metadata": {
    "id": "RoGjAbkUYoAp",
    "papermill": {
     "duration": 0.038696,
     "end_time": "2023-03-22T07:51:43.577148",
     "exception": false,
     "start_time": "2023-03-22T07:51:43.538452",
     "status": "completed"
    },
    "tags": []
   },
   "source": [
    "##### 3. Will the gained insights help creating a positive business impact? \n",
    "Are there any insights that lead to negative growth? Justify with specific reason."
   ]
  },
  {
   "cell_type": "markdown",
   "id": "5999a707",
   "metadata": {
    "id": "zfJ8IqMcYoAp",
    "papermill": {
     "duration": 0.038724,
     "end_time": "2023-03-22T07:51:43.654817",
     "exception": false,
     "start_time": "2023-03-22T07:51:43.616093",
     "status": "completed"
    },
    "tags": []
   },
   "source": [
    "Answer Here"
   ]
  },
  {
   "cell_type": "markdown",
   "id": "04e4a833",
   "metadata": {
    "id": "4Of9eVA-YrdM",
    "papermill": {
     "duration": 0.037929,
     "end_time": "2023-03-22T07:51:43.732363",
     "exception": false,
     "start_time": "2023-03-22T07:51:43.694434",
     "status": "completed"
    },
    "tags": []
   },
   "source": [
    "#### Chart - 4"
   ]
  },
  {
   "cell_type": "code",
   "execution_count": 28,
   "id": "672e8d0f",
   "metadata": {
    "execution": {
     "iopub.execute_input": "2023-03-22T07:51:43.811688Z",
     "iopub.status.busy": "2023-03-22T07:51:43.811257Z",
     "iopub.status.idle": "2023-03-22T07:51:43.826868Z",
     "shell.execute_reply": "2023-03-22T07:51:43.826014Z"
    },
    "id": "irlUoxc8YrdO",
    "papermill": {
     "duration": 0.057642,
     "end_time": "2023-03-22T07:51:43.829044",
     "exception": false,
     "start_time": "2023-03-22T07:51:43.771402",
     "status": "completed"
    },
    "tags": []
   },
   "outputs": [
    {
     "data": {
      "text/html": [
       "<div>\n",
       "<style scoped>\n",
       "    .dataframe tbody tr th:only-of-type {\n",
       "        vertical-align: middle;\n",
       "    }\n",
       "\n",
       "    .dataframe tbody tr th {\n",
       "        vertical-align: top;\n",
       "    }\n",
       "\n",
       "    .dataframe thead th {\n",
       "        text-align: right;\n",
       "    }\n",
       "</style>\n",
       "<table border=\"1\" class=\"dataframe\">\n",
       "  <thead>\n",
       "    <tr style=\"text-align: right;\">\n",
       "      <th></th>\n",
       "      <th>market_segment</th>\n",
       "      <th>size</th>\n",
       "    </tr>\n",
       "  </thead>\n",
       "  <tbody>\n",
       "    <tr>\n",
       "      <th>0</th>\n",
       "      <td>Corporate</td>\n",
       "      <td>4303</td>\n",
       "    </tr>\n",
       "    <tr>\n",
       "      <th>1</th>\n",
       "      <td>Direct</td>\n",
       "      <td>10672</td>\n",
       "    </tr>\n",
       "    <tr>\n",
       "      <th>2</th>\n",
       "      <td>Groups</td>\n",
       "      <td>7714</td>\n",
       "    </tr>\n",
       "    <tr>\n",
       "      <th>3</th>\n",
       "      <td>Offline TA/TO</td>\n",
       "      <td>15908</td>\n",
       "    </tr>\n",
       "    <tr>\n",
       "      <th>4</th>\n",
       "      <td>Online TA</td>\n",
       "      <td>35738</td>\n",
       "    </tr>\n",
       "  </tbody>\n",
       "</table>\n",
       "</div>"
      ],
      "text/plain": [
       "  market_segment   size\n",
       "0      Corporate   4303\n",
       "1         Direct  10672\n",
       "2         Groups   7714\n",
       "3  Offline TA/TO  15908\n",
       "4      Online TA  35738"
      ]
     },
     "execution_count": 28,
     "metadata": {},
     "output_type": "execute_result"
    }
   ],
   "source": [
    "# Chart - 4 visualization code\n",
    "\n",
    "#Bookings by Market Segment(Pie Chart)\n",
    "market_seg= (hotels\n",
    "             .groupby(\"market_segment\", as_index= False)\n",
    "             .size()\n",
    "             .pipe(remove_small_segments_func, \"size\")\n",
    "             .reset_index(drop= True)\n",
    "            )\n",
    "market_seg\n",
    "#removing market segments with low market share for aesthetic reasons\n",
    "# total_market_size= sum(market_seg_df[\"size\"])\n",
    "# market_seg_df= market_seg_df.drop(market_seg_df[market_seg_df[\"size\"]/total_market_size*100<=1].index)\n",
    "\n",
    "# market_seg_df= market_seg_df.reindex([0, 2, 1, 3, 7, 4, 5, 6])"
   ]
  },
  {
   "cell_type": "code",
   "execution_count": 29,
   "id": "48bf67ac",
   "metadata": {
    "execution": {
     "iopub.execute_input": "2023-03-22T07:51:43.909496Z",
     "iopub.status.busy": "2023-03-22T07:51:43.909061Z",
     "iopub.status.idle": "2023-03-22T07:51:44.086391Z",
     "shell.execute_reply": "2023-03-22T07:51:44.085089Z"
    },
    "papermill": {
     "duration": 0.221541,
     "end_time": "2023-03-22T07:51:44.089882",
     "exception": false,
     "start_time": "2023-03-22T07:51:43.868341",
     "status": "completed"
    },
    "tags": []
   },
   "outputs": [
    {
     "data": {
      "image/png": "[encoded data removed]",
      "text/plain": [
       "<Figure size 640x480 with 1 Axes>"
      ]
     },
     "metadata": {},
     "output_type": "display_data"
    }
   ],
   "source": [
    "#pie chart\n",
    "color_palette= sns.color_palette(\"viridis_r\")\n",
    "\n",
    "fig= plt.figure()\n",
    "explode= [0.05]*len(market_seg)\n",
    "plt.pie(x= market_seg[\"size\"], labels= market_seg[\"market_segment\"], autopct= '%1.1f%%', explode= explode, colors= color_palette, shadow= True)\n",
    "plt.title(\"Bookings by Market Segment\")\n",
    "# plt.legend(title= \"Market Segment\")\n",
    "# plt.tight_layout()\n",
    "plt.show()"
   ]
  },
  {
   "cell_type": "markdown",
   "id": "327bbb1e",
   "metadata": {
    "id": "iky9q4vBYrdO",
    "papermill": {
     "duration": 0.038556,
     "end_time": "2023-03-22T07:51:44.185501",
     "exception": false,
     "start_time": "2023-03-22T07:51:44.146945",
     "status": "completed"
    },
    "tags": []
   },
   "source": [
    "##### 1. Why did you pick the specific chart?"
   ]
  },
  {
   "cell_type": "markdown",
   "id": "79236cc4",
   "metadata": {
    "id": "aJRCwT6DYrdO",
    "papermill": {
     "duration": 0.042317,
     "end_time": "2023-03-22T07:51:44.267538",
     "exception": false,
     "start_time": "2023-03-22T07:51:44.225221",
     "status": "completed"
    },
    "tags": []
   },
   "source": [
    "Answer Here."
   ]
  },
  {
   "cell_type": "markdown",
   "id": "a1f504b7",
   "metadata": {
    "id": "F6T5p64dYrdO",
    "papermill": {
     "duration": 0.038835,
     "end_time": "2023-03-22T07:51:44.346170",
     "exception": false,
     "start_time": "2023-03-22T07:51:44.307335",
     "status": "completed"
    },
    "tags": []
   },
   "source": [
    "##### 2. What is/are the insight(s) found from the chart?"
   ]
  },
  {
   "cell_type": "markdown",
   "id": "e1236915",
   "metadata": {
    "id": "Xx8WAJvtYrdO",
    "papermill": {
     "duration": 0.038882,
     "end_time": "2023-03-22T07:51:44.424412",
     "exception": false,
     "start_time": "2023-03-22T07:51:44.385530",
     "status": "completed"
    },
    "tags": []
   },
   "source": [
    "Answer Here"
   ]
  },
  {
   "cell_type": "markdown",
   "id": "f47eb513",
   "metadata": {
    "id": "y-Ehk30pYrdP",
    "papermill": {
     "duration": 0.038802,
     "end_time": "2023-03-22T07:51:44.502364",
     "exception": false,
     "start_time": "2023-03-22T07:51:44.463562",
     "status": "completed"
    },
    "tags": []
   },
   "source": [
    "##### 3. Will the gained insights help creating a positive business impact? \n",
    "Are there any insights that lead to negative growth? Justify with specific reason."
   ]
  },
  {
   "cell_type": "markdown",
   "id": "78c06e36",
   "metadata": {
    "id": "jLNxxz7MYrdP",
    "papermill": {
     "duration": 0.038996,
     "end_time": "2023-03-22T07:51:44.580492",
     "exception": false,
     "start_time": "2023-03-22T07:51:44.541496",
     "status": "completed"
    },
    "tags": []
   },
   "source": [
    "Answer Here"
   ]
  },
  {
   "cell_type": "markdown",
   "id": "a9881dcb",
   "metadata": {
    "id": "bamQiAODYuh1",
    "papermill": {
     "duration": 0.039232,
     "end_time": "2023-03-22T07:51:44.658841",
     "exception": false,
     "start_time": "2023-03-22T07:51:44.619609",
     "status": "completed"
    },
    "tags": []
   },
   "source": [
    "#### Chart - 5"
   ]
  },
  {
   "cell_type": "code",
   "execution_count": 30,
   "id": "8d669e3d",
   "metadata": {
    "execution": {
     "iopub.execute_input": "2023-03-22T07:51:44.740135Z",
     "iopub.status.busy": "2023-03-22T07:51:44.739300Z",
     "iopub.status.idle": "2023-03-22T07:51:44.803692Z",
     "shell.execute_reply": "2023-03-22T07:51:44.802791Z"
    },
    "id": "TIJwrbroYuh3",
    "papermill": {
     "duration": 0.107498,
     "end_time": "2023-03-22T07:51:44.805902",
     "exception": false,
     "start_time": "2023-03-22T07:51:44.698404",
     "status": "completed"
    },
    "tags": []
   },
   "outputs": [
    {
     "data": {
      "text/html": [
       "<div>\n",
       "<style scoped>\n",
       "    .dataframe tbody tr th:only-of-type {\n",
       "        vertical-align: middle;\n",
       "    }\n",
       "\n",
       "    .dataframe tbody tr th {\n",
       "        vertical-align: top;\n",
       "    }\n",
       "\n",
       "    .dataframe thead th {\n",
       "        text-align: right;\n",
       "    }\n",
       "</style>\n",
       "<table border=\"1\" class=\"dataframe\">\n",
       "  <thead>\n",
       "    <tr style=\"text-align: right;\">\n",
       "      <th>month</th>\n",
       "      <th>January</th>\n",
       "      <th>February</th>\n",
       "      <th>March</th>\n",
       "      <th>April</th>\n",
       "      <th>May</th>\n",
       "      <th>June</th>\n",
       "      <th>July</th>\n",
       "      <th>August</th>\n",
       "      <th>September</th>\n",
       "      <th>October</th>\n",
       "      <th>November</th>\n",
       "      <th>December</th>\n",
       "    </tr>\n",
       "    <tr>\n",
       "      <th>year</th>\n",
       "      <th></th>\n",
       "      <th></th>\n",
       "      <th></th>\n",
       "      <th></th>\n",
       "      <th></th>\n",
       "      <th></th>\n",
       "      <th></th>\n",
       "      <th></th>\n",
       "      <th></th>\n",
       "      <th></th>\n",
       "      <th></th>\n",
       "      <th></th>\n",
       "    </tr>\n",
       "  </thead>\n",
       "  <tbody>\n",
       "    <tr>\n",
       "      <th>2015</th>\n",
       "      <td>NaN</td>\n",
       "      <td>NaN</td>\n",
       "      <td>NaN</td>\n",
       "      <td>NaN</td>\n",
       "      <td>NaN</td>\n",
       "      <td>NaN</td>\n",
       "      <td>1517.0</td>\n",
       "      <td>2291.0</td>\n",
       "      <td>3020.0</td>\n",
       "      <td>3225.0</td>\n",
       "      <td>1854.0</td>\n",
       "      <td>1947.0</td>\n",
       "    </tr>\n",
       "    <tr>\n",
       "      <th>2016</th>\n",
       "      <td>1691.0</td>\n",
       "      <td>2554.0</td>\n",
       "      <td>3347.0</td>\n",
       "      <td>3367.0</td>\n",
       "      <td>3563.0</td>\n",
       "      <td>3196.0</td>\n",
       "      <td>3073.0</td>\n",
       "      <td>3238.0</td>\n",
       "      <td>3372.0</td>\n",
       "      <td>3689.0</td>\n",
       "      <td>2818.0</td>\n",
       "      <td>2462.0</td>\n",
       "    </tr>\n",
       "    <tr>\n",
       "      <th>2017</th>\n",
       "      <td>2431.0</td>\n",
       "      <td>2818.0</td>\n",
       "      <td>3298.0</td>\n",
       "      <td>3198.0</td>\n",
       "      <td>3551.0</td>\n",
       "      <td>3208.0</td>\n",
       "      <td>3329.0</td>\n",
       "      <td>3109.0</td>\n",
       "      <td>NaN</td>\n",
       "      <td>NaN</td>\n",
       "      <td>NaN</td>\n",
       "      <td>NaN</td>\n",
       "    </tr>\n",
       "  </tbody>\n",
       "</table>\n",
       "</div>"
      ],
      "text/plain": [
       "month  January  February   March   April     May    June    July  August  \\\n",
       "year                                                                       \n",
       "2015       NaN       NaN     NaN     NaN     NaN     NaN  1517.0  2291.0   \n",
       "2016    1691.0    2554.0  3347.0  3367.0  3563.0  3196.0  3073.0  3238.0   \n",
       "2017    2431.0    2818.0  3298.0  3198.0  3551.0  3208.0  3329.0  3109.0   \n",
       "\n",
       "month  September  October  November  December  \n",
       "year                                           \n",
       "2015      3020.0   3225.0    1854.0    1947.0  \n",
       "2016      3372.0   3689.0    2818.0    2462.0  \n",
       "2017         NaN      NaN       NaN       NaN  "
      ]
     },
     "execution_count": 30,
     "metadata": {},
     "output_type": "execute_result"
    }
   ],
   "source": [
    "# Chart - 5 visualization code\n",
    "\n",
    "# In which month do both of the hotels have the least/highest occupancy\n",
    "\n",
    "year_month_df= (hotels\n",
    "                .groupby([hotels[\"arrival_date\"].dt.year.rename(\"year\"), hotels[\"arrival_date\"].dt.month_name().rename(\"month\")])\n",
    "                .size()\n",
    "#                 .pipe(get_df, \"df_stacked\")\n",
    "                .unstack()\n",
    "#                 .fillna(0)\n",
    "                [months_days.months()]\n",
    "               )\n",
    "\n",
    "# year_month_df_unstack= year_month_df.unstack()\n",
    "year_month_df"
   ]
  },
  {
   "cell_type": "code",
   "execution_count": 31,
   "id": "b9ee610f",
   "metadata": {
    "execution": {
     "iopub.execute_input": "2023-03-22T07:51:44.889372Z",
     "iopub.status.busy": "2023-03-22T07:51:44.888639Z",
     "iopub.status.idle": "2023-03-22T07:51:45.477944Z",
     "shell.execute_reply": "2023-03-22T07:51:45.476773Z"
    },
    "papermill": {
     "duration": 0.635053,
     "end_time": "2023-03-22T07:51:45.480755",
     "exception": false,
     "start_time": "2023-03-22T07:51:44.845702",
     "status": "completed"
    },
    "tags": []
   },
   "outputs": [
    {
     "data": {
      "image/png": "[encoded data removed]",
      "text/plain": [
       "<Figure size 3000x1000 with 2 Axes>"
      ]
     },
     "metadata": {},
     "output_type": "display_data"
    }
   ],
   "source": [
    "fig= plt.figure(figsize= (30, 10))\n",
    "ax= sns.heatmap(year_month_df, cmap = \"viridis\", cbar_kws= {\"location\": \"left\"})\n",
    "\n",
    "ax.xaxis.set_label_position('top')\n",
    "ax.xaxis.set_ticks_position('top')\n",
    "\n",
    "cbar = ax.collections[0].colorbar\n",
    "cbar.set_ticks(range(int(year_month_df.min().min()), int(year_month_df.max().max()), 1000), fontsize= 20)\n",
    "cbar.set_label(\"Number of Check-Ins\", fontsize= 25)\n",
    "\n",
    "plt.xlabel(\"Months\", fontsize= 25)\n",
    "plt.xticks(fontsize= 20)\n",
    "plt.ylabel(\"Years\", fontsize= 25)\n",
    "plt.yticks(rotation=0, fontsize=  20)\n",
    "plt.title(\"Distribution of Check-Ins\\n\", fontsize= 30)\n",
    "plt.show()"
   ]
  },
  {
   "cell_type": "markdown",
   "id": "bc578985",
   "metadata": {
    "id": "QHF8YVU7Yuh3",
    "papermill": {
     "duration": 0.041296,
     "end_time": "2023-03-22T07:51:45.564251",
     "exception": false,
     "start_time": "2023-03-22T07:51:45.522955",
     "status": "completed"
    },
    "tags": []
   },
   "source": [
    "##### 1. Why did you pick the specific chart?"
   ]
  },
  {
   "cell_type": "markdown",
   "id": "77c43efc",
   "metadata": {
    "id": "dcxuIMRPYuh3",
    "papermill": {
     "duration": 0.041138,
     "end_time": "2023-03-22T07:51:45.646459",
     "exception": false,
     "start_time": "2023-03-22T07:51:45.605321",
     "status": "completed"
    },
    "tags": []
   },
   "source": [
    "Answer Here."
   ]
  },
  {
   "cell_type": "markdown",
   "id": "9d4dfccd",
   "metadata": {
    "id": "GwzvFGzlYuh3",
    "papermill": {
     "duration": 0.041382,
     "end_time": "2023-03-22T07:51:45.729741",
     "exception": false,
     "start_time": "2023-03-22T07:51:45.688359",
     "status": "completed"
    },
    "tags": []
   },
   "source": [
    "##### 2. What is/are the insight(s) found from the chart?"
   ]
  },
  {
   "cell_type": "markdown",
   "id": "89e6697e",
   "metadata": {
    "id": "uyqkiB8YYuh3",
    "papermill": {
     "duration": 0.040875,
     "end_time": "2023-03-22T07:51:45.813337",
     "exception": false,
     "start_time": "2023-03-22T07:51:45.772462",
     "status": "completed"
    },
    "tags": []
   },
   "source": [
    "Answer Here"
   ]
  },
  {
   "cell_type": "markdown",
   "id": "a4c54ad5",
   "metadata": {
    "id": "qYpmQ266Yuh3",
    "papermill": {
     "duration": 0.041763,
     "end_time": "2023-03-22T07:51:45.896182",
     "exception": false,
     "start_time": "2023-03-22T07:51:45.854419",
     "status": "completed"
    },
    "tags": []
   },
   "source": [
    "##### 3. Will the gained insights help creating a positive business impact? \n",
    "Are there any insights that lead to negative growth? Justify with specific reason."
   ]
  },
  {
   "cell_type": "markdown",
   "id": "4bf53115",
   "metadata": {
    "id": "_WtzZ_hCYuh4",
    "papermill": {
     "duration": 0.040889,
     "end_time": "2023-03-22T07:51:45.978114",
     "exception": false,
     "start_time": "2023-03-22T07:51:45.937225",
     "status": "completed"
    },
    "tags": []
   },
   "source": [
    "Answer Here"
   ]
  },
  {
   "cell_type": "markdown",
   "id": "17ad6347",
   "metadata": {
    "id": "OH-pJp9IphqM",
    "papermill": {
     "duration": 0.040682,
     "end_time": "2023-03-22T07:51:46.059657",
     "exception": false,
     "start_time": "2023-03-22T07:51:46.018975",
     "status": "completed"
    },
    "tags": []
   },
   "source": [
    "#### Chart - 6"
   ]
  },
  {
   "cell_type": "code",
   "execution_count": 32,
   "id": "3dd683f8",
   "metadata": {
    "execution": {
     "iopub.execute_input": "2023-03-22T07:51:46.143671Z",
     "iopub.status.busy": "2023-03-22T07:51:46.142872Z",
     "iopub.status.idle": "2023-03-22T07:51:46.158475Z",
     "shell.execute_reply": "2023-03-22T07:51:46.157358Z"
    },
    "id": "kuRf4wtuphqN",
    "papermill": {
     "duration": 0.060582,
     "end_time": "2023-03-22T07:51:46.160994",
     "exception": false,
     "start_time": "2023-03-22T07:51:46.100412",
     "status": "completed"
    },
    "tags": []
   },
   "outputs": [
    {
     "data": {
      "text/html": [
       "<div>\n",
       "<style scoped>\n",
       "    .dataframe tbody tr th:only-of-type {\n",
       "        vertical-align: middle;\n",
       "    }\n",
       "\n",
       "    .dataframe tbody tr th {\n",
       "        vertical-align: top;\n",
       "    }\n",
       "\n",
       "    .dataframe thead th {\n",
       "        text-align: right;\n",
       "    }\n",
       "</style>\n",
       "<table border=\"1\" class=\"dataframe\">\n",
       "  <thead>\n",
       "    <tr style=\"text-align: right;\">\n",
       "      <th></th>\n",
       "      <th>meal</th>\n",
       "      <th>size</th>\n",
       "      <th>proportion</th>\n",
       "    </tr>\n",
       "  </thead>\n",
       "  <tbody>\n",
       "    <tr>\n",
       "      <th>0</th>\n",
       "      <td>FB</td>\n",
       "      <td>320</td>\n",
       "      <td>0</td>\n",
       "    </tr>\n",
       "    <tr>\n",
       "      <th>1</th>\n",
       "      <td>Undefined</td>\n",
       "      <td>883</td>\n",
       "      <td>1</td>\n",
       "    </tr>\n",
       "    <tr>\n",
       "      <th>2</th>\n",
       "      <td>SC</td>\n",
       "      <td>6684</td>\n",
       "      <td>9</td>\n",
       "    </tr>\n",
       "    <tr>\n",
       "      <th>3</th>\n",
       "      <td>HB</td>\n",
       "      <td>9479</td>\n",
       "      <td>13</td>\n",
       "    </tr>\n",
       "    <tr>\n",
       "      <th>4</th>\n",
       "      <td>BB</td>\n",
       "      <td>57800</td>\n",
       "      <td>77</td>\n",
       "    </tr>\n",
       "  </tbody>\n",
       "</table>\n",
       "</div>"
      ],
      "text/plain": [
       "        meal   size  proportion\n",
       "0         FB    320           0\n",
       "1  Undefined    883           1\n",
       "2         SC   6684           9\n",
       "3         HB   9479          13\n",
       "4         BB  57800          77"
      ]
     },
     "execution_count": 32,
     "metadata": {},
     "output_type": "execute_result"
    }
   ],
   "source": [
    "# Chart - 6 visualization code\n",
    "\n",
    "#Most preferred meal plan\n",
    "\n",
    "#preparing the dataset to be used for the visualization\n",
    "meal_df= (hotels\n",
    "          .groupby(\"meal\", as_index= False)\n",
    "          .size()\n",
    "          .pipe(proportion_func)\n",
    "#           .assign(proportion= lambda row: proportion(hotels[\"size\"]))\n",
    "          .sort_values(\"proportion\", ignore_index= True)\n",
    "#           .sort_values(\"proportion\", ascending= False)\n",
    "#           .pipe(remove_small_segments_func, \"proportion\", 0)\n",
    "         )\n",
    "# meal_df[\"proportion\"]= meal_df\n",
    "# meal_df= meal_df.sort_values(\"proportion\").reset_index(drop= True)\n",
    "# meal_df= meal_df.sort_values(\"proportion\", ascending= False)\n",
    "meal_df"
   ]
  },
  {
   "cell_type": "code",
   "execution_count": 33,
   "id": "f731aec4",
   "metadata": {
    "execution": {
     "iopub.execute_input": "2023-03-22T07:51:46.245427Z",
     "iopub.status.busy": "2023-03-22T07:51:46.245004Z",
     "iopub.status.idle": "2023-03-22T07:51:46.754526Z",
     "shell.execute_reply": "2023-03-22T07:51:46.753318Z"
    },
    "papermill": {
     "duration": 0.554707,
     "end_time": "2023-03-22T07:51:46.757194",
     "exception": false,
     "start_time": "2023-03-22T07:51:46.202487",
     "status": "completed"
    },
    "tags": []
   },
   "outputs": [
    {
     "data": {
      "image/png": "[encoded data removed]",
      "text/plain": [
       "<Figure size 2500x2000 with 2 Axes>"
      ]
     },
     "metadata": {},
     "output_type": "display_data"
    }
   ],
   "source": [
    "#waffle chart showing the distribution of meal plans opted by customers\n",
    "\n",
    "x= np.array([])\n",
    "for i, row in meal_df[::-1].iterrows():\n",
    "    x= np.append(x, np.repeat(i, row[\"proportion\"]))\n",
    "x= x.reshape((10,10))\n",
    "\n",
    "n= len(meal_df)\n",
    "color_palette = sns.color_palette(\"viridis_r\", n) \n",
    "\n",
    "\n",
    "fig= plt.figure(figsize= (25, 20))\n",
    "ax= sns.heatmap(x, cmap = color_palette, vmin= 0, vmax= 4, linewidths= 0.9, cbar_kws= {\"location\": \"left\"})\n",
    "\n",
    "#designating color codes to meal types\n",
    "cbar= ax.collections[0].colorbar\n",
    "\n",
    "r= cbar.vmax - cbar.vmin \n",
    "cbar.set_ticks([cbar.vmin + r / n * (0.5 + i) for i in range(n)])\n",
    "cbar.set_ticklabels(meal_df[\"meal\"], fontsize= 20)\n",
    "\n",
    "#adding title an removing axis\n",
    "plt.title(\"Distribution of Meal Plans\", fontsize= 50, pad =10)\n",
    "plt.axis(False)\n",
    "plt.show()"
   ]
  },
  {
   "cell_type": "markdown",
   "id": "3513c9c1",
   "metadata": {
    "id": "bbFf2-_FphqN",
    "papermill": {
     "duration": 0.041713,
     "end_time": "2023-03-22T07:51:46.840863",
     "exception": false,
     "start_time": "2023-03-22T07:51:46.799150",
     "status": "completed"
    },
    "tags": []
   },
   "source": [
    "##### 1. Why did you pick the specific chart?"
   ]
  },
  {
   "cell_type": "markdown",
   "id": "09c10582",
   "metadata": {
    "id": "loh7H2nzphqN",
    "papermill": {
     "duration": 0.042062,
     "end_time": "2023-03-22T07:51:46.926079",
     "exception": false,
     "start_time": "2023-03-22T07:51:46.884017",
     "status": "completed"
    },
    "tags": []
   },
   "source": [
    "Answer Here."
   ]
  },
  {
   "cell_type": "markdown",
   "id": "4ac69cf3",
   "metadata": {
    "id": "_ouA3fa0phqN",
    "papermill": {
     "duration": 0.040999,
     "end_time": "2023-03-22T07:51:47.008676",
     "exception": false,
     "start_time": "2023-03-22T07:51:46.967677",
     "status": "completed"
    },
    "tags": []
   },
   "source": [
    "##### 2. What is/are the insight(s) found from the chart?"
   ]
  },
  {
   "cell_type": "markdown",
   "id": "c757ff7e",
   "metadata": {
    "id": "VECbqPI7phqN",
    "papermill": {
     "duration": 0.041185,
     "end_time": "2023-03-22T07:51:47.091432",
     "exception": false,
     "start_time": "2023-03-22T07:51:47.050247",
     "status": "completed"
    },
    "tags": []
   },
   "source": [
    "Answer Here"
   ]
  },
  {
   "cell_type": "markdown",
   "id": "3dee595d",
   "metadata": {
    "id": "Seke61FWphqN",
    "papermill": {
     "duration": 0.041222,
     "end_time": "2023-03-22T07:51:47.174185",
     "exception": false,
     "start_time": "2023-03-22T07:51:47.132963",
     "status": "completed"
    },
    "tags": []
   },
   "source": [
    "##### 3. Will the gained insights help creating a positive business impact? \n",
    "Are there any insights that lead to negative growth? Justify with specific reason."
   ]
  },
  {
   "cell_type": "markdown",
   "id": "ae782bfa",
   "metadata": {
    "id": "DW4_bGpfphqN",
    "papermill": {
     "duration": 0.041566,
     "end_time": "2023-03-22T07:51:47.257300",
     "exception": false,
     "start_time": "2023-03-22T07:51:47.215734",
     "status": "completed"
    },
    "tags": []
   },
   "source": [
    "Answer Here"
   ]
  },
  {
   "cell_type": "markdown",
   "id": "a864ec84",
   "metadata": {
    "id": "PIIx-8_IphqN",
    "papermill": {
     "duration": 0.040928,
     "end_time": "2023-03-22T07:51:47.339419",
     "exception": false,
     "start_time": "2023-03-22T07:51:47.298491",
     "status": "completed"
    },
    "tags": []
   },
   "source": [
    "#### Chart - 7"
   ]
  },
  {
   "cell_type": "code",
   "execution_count": 34,
   "id": "1adfba81",
   "metadata": {
    "execution": {
     "iopub.execute_input": "2023-03-22T07:51:47.424364Z",
     "iopub.status.busy": "2023-03-22T07:51:47.423208Z",
     "iopub.status.idle": "2023-03-22T07:51:47.445884Z",
     "shell.execute_reply": "2023-03-22T07:51:47.445017Z"
    },
    "id": "lqAIGUfyphqO",
    "papermill": {
     "duration": 0.067581,
     "end_time": "2023-03-22T07:51:47.448122",
     "exception": false,
     "start_time": "2023-03-22T07:51:47.380541",
     "status": "completed"
    },
    "tags": []
   },
   "outputs": [
    {
     "data": {
      "text/html": [
       "<div>\n",
       "<style scoped>\n",
       "    .dataframe tbody tr th:only-of-type {\n",
       "        vertical-align: middle;\n",
       "    }\n",
       "\n",
       "    .dataframe tbody tr th {\n",
       "        vertical-align: top;\n",
       "    }\n",
       "\n",
       "    .dataframe thead th {\n",
       "        text-align: right;\n",
       "    }\n",
       "</style>\n",
       "<table border=\"1\" class=\"dataframe\">\n",
       "  <thead>\n",
       "    <tr style=\"text-align: right;\">\n",
       "      <th></th>\n",
       "      <th>mean_spending</th>\n",
       "    </tr>\n",
       "    <tr>\n",
       "      <th>customer_type</th>\n",
       "      <th></th>\n",
       "    </tr>\n",
       "  </thead>\n",
       "  <tbody>\n",
       "    <tr>\n",
       "      <th>Contract</th>\n",
       "      <td>527.69</td>\n",
       "    </tr>\n",
       "    <tr>\n",
       "      <th>Group</th>\n",
       "      <td>238.14</td>\n",
       "    </tr>\n",
       "    <tr>\n",
       "      <th>Transient</th>\n",
       "      <td>364.09</td>\n",
       "    </tr>\n",
       "    <tr>\n",
       "      <th>Transient-Party</th>\n",
       "      <td>269.83</td>\n",
       "    </tr>\n",
       "  </tbody>\n",
       "</table>\n",
       "</div>"
      ],
      "text/plain": [
       "                 mean_spending\n",
       "customer_type                 \n",
       "Contract                527.69\n",
       "Group                   238.14\n",
       "Transient               364.09\n",
       "Transient-Party         269.83"
      ]
     },
     "execution_count": 34,
     "metadata": {},
     "output_type": "execute_result"
    }
   ],
   "source": [
    "# Chart - 7 visualization code\n",
    "\n",
    "#which distribution drives in the most revenue\n",
    "\n",
    "revenue= (hotels\n",
    "          [[\"customer_type\", \"adr\", \"stays_in_weekend_nights\", \"stays_in_week_nights\"]]\n",
    "          .assign(total_nights_spent= lambda df_: df_[\"stays_in_weekend_nights\"]+ df_[\"stays_in_week_nights\"], \n",
    "                  total_revenue= lambda df_: df_[\"total_nights_spent\"]* df_[\"adr\"])\n",
    "          .groupby(\"customer_type\")\n",
    "          \n",
    "          .agg(mean_spending= (\"total_revenue\", np.mean))\n",
    "          .assign(mean_spending= lambda df_: round(df_[\"mean_spending\"], 2))\n",
    "#           .assign(mean_spending= round())\n",
    ")\n",
    "revenue"
   ]
  },
  {
   "cell_type": "code",
   "execution_count": 35,
   "id": "583c0761",
   "metadata": {
    "execution": {
     "iopub.execute_input": "2023-03-22T07:51:47.535716Z",
     "iopub.status.busy": "2023-03-22T07:51:47.535259Z",
     "iopub.status.idle": "2023-03-22T07:51:47.805045Z",
     "shell.execute_reply": "2023-03-22T07:51:47.804063Z"
    },
    "papermill": {
     "duration": 0.317152,
     "end_time": "2023-03-22T07:51:47.807895",
     "exception": false,
     "start_time": "2023-03-22T07:51:47.490743",
     "status": "completed"
    },
    "tags": []
   },
   "outputs": [
    {
     "data": {
      "image/png": "[encoded data removed]",
      "text/plain": [
       "<Figure size 1000x1000 with 1 Axes>"
      ]
     },
     "metadata": {},
     "output_type": "display_data"
    }
   ],
   "source": [
    "#boxplot\n",
    "\n",
    "fig= plt.figure(figsize= (10, 10))\n",
    "\n",
    "sns.boxplot(data= hotels, x= \"customer_type\", y= \"adr\")\n",
    "\n",
    "plt.show()"
   ]
  },
  {
   "cell_type": "markdown",
   "id": "ae0bab53",
   "metadata": {
    "id": "t27r6nlMphqO",
    "papermill": {
     "duration": 0.042102,
     "end_time": "2023-03-22T07:51:47.893145",
     "exception": false,
     "start_time": "2023-03-22T07:51:47.851043",
     "status": "completed"
    },
    "tags": []
   },
   "source": [
    "##### 1. Why did you pick the specific chart?"
   ]
  },
  {
   "cell_type": "markdown",
   "id": "a38cac7d",
   "metadata": {
    "id": "iv6ro40sphqO",
    "papermill": {
     "duration": 0.041576,
     "end_time": "2023-03-22T07:51:47.977576",
     "exception": false,
     "start_time": "2023-03-22T07:51:47.936000",
     "status": "completed"
    },
    "tags": []
   },
   "source": [
    "Answer Here."
   ]
  },
  {
   "cell_type": "markdown",
   "id": "46be0552",
   "metadata": {
    "id": "r2jJGEOYphqO",
    "papermill": {
     "duration": 0.042277,
     "end_time": "2023-03-22T07:51:48.061763",
     "exception": false,
     "start_time": "2023-03-22T07:51:48.019486",
     "status": "completed"
    },
    "tags": []
   },
   "source": [
    "##### 2. What is/are the insight(s) found from the chart?"
   ]
  },
  {
   "cell_type": "markdown",
   "id": "f4866b28",
   "metadata": {
    "id": "Po6ZPi4hphqO",
    "papermill": {
     "duration": 0.041886,
     "end_time": "2023-03-22T07:51:48.145898",
     "exception": false,
     "start_time": "2023-03-22T07:51:48.104012",
     "status": "completed"
    },
    "tags": []
   },
   "source": [
    "Answer Here"
   ]
  },
  {
   "cell_type": "markdown",
   "id": "da02c45c",
   "metadata": {
    "id": "b0JNsNcRphqO",
    "papermill": {
     "duration": 0.042023,
     "end_time": "2023-03-22T07:51:48.231405",
     "exception": false,
     "start_time": "2023-03-22T07:51:48.189382",
     "status": "completed"
    },
    "tags": []
   },
   "source": [
    "##### 3. Will the gained insights help creating a positive business impact? \n",
    "Are there any insights that lead to negative growth? Justify with specific reason."
   ]
  },
  {
   "cell_type": "markdown",
   "id": "4d413fc8",
   "metadata": {
    "id": "xvSq8iUTphqO",
    "papermill": {
     "duration": 0.041632,
     "end_time": "2023-03-22T07:51:48.315238",
     "exception": false,
     "start_time": "2023-03-22T07:51:48.273606",
     "status": "completed"
    },
    "tags": []
   },
   "source": [
    "Answer Here"
   ]
  },
  {
   "cell_type": "markdown",
   "id": "da911efe",
   "metadata": {
    "id": "BZR9WyysphqO",
    "papermill": {
     "duration": 0.041656,
     "end_time": "2023-03-22T07:51:48.399025",
     "exception": false,
     "start_time": "2023-03-22T07:51:48.357369",
     "status": "completed"
    },
    "tags": []
   },
   "source": [
    "#### Chart - 8"
   ]
  },
  {
   "cell_type": "code",
   "execution_count": 36,
   "id": "760f9d46",
   "metadata": {
    "execution": {
     "iopub.execute_input": "2023-03-22T07:51:48.485566Z",
     "iopub.status.busy": "2023-03-22T07:51:48.484879Z",
     "iopub.status.idle": "2023-03-22T07:51:48.488887Z",
     "shell.execute_reply": "2023-03-22T07:51:48.488072Z"
    },
    "id": "TdPTWpAVphqO",
    "papermill": {
     "duration": 0.05008,
     "end_time": "2023-03-22T07:51:48.491099",
     "exception": false,
     "start_time": "2023-03-22T07:51:48.441019",
     "status": "completed"
    },
    "tags": []
   },
   "outputs": [],
   "source": [
    "# Chart - 8 visualization code"
   ]
  },
  {
   "cell_type": "markdown",
   "id": "ea437a9a",
   "metadata": {
    "id": "jj7wYXLtphqO",
    "papermill": {
     "duration": 0.044446,
     "end_time": "2023-03-22T07:51:48.581409",
     "exception": false,
     "start_time": "2023-03-22T07:51:48.536963",
     "status": "completed"
    },
    "tags": []
   },
   "source": [
    "##### 1. Why did you pick the specific chart?"
   ]
  },
  {
   "cell_type": "markdown",
   "id": "19d7b847",
   "metadata": {
    "id": "Ob8u6rCTphqO",
    "papermill": {
     "duration": 0.041868,
     "end_time": "2023-03-22T07:51:48.665360",
     "exception": false,
     "start_time": "2023-03-22T07:51:48.623492",
     "status": "completed"
    },
    "tags": []
   },
   "source": [
    "Answer Here."
   ]
  },
  {
   "cell_type": "markdown",
   "id": "7c584128",
   "metadata": {
    "id": "eZrbJ2SmphqO",
    "papermill": {
     "duration": 0.042538,
     "end_time": "2023-03-22T07:51:48.751537",
     "exception": false,
     "start_time": "2023-03-22T07:51:48.708999",
     "status": "completed"
    },
    "tags": []
   },
   "source": [
    "##### 2. What is/are the insight(s) found from the chart?"
   ]
  },
  {
   "cell_type": "markdown",
   "id": "078c6796",
   "metadata": {
    "id": "mZtgC_hjphqO",
    "papermill": {
     "duration": 0.042703,
     "end_time": "2023-03-22T07:51:48.836834",
     "exception": false,
     "start_time": "2023-03-22T07:51:48.794131",
     "status": "completed"
    },
    "tags": []
   },
   "source": [
    "Answer Here"
   ]
  },
  {
   "cell_type": "markdown",
   "id": "79340f84",
   "metadata": {
    "id": "rFu4xreNphqO",
    "papermill": {
     "duration": 0.043106,
     "end_time": "2023-03-22T07:51:48.922879",
     "exception": false,
     "start_time": "2023-03-22T07:51:48.879773",
     "status": "completed"
    },
    "tags": []
   },
   "source": [
    "##### 3. Will the gained insights help creating a positive business impact? \n",
    "Are there any insights that lead to negative growth? Justify with specific reason."
   ]
  },
  {
   "cell_type": "markdown",
   "id": "4cb15ba7",
   "metadata": {
    "id": "ey_0qi68phqO",
    "papermill": {
     "duration": 0.04271,
     "end_time": "2023-03-22T07:51:49.008987",
     "exception": false,
     "start_time": "2023-03-22T07:51:48.966277",
     "status": "completed"
    },
    "tags": []
   },
   "source": [
    "Answer Here"
   ]
  },
  {
   "cell_type": "markdown",
   "id": "c58851ee",
   "metadata": {
    "id": "YJ55k-q6phqO",
    "papermill": {
     "duration": 0.0425,
     "end_time": "2023-03-22T07:51:49.094322",
     "exception": false,
     "start_time": "2023-03-22T07:51:49.051822",
     "status": "completed"
    },
    "tags": []
   },
   "source": [
    "#### Chart - 9"
   ]
  },
  {
   "cell_type": "code",
   "execution_count": 37,
   "id": "57160e96",
   "metadata": {
    "execution": {
     "iopub.execute_input": "2023-03-22T07:51:49.183468Z",
     "iopub.status.busy": "2023-03-22T07:51:49.182166Z",
     "iopub.status.idle": "2023-03-22T07:51:49.188572Z",
     "shell.execute_reply": "2023-03-22T07:51:49.186920Z"
    },
    "id": "B2aS4O1ophqO",
    "papermill": {
     "duration": 0.054282,
     "end_time": "2023-03-22T07:51:49.191825",
     "exception": false,
     "start_time": "2023-03-22T07:51:49.137543",
     "status": "completed"
    },
    "tags": []
   },
   "outputs": [],
   "source": [
    "# Chart - 9 visualization code"
   ]
  },
  {
   "cell_type": "markdown",
   "id": "7bc71266",
   "metadata": {
    "id": "gCFgpxoyphqP",
    "papermill": {
     "duration": 0.046289,
     "end_time": "2023-03-22T07:51:49.290040",
     "exception": false,
     "start_time": "2023-03-22T07:51:49.243751",
     "status": "completed"
    },
    "tags": []
   },
   "source": [
    "##### 1. Why did you pick the specific chart?"
   ]
  },
  {
   "cell_type": "markdown",
   "id": "b2589bfb",
   "metadata": {
    "id": "TVxDimi2phqP",
    "papermill": {
     "duration": 0.042421,
     "end_time": "2023-03-22T07:51:49.375526",
     "exception": false,
     "start_time": "2023-03-22T07:51:49.333105",
     "status": "completed"
    },
    "tags": []
   },
   "source": [
    "Answer Here."
   ]
  },
  {
   "cell_type": "markdown",
   "id": "c89c0ac0",
   "metadata": {
    "id": "OVtJsKN_phqQ",
    "papermill": {
     "duration": 0.042133,
     "end_time": "2023-03-22T07:51:49.460436",
     "exception": false,
     "start_time": "2023-03-22T07:51:49.418303",
     "status": "completed"
    },
    "tags": []
   },
   "source": [
    "##### 2. What is/are the insight(s) found from the chart?"
   ]
  },
  {
   "cell_type": "markdown",
   "id": "f72d984f",
   "metadata": {
    "id": "ngGi97qjphqQ",
    "papermill": {
     "duration": 0.041875,
     "end_time": "2023-03-22T07:51:49.545113",
     "exception": false,
     "start_time": "2023-03-22T07:51:49.503238",
     "status": "completed"
    },
    "tags": []
   },
   "source": [
    "Answer Here"
   ]
  },
  {
   "cell_type": "markdown",
   "id": "e16e2543",
   "metadata": {
    "id": "lssrdh5qphqQ",
    "papermill": {
     "duration": 0.041475,
     "end_time": "2023-03-22T07:51:49.628767",
     "exception": false,
     "start_time": "2023-03-22T07:51:49.587292",
     "status": "completed"
    },
    "tags": []
   },
   "source": [
    "##### 3. Will the gained insights help creating a positive business impact? \n",
    "Are there any insights that lead to negative growth? Justify with specific reason."
   ]
  },
  {
   "cell_type": "markdown",
   "id": "2505e5a4",
   "metadata": {
    "id": "tBpY5ekJphqQ",
    "papermill": {
     "duration": 0.041695,
     "end_time": "2023-03-22T07:51:49.712445",
     "exception": false,
     "start_time": "2023-03-22T07:51:49.670750",
     "status": "completed"
    },
    "tags": []
   },
   "source": [
    "Answer Here"
   ]
  },
  {
   "cell_type": "markdown",
   "id": "37ba3c20",
   "metadata": {
    "id": "U2RJ9gkRphqQ",
    "papermill": {
     "duration": 0.042026,
     "end_time": "2023-03-22T07:51:49.796734",
     "exception": false,
     "start_time": "2023-03-22T07:51:49.754708",
     "status": "completed"
    },
    "tags": []
   },
   "source": [
    "#### Chart - 10"
   ]
  },
  {
   "cell_type": "code",
   "execution_count": 38,
   "id": "af2a09c4",
   "metadata": {
    "execution": {
     "iopub.execute_input": "2023-03-22T07:51:49.884928Z",
     "iopub.status.busy": "2023-03-22T07:51:49.883967Z",
     "iopub.status.idle": "2023-03-22T07:51:49.888870Z",
     "shell.execute_reply": "2023-03-22T07:51:49.887811Z"
    },
    "id": "GM7a4YP4phqQ",
    "papermill": {
     "duration": 0.051565,
     "end_time": "2023-03-22T07:51:49.891022",
     "exception": false,
     "start_time": "2023-03-22T07:51:49.839457",
     "status": "completed"
    },
    "tags": []
   },
   "outputs": [],
   "source": [
    "# Chart - 10 visualization code"
   ]
  },
  {
   "cell_type": "markdown",
   "id": "922ed81e",
   "metadata": {
    "id": "1M8mcRywphqQ",
    "papermill": {
     "duration": 0.042558,
     "end_time": "2023-03-22T07:51:49.975766",
     "exception": false,
     "start_time": "2023-03-22T07:51:49.933208",
     "status": "completed"
    },
    "tags": []
   },
   "source": [
    "##### 1. Why did you pick the specific chart?"
   ]
  },
  {
   "cell_type": "markdown",
   "id": "4de2cbfa",
   "metadata": {
    "id": "8agQvks0phqQ",
    "papermill": {
     "duration": 0.044061,
     "end_time": "2023-03-22T07:51:50.062339",
     "exception": false,
     "start_time": "2023-03-22T07:51:50.018278",
     "status": "completed"
    },
    "tags": []
   },
   "source": [
    "Answer Here."
   ]
  },
  {
   "cell_type": "markdown",
   "id": "d2da9b33",
   "metadata": {
    "id": "tgIPom80phqQ",
    "papermill": {
     "duration": 0.042111,
     "end_time": "2023-03-22T07:51:50.146821",
     "exception": false,
     "start_time": "2023-03-22T07:51:50.104710",
     "status": "completed"
    },
    "tags": []
   },
   "source": [
    "##### 2. What is/are the insight(s) found from the chart?"
   ]
  },
  {
   "cell_type": "markdown",
   "id": "b44e8ef4",
   "metadata": {
    "id": "Qp13pnNzphqQ",
    "papermill": {
     "duration": 0.042178,
     "end_time": "2023-03-22T07:51:50.231083",
     "exception": false,
     "start_time": "2023-03-22T07:51:50.188905",
     "status": "completed"
    },
    "tags": []
   },
   "source": [
    "Answer Here"
   ]
  },
  {
   "cell_type": "markdown",
   "id": "9bd54dbb",
   "metadata": {
    "id": "JMzcOPDDphqR",
    "papermill": {
     "duration": 0.042007,
     "end_time": "2023-03-22T07:51:50.315422",
     "exception": false,
     "start_time": "2023-03-22T07:51:50.273415",
     "status": "completed"
    },
    "tags": []
   },
   "source": [
    "##### 3. Will the gained insights help creating a positive business impact? \n",
    "Are there any insights that lead to negative growth? Justify with specific reason."
   ]
  },
  {
   "cell_type": "markdown",
   "id": "7e20de44",
   "metadata": {
    "id": "R4Ka1PC2phqR",
    "papermill": {
     "duration": 0.041965,
     "end_time": "2023-03-22T07:51:50.399534",
     "exception": false,
     "start_time": "2023-03-22T07:51:50.357569",
     "status": "completed"
    },
    "tags": []
   },
   "source": [
    "Answer Here"
   ]
  },
  {
   "cell_type": "markdown",
   "id": "c93b1728",
   "metadata": {
    "id": "x-EpHcCOp1ci",
    "papermill": {
     "duration": 0.041871,
     "end_time": "2023-03-22T07:51:50.483814",
     "exception": false,
     "start_time": "2023-03-22T07:51:50.441943",
     "status": "completed"
    },
    "tags": []
   },
   "source": [
    "#### Chart - 11"
   ]
  },
  {
   "cell_type": "code",
   "execution_count": 39,
   "id": "409ca46c",
   "metadata": {
    "execution": {
     "iopub.execute_input": "2023-03-22T07:51:50.570783Z",
     "iopub.status.busy": "2023-03-22T07:51:50.570337Z",
     "iopub.status.idle": "2023-03-22T07:51:50.574925Z",
     "shell.execute_reply": "2023-03-22T07:51:50.573802Z"
    },
    "id": "mAQTIvtqp1cj",
    "papermill": {
     "duration": 0.051222,
     "end_time": "2023-03-22T07:51:50.577426",
     "exception": false,
     "start_time": "2023-03-22T07:51:50.526204",
     "status": "completed"
    },
    "tags": []
   },
   "outputs": [],
   "source": [
    "# Chart - 11 visualization code"
   ]
  },
  {
   "cell_type": "markdown",
   "id": "173c1374",
   "metadata": {
    "id": "X_VqEhTip1ck",
    "papermill": {
     "duration": 0.042732,
     "end_time": "2023-03-22T07:51:50.664436",
     "exception": false,
     "start_time": "2023-03-22T07:51:50.621704",
     "status": "completed"
    },
    "tags": []
   },
   "source": [
    "##### 1. Why did you pick the specific chart?"
   ]
  },
  {
   "cell_type": "markdown",
   "id": "da7f12ed",
   "metadata": {
    "id": "-vsMzt_np1ck",
    "papermill": {
     "duration": 0.042058,
     "end_time": "2023-03-22T07:51:50.748977",
     "exception": false,
     "start_time": "2023-03-22T07:51:50.706919",
     "status": "completed"
    },
    "tags": []
   },
   "source": [
    "Answer Here."
   ]
  },
  {
   "cell_type": "markdown",
   "id": "297fb439",
   "metadata": {
    "id": "8zGJKyg5p1ck",
    "papermill": {
     "duration": 0.042191,
     "end_time": "2023-03-22T07:51:50.833553",
     "exception": false,
     "start_time": "2023-03-22T07:51:50.791362",
     "status": "completed"
    },
    "tags": []
   },
   "source": [
    "##### 2. What is/are the insight(s) found from the chart?"
   ]
  },
  {
   "cell_type": "markdown",
   "id": "13009169",
   "metadata": {
    "id": "ZYdMsrqVp1ck",
    "papermill": {
     "duration": 0.04242,
     "end_time": "2023-03-22T07:51:50.918872",
     "exception": false,
     "start_time": "2023-03-22T07:51:50.876452",
     "status": "completed"
    },
    "tags": []
   },
   "source": [
    "Answer Here"
   ]
  },
  {
   "cell_type": "markdown",
   "id": "b9b8375f",
   "metadata": {
    "id": "PVzmfK_Ep1ck",
    "papermill": {
     "duration": 0.042158,
     "end_time": "2023-03-22T07:51:51.003764",
     "exception": false,
     "start_time": "2023-03-22T07:51:50.961606",
     "status": "completed"
    },
    "tags": []
   },
   "source": [
    "##### 3. Will the gained insights help creating a positive business impact? \n",
    "Are there any insights that lead to negative growth? Justify with specific reason."
   ]
  },
  {
   "cell_type": "markdown",
   "id": "92160836",
   "metadata": {
    "id": "druuKYZpp1ck",
    "papermill": {
     "duration": 0.041859,
     "end_time": "2023-03-22T07:51:51.088015",
     "exception": false,
     "start_time": "2023-03-22T07:51:51.046156",
     "status": "completed"
    },
    "tags": []
   },
   "source": [
    "Answer Here"
   ]
  },
  {
   "cell_type": "markdown",
   "id": "8a48d57f",
   "metadata": {
    "id": "n3dbpmDWp1ck",
    "papermill": {
     "duration": 0.042086,
     "end_time": "2023-03-22T07:51:51.172519",
     "exception": false,
     "start_time": "2023-03-22T07:51:51.130433",
     "status": "completed"
    },
    "tags": []
   },
   "source": [
    "#### Chart - 12"
   ]
  },
  {
   "cell_type": "code",
   "execution_count": 40,
   "id": "0510e3a4",
   "metadata": {
    "execution": {
     "iopub.execute_input": "2023-03-22T07:51:51.259787Z",
     "iopub.status.busy": "2023-03-22T07:51:51.259347Z",
     "iopub.status.idle": "2023-03-22T07:51:51.263369Z",
     "shell.execute_reply": "2023-03-22T07:51:51.262542Z"
    },
    "id": "bwevp1tKp1ck",
    "papermill": {
     "duration": 0.05066,
     "end_time": "2023-03-22T07:51:51.265656",
     "exception": false,
     "start_time": "2023-03-22T07:51:51.214996",
     "status": "completed"
    },
    "tags": []
   },
   "outputs": [],
   "source": [
    "# Chart - 12 visualization code"
   ]
  },
  {
   "cell_type": "markdown",
   "id": "6812560f",
   "metadata": {
    "id": "ylSl6qgtp1ck",
    "papermill": {
     "duration": 0.042,
     "end_time": "2023-03-22T07:51:51.350244",
     "exception": false,
     "start_time": "2023-03-22T07:51:51.308244",
     "status": "completed"
    },
    "tags": []
   },
   "source": [
    "##### 1. Why did you pick the specific chart?"
   ]
  },
  {
   "cell_type": "markdown",
   "id": "314576b0",
   "metadata": {
    "id": "m2xqNkiQp1ck",
    "papermill": {
     "duration": 0.042342,
     "end_time": "2023-03-22T07:51:51.434696",
     "exception": false,
     "start_time": "2023-03-22T07:51:51.392354",
     "status": "completed"
    },
    "tags": []
   },
   "source": [
    "Answer Here."
   ]
  },
  {
   "cell_type": "markdown",
   "id": "ec3053a0",
   "metadata": {
    "id": "ZWILFDl5p1ck",
    "papermill": {
     "duration": 0.042203,
     "end_time": "2023-03-22T07:51:51.519362",
     "exception": false,
     "start_time": "2023-03-22T07:51:51.477159",
     "status": "completed"
    },
    "tags": []
   },
   "source": [
    "##### 2. What is/are the insight(s) found from the chart?"
   ]
  },
  {
   "cell_type": "markdown",
   "id": "63fb5905",
   "metadata": {
    "id": "x-lUsV2mp1ck",
    "papermill": {
     "duration": 0.042305,
     "end_time": "2023-03-22T07:51:51.603996",
     "exception": false,
     "start_time": "2023-03-22T07:51:51.561691",
     "status": "completed"
    },
    "tags": []
   },
   "source": [
    "Answer Here"
   ]
  },
  {
   "cell_type": "markdown",
   "id": "1e087c67",
   "metadata": {
    "id": "M7G43BXep1ck",
    "papermill": {
     "duration": 0.04266,
     "end_time": "2023-03-22T07:51:51.690804",
     "exception": false,
     "start_time": "2023-03-22T07:51:51.648144",
     "status": "completed"
    },
    "tags": []
   },
   "source": [
    "##### 3. Will the gained insights help creating a positive business impact? \n",
    "Are there any insights that lead to negative growth? Justify with specific reason."
   ]
  },
  {
   "cell_type": "markdown",
   "id": "1b12421f",
   "metadata": {
    "id": "5wwDJXsLp1cl",
    "papermill": {
     "duration": 0.042689,
     "end_time": "2023-03-22T07:51:51.775893",
     "exception": false,
     "start_time": "2023-03-22T07:51:51.733204",
     "status": "completed"
    },
    "tags": []
   },
   "source": [
    "Answer Here"
   ]
  },
  {
   "cell_type": "markdown",
   "id": "fb7e8ccc",
   "metadata": {
    "id": "Ag9LCva-p1cl",
    "papermill": {
     "duration": 0.04226,
     "end_time": "2023-03-22T07:51:51.861268",
     "exception": false,
     "start_time": "2023-03-22T07:51:51.819008",
     "status": "completed"
    },
    "tags": []
   },
   "source": [
    "#### Chart - 13"
   ]
  },
  {
   "cell_type": "code",
   "execution_count": 41,
   "id": "c892e675",
   "metadata": {
    "execution": {
     "iopub.execute_input": "2023-03-22T07:51:51.949746Z",
     "iopub.status.busy": "2023-03-22T07:51:51.948984Z",
     "iopub.status.idle": "2023-03-22T07:51:51.953076Z",
     "shell.execute_reply": "2023-03-22T07:51:51.952233Z"
    },
    "id": "EUfxeq9-p1cl",
    "papermill": {
     "duration": 0.05017,
     "end_time": "2023-03-22T07:51:51.955175",
     "exception": false,
     "start_time": "2023-03-22T07:51:51.905005",
     "status": "completed"
    },
    "tags": []
   },
   "outputs": [],
   "source": [
    "# Chart - 13 visualization code"
   ]
  },
  {
   "cell_type": "markdown",
   "id": "294d21bd",
   "metadata": {
    "id": "E6MkPsBcp1cl",
    "papermill": {
     "duration": 0.041959,
     "end_time": "2023-03-22T07:51:52.040291",
     "exception": false,
     "start_time": "2023-03-22T07:51:51.998332",
     "status": "completed"
    },
    "tags": []
   },
   "source": [
    "##### 1. Why did you pick the specific chart?"
   ]
  },
  {
   "cell_type": "markdown",
   "id": "b1107b22",
   "metadata": {
    "id": "V22bRsFWp1cl",
    "papermill": {
     "duration": 0.042425,
     "end_time": "2023-03-22T07:51:52.125393",
     "exception": false,
     "start_time": "2023-03-22T07:51:52.082968",
     "status": "completed"
    },
    "tags": []
   },
   "source": [
    "Answer Here."
   ]
  },
  {
   "cell_type": "markdown",
   "id": "eb73ef81",
   "metadata": {
    "id": "2cELzS2fp1cl",
    "papermill": {
     "duration": 0.042013,
     "end_time": "2023-03-22T07:51:52.209918",
     "exception": false,
     "start_time": "2023-03-22T07:51:52.167905",
     "status": "completed"
    },
    "tags": []
   },
   "source": [
    "##### 2. What is/are the insight(s) found from the chart?"
   ]
  },
  {
   "cell_type": "markdown",
   "id": "d9951af2",
   "metadata": {
    "id": "ozQPc2_Ip1cl",
    "papermill": {
     "duration": 0.041848,
     "end_time": "2023-03-22T07:51:52.294303",
     "exception": false,
     "start_time": "2023-03-22T07:51:52.252455",
     "status": "completed"
    },
    "tags": []
   },
   "source": [
    "Answer Here"
   ]
  },
  {
   "cell_type": "markdown",
   "id": "b60e344e",
   "metadata": {
    "id": "3MPXvC8up1cl",
    "papermill": {
     "duration": 0.041648,
     "end_time": "2023-03-22T07:51:52.378201",
     "exception": false,
     "start_time": "2023-03-22T07:51:52.336553",
     "status": "completed"
    },
    "tags": []
   },
   "source": [
    "##### 3. Will the gained insights help creating a positive business impact? \n",
    "Are there any insights that lead to negative growth? Justify with specific reason."
   ]
  },
  {
   "cell_type": "markdown",
   "id": "97daf3d8",
   "metadata": {
    "id": "GL8l1tdLp1cl",
    "papermill": {
     "duration": 0.041761,
     "end_time": "2023-03-22T07:51:52.462003",
     "exception": false,
     "start_time": "2023-03-22T07:51:52.420242",
     "status": "completed"
    },
    "tags": []
   },
   "source": [
    "Answer Here"
   ]
  },
  {
   "cell_type": "markdown",
   "id": "b08ddf00",
   "metadata": {
    "id": "NC_X3p0fY2L0",
    "papermill": {
     "duration": 0.041754,
     "end_time": "2023-03-22T07:51:52.545815",
     "exception": false,
     "start_time": "2023-03-22T07:51:52.504061",
     "status": "completed"
    },
    "tags": []
   },
   "source": [
    "#### Chart - 14 - Correlation Heatmap"
   ]
  },
  {
   "cell_type": "code",
   "execution_count": 42,
   "id": "a79ffa9c",
   "metadata": {
    "execution": {
     "iopub.execute_input": "2023-03-22T07:51:52.632599Z",
     "iopub.status.busy": "2023-03-22T07:51:52.631790Z",
     "iopub.status.idle": "2023-03-22T07:51:52.636035Z",
     "shell.execute_reply": "2023-03-22T07:51:52.635114Z"
    },
    "id": "xyC9zolEZNRQ",
    "papermill": {
     "duration": 0.05034,
     "end_time": "2023-03-22T07:51:52.638293",
     "exception": false,
     "start_time": "2023-03-22T07:51:52.587953",
     "status": "completed"
    },
    "tags": []
   },
   "outputs": [],
   "source": [
    "# Correlation Heatmap visualization code"
   ]
  },
  {
   "cell_type": "markdown",
   "id": "5d6ca02d",
   "metadata": {
    "id": "UV0SzAkaZNRQ",
    "papermill": {
     "duration": 0.043468,
     "end_time": "2023-03-22T07:51:52.725445",
     "exception": false,
     "start_time": "2023-03-22T07:51:52.681977",
     "status": "completed"
    },
    "tags": []
   },
   "source": [
    "##### 1. Why did you pick the specific chart?"
   ]
  },
  {
   "cell_type": "markdown",
   "id": "e8e36e45",
   "metadata": {
    "id": "DVPuT8LYZNRQ",
    "papermill": {
     "duration": 0.043191,
     "end_time": "2023-03-22T07:51:52.811899",
     "exception": false,
     "start_time": "2023-03-22T07:51:52.768708",
     "status": "completed"
    },
    "tags": []
   },
   "source": [
    "Answer Here."
   ]
  },
  {
   "cell_type": "markdown",
   "id": "3c03e5f5",
   "metadata": {
    "id": "YPEH6qLeZNRQ",
    "papermill": {
     "duration": 0.043173,
     "end_time": "2023-03-22T07:51:52.897984",
     "exception": false,
     "start_time": "2023-03-22T07:51:52.854811",
     "status": "completed"
    },
    "tags": []
   },
   "source": [
    "##### 2. What is/are the insight(s) found from the chart?"
   ]
  },
  {
   "cell_type": "markdown",
   "id": "ebf067ba",
   "metadata": {
    "id": "bfSqtnDqZNRR",
    "papermill": {
     "duration": 0.042948,
     "end_time": "2023-03-22T07:51:52.984456",
     "exception": false,
     "start_time": "2023-03-22T07:51:52.941508",
     "status": "completed"
    },
    "tags": []
   },
   "source": [
    "Answer Here"
   ]
  },
  {
   "cell_type": "markdown",
   "id": "b9b28745",
   "metadata": {
    "id": "q29F0dvdveiT",
    "papermill": {
     "duration": 0.042399,
     "end_time": "2023-03-22T07:51:53.070510",
     "exception": false,
     "start_time": "2023-03-22T07:51:53.028111",
     "status": "completed"
    },
    "tags": []
   },
   "source": [
    "#### Chart - 15 - Pair Plot "
   ]
  },
  {
   "cell_type": "code",
   "execution_count": 43,
   "id": "2aff541e",
   "metadata": {
    "execution": {
     "iopub.execute_input": "2023-03-22T07:51:53.159462Z",
     "iopub.status.busy": "2023-03-22T07:51:53.158683Z",
     "iopub.status.idle": "2023-03-22T07:51:53.162870Z",
     "shell.execute_reply": "2023-03-22T07:51:53.161969Z"
    },
    "id": "o58-TEIhveiU",
    "papermill": {
     "duration": 0.051043,
     "end_time": "2023-03-22T07:51:53.165030",
     "exception": false,
     "start_time": "2023-03-22T07:51:53.113987",
     "status": "completed"
    },
    "tags": []
   },
   "outputs": [],
   "source": [
    "# Pair Plot visualization code"
   ]
  },
  {
   "cell_type": "markdown",
   "id": "fca063ee",
   "metadata": {
    "id": "EXh0U9oCveiU",
    "papermill": {
     "duration": 0.04205,
     "end_time": "2023-03-22T07:51:53.249648",
     "exception": false,
     "start_time": "2023-03-22T07:51:53.207598",
     "status": "completed"
    },
    "tags": []
   },
   "source": [
    "##### 1. Why did you pick the specific chart?"
   ]
  },
  {
   "cell_type": "markdown",
   "id": "5e234df0",
   "metadata": {
    "id": "eMmPjTByveiU",
    "papermill": {
     "duration": 0.043358,
     "end_time": "2023-03-22T07:51:53.335989",
     "exception": false,
     "start_time": "2023-03-22T07:51:53.292631",
     "status": "completed"
    },
    "tags": []
   },
   "source": [
    "Answer Here."
   ]
  },
  {
   "cell_type": "markdown",
   "id": "5651b620",
   "metadata": {
    "id": "22aHeOlLveiV",
    "papermill": {
     "duration": 0.043104,
     "end_time": "2023-03-22T07:51:53.422801",
     "exception": false,
     "start_time": "2023-03-22T07:51:53.379697",
     "status": "completed"
    },
    "tags": []
   },
   "source": [
    "##### 2. What is/are the insight(s) found from the chart?"
   ]
  },
  {
   "cell_type": "markdown",
   "id": "818b5c0c",
   "metadata": {
    "id": "uPQ8RGwHveiV",
    "papermill": {
     "duration": 0.043053,
     "end_time": "2023-03-22T07:51:53.508880",
     "exception": false,
     "start_time": "2023-03-22T07:51:53.465827",
     "status": "completed"
    },
    "tags": []
   },
   "source": [
    "Answer Here"
   ]
  },
  {
   "cell_type": "markdown",
   "id": "668fce06",
   "metadata": {
    "id": "JcMwzZxoAimU",
    "papermill": {
     "duration": 0.042086,
     "end_time": "2023-03-22T07:51:53.593852",
     "exception": false,
     "start_time": "2023-03-22T07:51:53.551766",
     "status": "completed"
    },
    "tags": []
   },
   "source": [
    "## **5. Solution to Business Objective**"
   ]
  },
  {
   "cell_type": "markdown",
   "id": "1f88213f",
   "metadata": {
    "id": "8G2x9gOozGDZ",
    "papermill": {
     "duration": 0.042924,
     "end_time": "2023-03-22T07:51:53.679295",
     "exception": false,
     "start_time": "2023-03-22T07:51:53.636371",
     "status": "completed"
    },
    "tags": []
   },
   "source": [
    "#### What do you suggest the client to achieve Business Objective ? \n",
    "Explain Briefly."
   ]
  },
  {
   "cell_type": "markdown",
   "id": "37ecdf52",
   "metadata": {
    "id": "pASKb0qOza21",
    "papermill": {
     "duration": 0.042033,
     "end_time": "2023-03-22T07:51:53.763946",
     "exception": false,
     "start_time": "2023-03-22T07:51:53.721913",
     "status": "completed"
    },
    "tags": []
   },
   "source": [
    "Answer Here."
   ]
  },
  {
   "cell_type": "markdown",
   "id": "6f0dcba8",
   "metadata": {
    "id": "gCX9965dhzqZ",
    "papermill": {
     "duration": 0.04231,
     "end_time": "2023-03-22T07:51:53.848655",
     "exception": false,
     "start_time": "2023-03-22T07:51:53.806345",
     "status": "completed"
    },
    "tags": []
   },
   "source": [
    "# **Conclusion**"
   ]
  },
  {
   "cell_type": "markdown",
   "id": "ace500cf",
   "metadata": {
    "id": "Fjb1IsQkh3yE",
    "papermill": {
     "duration": 0.041952,
     "end_time": "2023-03-22T07:51:53.933215",
     "exception": false,
     "start_time": "2023-03-22T07:51:53.891263",
     "status": "completed"
    },
    "tags": []
   },
   "source": [
    "Write the conclusion here."
   ]
  },
  {
   "cell_type": "markdown",
   "id": "67102c75",
   "metadata": {
    "id": "gIfDvo9L0UH2",
    "papermill": {
     "duration": 0.042112,
     "end_time": "2023-03-22T07:51:54.017262",
     "exception": false,
     "start_time": "2023-03-22T07:51:53.975150",
     "status": "completed"
    },
    "tags": []
   },
   "source": [
    "### ***Hurrah! You have successfully completed your EDA Capstone Project !!!***"
   ]
  }
 ],
 "metadata": {
  "kernelspec": {
   "display_name": "Python 3",
   "language": "python",
   "name": "python3"
  },
  "language_info": {
   "codemirror_mode": {
    "name": "ipython",
    "version": 3
   },
   "file_extension": ".py",
   "mimetype": "text/x-python",
   "name": "python",
   "nbconvert_exporter": "python",
   "pygments_lexer": "ipython3",
   "version": "3.7.12"
  },
  "papermill": {
   "default_parameters": {},
   "duration": 36.254667,
   "end_time": "2023-03-22T07:51:54.983209",
   "environment_variables": {},
   "exception": null,
   "input_path": "__notebook__.ipynb",
   "output_path": "__notebook__.ipynb",
   "parameters": {},
   "start_time": "2023-03-22T07:51:18.728542",
   "version": "2.4.0"
  }
 },
 "nbformat": 4,
 "nbformat_minor": 5
}
